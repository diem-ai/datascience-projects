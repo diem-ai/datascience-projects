{
  "nbformat": 4,
  "nbformat_minor": 0,
  "metadata": {
    "colab": {
      "name": "HybridRecommendationModel.ipynb",
      "version": "0.3.2",
      "provenance": [],
      "collapsed_sections": [],
      "toc_visible": true,
      "include_colab_link": true
    },
    "language_info": {
      "codemirror_mode": {
        "name": "ipython",
        "version": 3
      },
      "file_extension": ".py",
      "mimetype": "text/x-python",
      "name": "python",
      "nbconvert_exporter": "python",
      "pygments_lexer": "ipython3",
      "version": "3.7.0"
    },
    "kernelspec": {
      "name": "python3",
      "display_name": "Python 3"
    },
    "accelerator": "GPU"
  },
  "cells": [
    {
      "cell_type": "markdown",
      "metadata": {
        "id": "view-in-github",
        "colab_type": "text"
      },
      "source": [
        "<a href=\"https://colab.research.google.com/github/diem-ai/movie-recommender/blob/master/HybridRecommendationModel.ipynb\" target=\"_parent\"><img src=\"https://colab.research.google.com/assets/colab-badge.svg\" alt=\"Open In Colab\"/></a>"
      ]
    },
    {
      "metadata": {
        "id": "j9SOpXd7Psg1",
        "colab_type": "code",
        "outputId": "426c0803-75ac-49ea-e519-0ed14a9b8254",
        "colab": {
          "base_uri": "https://localhost:8080/",
          "height": 125
        }
      },
      "cell_type": "code",
      "source": [
        "from google.colab import drive\n",
        "# This will prompt for authorization.\n",
        "# authorization code: 4/OwErfUj6QceGXhIGx_RWv0MKclb9rilw8UsJnZqFbSez-QS8zQ399JU\n",
        "drive.mount('/content/drive')\n",
        "\n",
        "#https://drive.google.com/open?id=1uGOD2rFYVL9mods0KIpU_oY2Ye6fl8KE"
      ],
      "execution_count": 2,
      "outputs": [
        {
          "output_type": "stream",
          "text": [
            "Go to this URL in a browser: https://accounts.google.com/o/oauth2/auth?client_id=947318989803-6bn6qk8qdgf4n4g3pfee6491hc0brc4i.apps.googleusercontent.com&redirect_uri=urn%3Aietf%3Awg%3Aoauth%3A2.0%3Aoob&scope=email%20https%3A%2F%2Fwww.googleapis.com%2Fauth%2Fdocs.test%20https%3A%2F%2Fwww.googleapis.com%2Fauth%2Fdrive%20https%3A%2F%2Fwww.googleapis.com%2Fauth%2Fdrive.photos.readonly%20https%3A%2F%2Fwww.googleapis.com%2Fauth%2Fpeopleapi.readonly&response_type=code\n",
            "\n",
            "Enter your authorization code:\n",
            "··········\n",
            "Mounted at /content/drive\n"
          ],
          "name": "stdout"
        }
      ]
    },
    {
      "metadata": {
        "id": "kV3tq6w7KVhf",
        "colab_type": "code",
        "outputId": "51c87a60-ed9e-434e-fbc6-ba7eb5b598ce",
        "colab": {
          "base_uri": "https://localhost:8080/",
          "height": 353
        }
      },
      "cell_type": "code",
      "source": [
        "\n",
        "!pip install PyDrive\n",
        "\n",
        "from pydrive.auth import GoogleAuth\n",
        "from pydrive.drive import GoogleDrive\n",
        "from google.colab import auth\n",
        "from oauth2client.client import GoogleCredentials\n",
        "\n",
        "auth.authenticate_user()\n",
        "gauth = GoogleAuth()\n",
        "gauth.credentials = GoogleCredentials.get_application_default()\n",
        "drive = GoogleDrive(gauth)\n",
        "\n",
        "\n",
        "\n"
      ],
      "execution_count": 3,
      "outputs": [
        {
          "output_type": "stream",
          "text": [
            "Collecting PyDrive\n",
            "\u001b[?25l  Downloading https://files.pythonhosted.org/packages/52/e0/0e64788e5dd58ce2d6934549676243dc69d982f198524be9b99e9c2a4fd5/PyDrive-1.3.1.tar.gz (987kB)\n",
            "\u001b[K     |████████████████████████████████| 993kB 2.8MB/s \n",
            "\u001b[?25hRequirement already satisfied: google-api-python-client>=1.2 in /usr/local/lib/python3.6/dist-packages (from PyDrive) (1.6.7)\n",
            "Requirement already satisfied: oauth2client>=4.0.0 in /usr/local/lib/python3.6/dist-packages (from PyDrive) (4.1.3)\n",
            "Requirement already satisfied: PyYAML>=3.0 in /usr/local/lib/python3.6/dist-packages (from PyDrive) (3.13)\n",
            "Requirement already satisfied: httplib2<1dev,>=0.9.2 in /usr/local/lib/python3.6/dist-packages (from google-api-python-client>=1.2->PyDrive) (0.11.3)\n",
            "Requirement already satisfied: six<2dev,>=1.6.1 in /usr/local/lib/python3.6/dist-packages (from google-api-python-client>=1.2->PyDrive) (1.12.0)\n",
            "Requirement already satisfied: uritemplate<4dev,>=3.0.0 in /usr/local/lib/python3.6/dist-packages (from google-api-python-client>=1.2->PyDrive) (3.0.0)\n",
            "Requirement already satisfied: pyasn1>=0.1.7 in /usr/local/lib/python3.6/dist-packages (from oauth2client>=4.0.0->PyDrive) (0.4.5)\n",
            "Requirement already satisfied: pyasn1-modules>=0.0.5 in /usr/local/lib/python3.6/dist-packages (from oauth2client>=4.0.0->PyDrive) (0.2.5)\n",
            "Requirement already satisfied: rsa>=3.1.4 in /usr/local/lib/python3.6/dist-packages (from oauth2client>=4.0.0->PyDrive) (4.0)\n",
            "Building wheels for collected packages: PyDrive\n",
            "  Building wheel for PyDrive (setup.py) ... \u001b[?25l\u001b[?25hdone\n",
            "  Stored in directory: /root/.cache/pip/wheels/fa/d2/9a/d3b6b506c2da98289e5d417215ce34b696db856643bad779f4\n",
            "Successfully built PyDrive\n",
            "Installing collected packages: PyDrive\n",
            "Successfully installed PyDrive-1.3.1\n"
          ],
          "name": "stdout"
        }
      ]
    },
    {
      "metadata": {
        "id": "hyNi72t7LJ2-",
        "colab_type": "code",
        "colab": {}
      },
      "cell_type": "code",
      "source": [
        "#https://drive.google.com/open?id=1uGOD2rFYVL9mods0KIpU_oY2Ye6fl8KE\n",
        "my_module = drive.CreateFile({'id':'1uGOD2rFYVL9mods0KIpU_oY2Ye6fl8KE'})\n",
        "my_module.GetContentFile('recommender.py')\n",
        "#your_module = drive.CreateFile({'id':'recommender'})\n",
        "#from google.colab import files\n",
        "#src = list(files.upload().values())[0]\n",
        "#open('recommender.py','wb').write(src)\n",
        "#import content.drive.My Drive.Test.recommender\n",
        "\n",
        "#https://drive.google.com/open?id=1uGOD2rFYVL9mods0KIpU_oY2Ye6fl8KE"
      ],
      "execution_count": 0,
      "outputs": []
    },
    {
      "metadata": {
        "id": "SqYOeIleUk-A",
        "colab_type": "code",
        "outputId": "6a36976b-bdd6-4638-83e2-7b2e9525ea11",
        "colab": {
          "base_uri": "https://localhost:8080/",
          "height": 193
        }
      },
      "cell_type": "code",
      "source": [
        "# Import library\n",
        "import pandas as pd\n",
        "from sklearn.feature_extraction.text import TfidfVectorizer\n",
        "from sklearn.decomposition import TruncatedSVD\n",
        "import json\n",
        "# Parse the stringified features into their corresponding python objects\n",
        "from ast import literal_eval\n",
        "import numpy as np\n",
        "import matplotlib.pyplot as plt\n",
        "from sklearn.metrics.pairwise import cosine_similarity\n",
        "import recommender\n",
        "from recommender import Utility as utility\n",
        "from recommender import Similarity as similarity\n",
        "import nltk\n",
        "nltk.download('punkt')\n",
        "nltk.download('stopwords')\n",
        "nltk.download('averaged_perceptron_tagger')\n",
        "nltk.download('wordnet')"
      ],
      "execution_count": 5,
      "outputs": [
        {
          "output_type": "stream",
          "text": [
            "[nltk_data] Downloading package punkt to /root/nltk_data...\n",
            "[nltk_data]   Unzipping tokenizers/punkt.zip.\n",
            "[nltk_data] Downloading package stopwords to /root/nltk_data...\n",
            "[nltk_data]   Unzipping corpora/stopwords.zip.\n",
            "[nltk_data] Downloading package averaged_perceptron_tagger to\n",
            "[nltk_data]     /root/nltk_data...\n",
            "[nltk_data]   Unzipping taggers/averaged_perceptron_tagger.zip.\n",
            "[nltk_data] Downloading package wordnet to /root/nltk_data...\n",
            "[nltk_data]   Unzipping corpora/wordnet.zip.\n"
          ],
          "name": "stdout"
        },
        {
          "output_type": "execute_result",
          "data": {
            "text/plain": [
              "True"
            ]
          },
          "metadata": {
            "tags": []
          },
          "execution_count": 5
        }
      ]
    },
    {
      "metadata": {
        "id": "5ZuzqFvGQ9PX",
        "colab_type": "code",
        "colab": {}
      },
      "cell_type": "code",
      "source": [
        "#!ls \"/content/drive/My Drive/Test\""
      ],
      "execution_count": 0,
      "outputs": []
    },
    {
      "metadata": {
        "id": "Pp5MNVdthlyR",
        "colab_type": "text"
      },
      "cell_type": "markdown",
      "source": [
        "#### 1. Reading data"
      ]
    },
    {
      "metadata": {
        "id": "hV5pxlrHUk-R",
        "colab_type": "code",
        "outputId": "fecc1934-f6b5-4a54-da30-9944648038ae",
        "colab": {
          "base_uri": "https://localhost:8080/",
          "height": 72
        }
      },
      "cell_type": "code",
      "source": [
        "# define function\n",
        "#p_ratings = pd.read_csv\"/content/drive/My Drive/Test/ratings.csv\") #pd.read_csv(\"https://raw.githubusercontent.com/diem-ai/colab4test/master/data/ratings_small.csv\")\n",
        "movies = pd.read_csv(\"/content/drive/My Drive/Test/movies_metadata.csv\")\n",
        "credits = pd.read_csv(\"/content/drive/My Drive/Test/credits.csv\")\n",
        "keywords = pd.read_csv(\"/content/drive/My Drive/Test/keywords.csv\")\n",
        "ratings = pd.read_csv(\"/content/drive/My Drive/Test/ratings.csv\")\n"
      ],
      "execution_count": 7,
      "outputs": [
        {
          "output_type": "stream",
          "text": [
            "/usr/local/lib/python3.6/dist-packages/IPython/core/interactiveshell.py:2718: DtypeWarning: Columns (10) have mixed types. Specify dtype option on import or set low_memory=False.\n",
            "  interactivity=interactivity, compiler=compiler, result=result)\n"
          ],
          "name": "stderr"
        }
      ]
    },
    {
      "metadata": {
        "id": "CQ-WwxGnMuvX",
        "colab_type": "code",
        "outputId": "e1eef790-e669-45ae-c8f0-a79f0e920bd1",
        "colab": {
          "base_uri": "https://localhost:8080/",
          "height": 140
        }
      },
      "cell_type": "code",
      "source": [
        "print(movies.columns)"
      ],
      "execution_count": 8,
      "outputs": [
        {
          "output_type": "stream",
          "text": [
            "Index(['adult', 'belongs_to_collection', 'budget', 'genres', 'homepage', 'id',\n",
            "       'imdb_id', 'original_language', 'original_title', 'overview',\n",
            "       'popularity', 'poster_path', 'production_companies',\n",
            "       'production_countries', 'release_date', 'revenue', 'runtime',\n",
            "       'spoken_languages', 'status', 'tagline', 'title', 'video',\n",
            "       'vote_average', 'vote_count'],\n",
            "      dtype='object')\n"
          ],
          "name": "stdout"
        }
      ]
    },
    {
      "metadata": {
        "id": "2HtSp6y_Pz3R",
        "colab_type": "code",
        "colab": {
          "base_uri": "https://localhost:8080/",
          "height": 193
        },
        "outputId": "b2282fe2-d5a4-491c-8367-b2d36da6834b"
      },
      "cell_type": "code",
      "source": [
        "print(credits.columns)\n",
        "print(credits.head(3))"
      ],
      "execution_count": 9,
      "outputs": [
        {
          "output_type": "stream",
          "text": [
            "Index(['cast', 'crew', 'id'], dtype='object')\n",
            "                                                cast  \\\n",
            "0  [{'cast_id': 14, 'character': 'Woody (voice)',...   \n",
            "1  [{'cast_id': 1, 'character': 'Alan Parrish', '...   \n",
            "2  [{'cast_id': 2, 'character': 'Max Goldman', 'c...   \n",
            "\n",
            "                                                crew     id  \n",
            "0  [{'credit_id': '52fe4284c3a36847f8024f49', 'de...    862  \n",
            "1  [{'credit_id': '52fe44bfc3a36847f80a7cd1', 'de...   8844  \n",
            "2  [{'credit_id': '52fe466a9251416c75077a89', 'de...  15602  \n"
          ],
          "name": "stdout"
        }
      ]
    },
    {
      "metadata": {
        "id": "B7qRaS88QAhL",
        "colab_type": "code",
        "colab": {
          "base_uri": "https://localhost:8080/",
          "height": 105
        },
        "outputId": "01b90670-6163-4590-da68-595826bda7b0"
      },
      "cell_type": "code",
      "source": [
        "print(keywords.columns)\n",
        "print(keywords.head(3))"
      ],
      "execution_count": 10,
      "outputs": [
        {
          "output_type": "stream",
          "text": [
            "Index(['id', 'keywords'], dtype='object')\n",
            "      id                                           keywords\n",
            "0    862  [{'id': 931, 'name': 'jealousy'}, {'id': 4290,...\n",
            "1   8844  [{'id': 10090, 'name': 'board game'}, {'id': 1...\n",
            "2  15602  [{'id': 1495, 'name': 'fishing'}, {'id': 12392...\n"
          ],
          "name": "stdout"
        }
      ]
    },
    {
      "metadata": {
        "id": "a0f7KcnbQQtA",
        "colab_type": "code",
        "colab": {
          "base_uri": "https://localhost:8080/",
          "height": 105
        },
        "outputId": "6e7b019a-1109-4ff0-9051-92a52fc195f6"
      },
      "cell_type": "code",
      "source": [
        "print(keywords.columns)\n",
        "print(keywords.head(3))"
      ],
      "execution_count": 11,
      "outputs": [
        {
          "output_type": "stream",
          "text": [
            "Index(['id', 'keywords'], dtype='object')\n",
            "      id                                           keywords\n",
            "0    862  [{'id': 931, 'name': 'jealousy'}, {'id': 4290,...\n",
            "1   8844  [{'id': 10090, 'name': 'board game'}, {'id': 1...\n",
            "2  15602  [{'id': 1495, 'name': 'fishing'}, {'id': 12392...\n"
          ],
          "name": "stdout"
        }
      ]
    },
    {
      "metadata": {
        "id": "4JWLg0lqQYvW",
        "colab_type": "code",
        "colab": {
          "base_uri": "https://localhost:8080/",
          "height": 105
        },
        "outputId": "38af05c0-a83c-48b2-952c-ffcc1e708dc7"
      },
      "cell_type": "code",
      "source": [
        "print(ratings.columns)\n",
        "print(ratings.head(3))"
      ],
      "execution_count": 12,
      "outputs": [
        {
          "output_type": "stream",
          "text": [
            "Index(['userId', 'movieId', 'rating', 'timestamp'], dtype='object')\n",
            "   userId  movieId  rating     timestamp\n",
            "0       1      110     1.0  1.425942e+09\n",
            "1       1      147     4.5  1.425942e+09\n",
            "2       1      858     5.0  1.425942e+09\n"
          ],
          "name": "stdout"
        }
      ]
    },
    {
      "metadata": {
        "id": "mHSLOQa9cnwd",
        "colab_type": "text"
      },
      "cell_type": "markdown",
      "source": [
        "#### 2. Preprocesing Data\n"
      ]
    },
    {
      "metadata": {
        "id": "gTYhUne_VFIQ",
        "colab_type": "code",
        "colab": {}
      },
      "cell_type": "code",
      "source": [
        "# Filter out invalid rows in movies dataset and convert id to interger type so that we can merge movies dataset with others\n",
        "\n",
        "movies = movies.drop(movies[movies['id']=='1997-08-20'].index)\n",
        "movies = movies.drop(movies[movies['id']=='2012-09-29'].index)\n",
        "movies = movies.drop(movies[movies['id']=='2014-01-01'].index)\n",
        "\n",
        "movies['id'] = movies['id'].astype(int)\n",
        "credits['id'] = credits['id'].astype(int)\n",
        "keywords['id'] = keywords['id'].astype(int)\n",
        "\n",
        "#movies[movies['id'] == '1997-08-20']\n",
        "#19730\n",
        "\n",
        "#movies['id'] = movies['id'].astype(int)"
      ],
      "execution_count": 0,
      "outputs": []
    },
    {
      "metadata": {
        "id": "YNYqo7v0SK0F",
        "colab_type": "text"
      },
      "cell_type": "markdown",
      "source": [
        "genres, cast, crew, keywords in movies, credits and keywords datasets are string json objects. We only take out relevant words for our recommendation model"
      ]
    },
    {
      "metadata": {
        "id": "D56zug8PceOe",
        "colab_type": "code",
        "colab": {}
      },
      "cell_type": "code",
      "source": [
        "# genres column is a json string object. We will take out genre values only.\n",
        "movies['genres'] = movies['genres'].apply(literal_eval)"
      ],
      "execution_count": 0,
      "outputs": []
    },
    {
      "metadata": {
        "id": "0dwTy_QLMhUj",
        "colab_type": "code",
        "colab": {}
      },
      "cell_type": "code",
      "source": [
        "credits['cast'] = credits['cast'].apply(lambda x : literal_eval(x))"
      ],
      "execution_count": 0,
      "outputs": []
    },
    {
      "metadata": {
        "id": "oNy7QHiJMj0e",
        "colab_type": "code",
        "colab": {}
      },
      "cell_type": "code",
      "source": [
        "credits['crew'] = credits['crew'].apply(lambda x : literal_eval(x))"
      ],
      "execution_count": 0,
      "outputs": []
    },
    {
      "metadata": {
        "id": "CQ17NQBqMleu",
        "colab_type": "code",
        "colab": {}
      },
      "cell_type": "code",
      "source": [
        "keywords['keywords'] = keywords['keywords'].apply(lambda x : literal_eval(x))"
      ],
      "execution_count": 0,
      "outputs": []
    },
    {
      "metadata": {
        "id": "vjU9K6mAdnYr",
        "colab_type": "code",
        "colab": {}
      },
      "cell_type": "code",
      "source": [
        "#get genre only\n",
        "movies['genres'] = movies['genres'].apply(lambda x : utility.get_genre(x))\n",
        "credits['cast'] = credits['cast'].apply(lambda x : utility.get_cast(x))\n",
        "credits['crew'] = credits['crew'].apply(lambda x : utility.get_cast(x))\n",
        "keywords['keywords'] = keywords['keywords'].apply(lambda x : utility.get_genre(x))\n",
        "keywords['keywords'] = utility.preprocess_series_text(keywords['keywords'])"
      ],
      "execution_count": 0,
      "outputs": []
    },
    {
      "metadata": {
        "id": "Tl-9GUSDTIc-",
        "colab_type": "text"
      },
      "cell_type": "markdown",
      "source": [
        "Revew above columns after processing"
      ]
    },
    {
      "metadata": {
        "id": "njmXHwBHQZuU",
        "colab_type": "code",
        "outputId": "c97df61f-37b0-45e4-8cb2-a527e540c190",
        "colab": {
          "base_uri": "https://localhost:8080/",
          "height": 284
        }
      },
      "cell_type": "code",
      "source": [
        "credits.head()"
      ],
      "execution_count": 19,
      "outputs": [
        {
          "output_type": "execute_result",
          "data": {
            "text/html": [
              "<div>\n",
              "<style scoped>\n",
              "    .dataframe tbody tr th:only-of-type {\n",
              "        vertical-align: middle;\n",
              "    }\n",
              "\n",
              "    .dataframe tbody tr th {\n",
              "        vertical-align: top;\n",
              "    }\n",
              "\n",
              "    .dataframe thead th {\n",
              "        text-align: right;\n",
              "    }\n",
              "</style>\n",
              "<table border=\"1\" class=\"dataframe\">\n",
              "  <thead>\n",
              "    <tr style=\"text-align: right;\">\n",
              "      <th></th>\n",
              "      <th>cast</th>\n",
              "      <th>crew</th>\n",
              "      <th>id</th>\n",
              "    </tr>\n",
              "  </thead>\n",
              "  <tbody>\n",
              "    <tr>\n",
              "      <th>0</th>\n",
              "      <td>tomhanks timallen donrickles jimvarney wallace...</td>\n",
              "      <td>johnlasseter josswhedon andrewstanton joelcohe...</td>\n",
              "      <td>862</td>\n",
              "    </tr>\n",
              "    <tr>\n",
              "      <th>1</th>\n",
              "      <td>robinwilliams jonathanhyde kirstendunst bradle...</td>\n",
              "      <td>larryj.franco jonathanhensleigh jameshorner jo...</td>\n",
              "      <td>8844</td>\n",
              "    </tr>\n",
              "    <tr>\n",
              "      <th>2</th>\n",
              "      <td>waltermatthau jacklemmon ann-margret sophialor...</td>\n",
              "      <td>howarddeutch markstevenjohnson markstevenjohns...</td>\n",
              "      <td>15602</td>\n",
              "    </tr>\n",
              "    <tr>\n",
              "      <th>3</th>\n",
              "      <td>whitneyhouston angelabassett lorettadevine lel...</td>\n",
              "      <td>forestwhitaker ronaldbass ronaldbass ezraswerd...</td>\n",
              "      <td>31357</td>\n",
              "    </tr>\n",
              "    <tr>\n",
              "      <th>4</th>\n",
              "      <td>stevemartin dianekeaton martinshort kimberlywi...</td>\n",
              "      <td>alansilvestri elliotdavis nancymeyers nancymey...</td>\n",
              "      <td>11862</td>\n",
              "    </tr>\n",
              "  </tbody>\n",
              "</table>\n",
              "</div>"
            ],
            "text/plain": [
              "                                                cast  \\\n",
              "0  tomhanks timallen donrickles jimvarney wallace...   \n",
              "1  robinwilliams jonathanhyde kirstendunst bradle...   \n",
              "2  waltermatthau jacklemmon ann-margret sophialor...   \n",
              "3  whitneyhouston angelabassett lorettadevine lel...   \n",
              "4  stevemartin dianekeaton martinshort kimberlywi...   \n",
              "\n",
              "                                                crew     id  \n",
              "0  johnlasseter josswhedon andrewstanton joelcohe...    862  \n",
              "1  larryj.franco jonathanhensleigh jameshorner jo...   8844  \n",
              "2  howarddeutch markstevenjohnson markstevenjohns...  15602  \n",
              "3  forestwhitaker ronaldbass ronaldbass ezraswerd...  31357  \n",
              "4  alansilvestri elliotdavis nancymeyers nancymey...  11862  "
            ]
          },
          "metadata": {
            "tags": []
          },
          "execution_count": 19
        }
      ]
    },
    {
      "metadata": {
        "id": "jIkHcZxVQhkT",
        "colab_type": "code",
        "outputId": "71b2b423-f2db-4ffd-c47c-3945a7b41295",
        "colab": {
          "base_uri": "https://localhost:8080/",
          "height": 199
        }
      },
      "cell_type": "code",
      "source": [
        "keywords.head()"
      ],
      "execution_count": 20,
      "outputs": [
        {
          "output_type": "execute_result",
          "data": {
            "text/html": [
              "<div>\n",
              "<style scoped>\n",
              "    .dataframe tbody tr th:only-of-type {\n",
              "        vertical-align: middle;\n",
              "    }\n",
              "\n",
              "    .dataframe tbody tr th {\n",
              "        vertical-align: top;\n",
              "    }\n",
              "\n",
              "    .dataframe thead th {\n",
              "        text-align: right;\n",
              "    }\n",
              "</style>\n",
              "<table border=\"1\" class=\"dataframe\">\n",
              "  <thead>\n",
              "    <tr style=\"text-align: right;\">\n",
              "      <th></th>\n",
              "      <th>id</th>\n",
              "      <th>keywords</th>\n",
              "    </tr>\n",
              "  </thead>\n",
              "  <tbody>\n",
              "    <tr>\n",
              "      <th>0</th>\n",
              "      <td>862</td>\n",
              "      <td>jealousy toy boy friendship friends rivalry bo...</td>\n",
              "    </tr>\n",
              "    <tr>\n",
              "      <th>1</th>\n",
              "      <td>8844</td>\n",
              "      <td>board game disappearance base child book new h...</td>\n",
              "    </tr>\n",
              "    <tr>\n",
              "      <th>2</th>\n",
              "      <td>15602</td>\n",
              "      <td>fish best friend duringcreditsstinger old men</td>\n",
              "    </tr>\n",
              "    <tr>\n",
              "      <th>3</th>\n",
              "      <td>31357</td>\n",
              "      <td>base novel interracial relationship single mot...</td>\n",
              "    </tr>\n",
              "    <tr>\n",
              "      <th>4</th>\n",
              "      <td>11862</td>\n",
              "      <td>baby midlife crisis confidence age daughter mo...</td>\n",
              "    </tr>\n",
              "  </tbody>\n",
              "</table>\n",
              "</div>"
            ],
            "text/plain": [
              "      id                                           keywords\n",
              "0    862  jealousy toy boy friendship friends rivalry bo...\n",
              "1   8844  board game disappearance base child book new h...\n",
              "2  15602      fish best friend duringcreditsstinger old men\n",
              "3  31357  base novel interracial relationship single mot...\n",
              "4  11862  baby midlife crisis confidence age daughter mo..."
            ]
          },
          "metadata": {
            "tags": []
          },
          "execution_count": 20
        }
      ]
    },
    {
      "metadata": {
        "id": "0QEOJ2v5UOJV",
        "colab_type": "code",
        "outputId": "c27e4613-011b-43d0-fb3a-fbb853f0122c",
        "colab": {
          "base_uri": "https://localhost:8080/",
          "height": 139
        }
      },
      "cell_type": "code",
      "source": [
        "movies[['id','title', 'genres', 'vote_count', 'vote_average']].head(3)"
      ],
      "execution_count": 21,
      "outputs": [
        {
          "output_type": "execute_result",
          "data": {
            "text/html": [
              "<div>\n",
              "<style scoped>\n",
              "    .dataframe tbody tr th:only-of-type {\n",
              "        vertical-align: middle;\n",
              "    }\n",
              "\n",
              "    .dataframe tbody tr th {\n",
              "        vertical-align: top;\n",
              "    }\n",
              "\n",
              "    .dataframe thead th {\n",
              "        text-align: right;\n",
              "    }\n",
              "</style>\n",
              "<table border=\"1\" class=\"dataframe\">\n",
              "  <thead>\n",
              "    <tr style=\"text-align: right;\">\n",
              "      <th></th>\n",
              "      <th>id</th>\n",
              "      <th>title</th>\n",
              "      <th>genres</th>\n",
              "      <th>vote_count</th>\n",
              "      <th>vote_average</th>\n",
              "    </tr>\n",
              "  </thead>\n",
              "  <tbody>\n",
              "    <tr>\n",
              "      <th>0</th>\n",
              "      <td>862</td>\n",
              "      <td>Toy Story</td>\n",
              "      <td>animation comedy family</td>\n",
              "      <td>5415.0</td>\n",
              "      <td>7.7</td>\n",
              "    </tr>\n",
              "    <tr>\n",
              "      <th>1</th>\n",
              "      <td>8844</td>\n",
              "      <td>Jumanji</td>\n",
              "      <td>adventure fantasy family</td>\n",
              "      <td>2413.0</td>\n",
              "      <td>6.9</td>\n",
              "    </tr>\n",
              "    <tr>\n",
              "      <th>2</th>\n",
              "      <td>15602</td>\n",
              "      <td>Grumpier Old Men</td>\n",
              "      <td>romance comedy</td>\n",
              "      <td>92.0</td>\n",
              "      <td>6.5</td>\n",
              "    </tr>\n",
              "  </tbody>\n",
              "</table>\n",
              "</div>"
            ],
            "text/plain": [
              "      id             title                    genres  vote_count  vote_average\n",
              "0    862         Toy Story   animation comedy family      5415.0           7.7\n",
              "1   8844           Jumanji  adventure fantasy family      2413.0           6.9\n",
              "2  15602  Grumpier Old Men            romance comedy        92.0           6.5"
            ]
          },
          "metadata": {
            "tags": []
          },
          "execution_count": 21
        }
      ]
    },
    {
      "metadata": {
        "id": "xijhml-JEyAw",
        "colab_type": "code",
        "colab": {}
      },
      "cell_type": "code",
      "source": [
        "# Save processed movies dataset for evaluation purpose\n",
        "p_movies = movies[['id', 'title', 'genres', 'vote_count', 'vote_average']]\n",
        "p_movies.to_csv('/content/drive/My Drive/Test/normalised_movies.csv', index=True, header=True)"
      ],
      "execution_count": 0,
      "outputs": []
    },
    {
      "metadata": {
        "id": "WLPpRqv0TW1R",
        "colab_type": "text"
      },
      "cell_type": "markdown",
      "source": [
        "#### 3 . Building collaborative filtering mode by combing movies and ratings dataset. The system generated uses only information about rating profiles for different users on items."
      ]
    },
    {
      "metadata": {
        "id": "6hh_O6IbT0aw",
        "colab_type": "code",
        "colab": {}
      },
      "cell_type": "code",
      "source": [
        "ratings = ratings[['userId', 'movieId', 'rating']].merge(movies[['id', 'title', 'genres', 'vote_count', 'vote_average']], left_on='movieId', right_on='id', how='left')"
      ],
      "execution_count": 0,
      "outputs": []
    },
    {
      "metadata": {
        "id": "bzMvJIvvUrzz",
        "colab_type": "code",
        "colab": {
          "base_uri": "https://localhost:8080/",
          "height": 335
        },
        "outputId": "637a9838-df0d-4137-bca8-47728e4243de"
      },
      "cell_type": "code",
      "source": [
        "# see 5 top items after merging\n",
        "ratings = ratings.sort_values(by=['vote_average'], ascending=False)\n",
        "ratings.head()"
      ],
      "execution_count": 23,
      "outputs": [
        {
          "output_type": "execute_result",
          "data": {
            "text/html": [
              "<div>\n",
              "<style scoped>\n",
              "    .dataframe tbody tr th:only-of-type {\n",
              "        vertical-align: middle;\n",
              "    }\n",
              "\n",
              "    .dataframe tbody tr th {\n",
              "        vertical-align: top;\n",
              "    }\n",
              "\n",
              "    .dataframe thead th {\n",
              "        text-align: right;\n",
              "    }\n",
              "</style>\n",
              "<table border=\"1\" class=\"dataframe\">\n",
              "  <thead>\n",
              "    <tr style=\"text-align: right;\">\n",
              "      <th></th>\n",
              "      <th>userId</th>\n",
              "      <th>movieId</th>\n",
              "      <th>rating</th>\n",
              "      <th>id</th>\n",
              "      <th>title</th>\n",
              "      <th>genres</th>\n",
              "      <th>vote_count</th>\n",
              "      <th>vote_average</th>\n",
              "    </tr>\n",
              "  </thead>\n",
              "  <tbody>\n",
              "    <tr>\n",
              "      <th>10752969</th>\n",
              "      <td>111010</td>\n",
              "      <td>73183</td>\n",
              "      <td>4.0</td>\n",
              "      <td>73183.0</td>\n",
              "      <td>The Haunted World of Edward D. Wood, Jr.</td>\n",
              "      <td>documentary</td>\n",
              "      <td>1.0</td>\n",
              "      <td>10.0</td>\n",
              "    </tr>\n",
              "    <tr>\n",
              "      <th>11199893</th>\n",
              "      <td>116004</td>\n",
              "      <td>72178</td>\n",
              "      <td>2.5</td>\n",
              "      <td>72178.0</td>\n",
              "      <td>One Night Only</td>\n",
              "      <td>comedy</td>\n",
              "      <td>1.0</td>\n",
              "      <td>10.0</td>\n",
              "    </tr>\n",
              "    <tr>\n",
              "      <th>7973523</th>\n",
              "      <td>82193</td>\n",
              "      <td>5731</td>\n",
              "      <td>5.0</td>\n",
              "      <td>5731.0</td>\n",
              "      <td>Summer City</td>\n",
              "      <td>thriller drama</td>\n",
              "      <td>1.0</td>\n",
              "      <td>10.0</td>\n",
              "    </tr>\n",
              "    <tr>\n",
              "      <th>6843597</th>\n",
              "      <td>70648</td>\n",
              "      <td>5731</td>\n",
              "      <td>4.0</td>\n",
              "      <td>5731.0</td>\n",
              "      <td>Summer City</td>\n",
              "      <td>thriller drama</td>\n",
              "      <td>1.0</td>\n",
              "      <td>10.0</td>\n",
              "    </tr>\n",
              "    <tr>\n",
              "      <th>12139246</th>\n",
              "      <td>125846</td>\n",
              "      <td>97593</td>\n",
              "      <td>3.5</td>\n",
              "      <td>97593.0</td>\n",
              "      <td>Shark Kill</td>\n",
              "      <td>tv movie adventure</td>\n",
              "      <td>1.0</td>\n",
              "      <td>10.0</td>\n",
              "    </tr>\n",
              "  </tbody>\n",
              "</table>\n",
              "</div>"
            ],
            "text/plain": [
              "          userId  movieId  rating       id  \\\n",
              "10752969  111010    73183     4.0  73183.0   \n",
              "11199893  116004    72178     2.5  72178.0   \n",
              "7973523    82193     5731     5.0   5731.0   \n",
              "6843597    70648     5731     4.0   5731.0   \n",
              "12139246  125846    97593     3.5  97593.0   \n",
              "\n",
              "                                             title              genres  \\\n",
              "10752969  The Haunted World of Edward D. Wood, Jr.         documentary   \n",
              "11199893                            One Night Only              comedy   \n",
              "7973523                                Summer City      thriller drama   \n",
              "6843597                                Summer City      thriller drama   \n",
              "12139246                                Shark Kill  tv movie adventure   \n",
              "\n",
              "          vote_count  vote_average  \n",
              "10752969         1.0          10.0  \n",
              "11199893         1.0          10.0  \n",
              "7973523          1.0          10.0  \n",
              "6843597          1.0          10.0  \n",
              "12139246         1.0          10.0  "
            ]
          },
          "metadata": {
            "tags": []
          },
          "execution_count": 23
        }
      ]
    },
    {
      "metadata": {
        "id": "PjXqo7IXV4sc",
        "colab_type": "code",
        "colab": {
          "base_uri": "https://localhost:8080/",
          "height": 301
        },
        "outputId": "0fe2b2ed-900c-4092-bc5b-09cefee9aeee"
      },
      "cell_type": "code",
      "source": [
        "#drop movieId column. it is the same with id\n",
        "ratings = ratings.drop(columns=['movieId'])\n",
        "#remove duplicated movies:\n",
        "ratings = ratings.drop_duplicates(['id'], keep='first')\n",
        "ratings.head()"
      ],
      "execution_count": 24,
      "outputs": [
        {
          "output_type": "execute_result",
          "data": {
            "text/html": [
              "<div>\n",
              "<style scoped>\n",
              "    .dataframe tbody tr th:only-of-type {\n",
              "        vertical-align: middle;\n",
              "    }\n",
              "\n",
              "    .dataframe tbody tr th {\n",
              "        vertical-align: top;\n",
              "    }\n",
              "\n",
              "    .dataframe thead th {\n",
              "        text-align: right;\n",
              "    }\n",
              "</style>\n",
              "<table border=\"1\" class=\"dataframe\">\n",
              "  <thead>\n",
              "    <tr style=\"text-align: right;\">\n",
              "      <th></th>\n",
              "      <th>userId</th>\n",
              "      <th>rating</th>\n",
              "      <th>id</th>\n",
              "      <th>title</th>\n",
              "      <th>genres</th>\n",
              "      <th>vote_count</th>\n",
              "      <th>vote_average</th>\n",
              "    </tr>\n",
              "  </thead>\n",
              "  <tbody>\n",
              "    <tr>\n",
              "      <th>10752969</th>\n",
              "      <td>111010</td>\n",
              "      <td>4.0</td>\n",
              "      <td>73183.0</td>\n",
              "      <td>The Haunted World of Edward D. Wood, Jr.</td>\n",
              "      <td>documentary</td>\n",
              "      <td>1.0</td>\n",
              "      <td>10.0</td>\n",
              "    </tr>\n",
              "    <tr>\n",
              "      <th>11199893</th>\n",
              "      <td>116004</td>\n",
              "      <td>2.5</td>\n",
              "      <td>72178.0</td>\n",
              "      <td>One Night Only</td>\n",
              "      <td>comedy</td>\n",
              "      <td>1.0</td>\n",
              "      <td>10.0</td>\n",
              "    </tr>\n",
              "    <tr>\n",
              "      <th>7973523</th>\n",
              "      <td>82193</td>\n",
              "      <td>5.0</td>\n",
              "      <td>5731.0</td>\n",
              "      <td>Summer City</td>\n",
              "      <td>thriller drama</td>\n",
              "      <td>1.0</td>\n",
              "      <td>10.0</td>\n",
              "    </tr>\n",
              "    <tr>\n",
              "      <th>12139246</th>\n",
              "      <td>125846</td>\n",
              "      <td>3.5</td>\n",
              "      <td>97593.0</td>\n",
              "      <td>Shark Kill</td>\n",
              "      <td>tv movie adventure</td>\n",
              "      <td>1.0</td>\n",
              "      <td>10.0</td>\n",
              "    </tr>\n",
              "    <tr>\n",
              "      <th>4454047</th>\n",
              "      <td>45811</td>\n",
              "      <td>3.5</td>\n",
              "      <td>139215.0</td>\n",
              "      <td>Garrison Keillor: The Man on the Radio in the ...</td>\n",
              "      <td></td>\n",
              "      <td>1.0</td>\n",
              "      <td>10.0</td>\n",
              "    </tr>\n",
              "  </tbody>\n",
              "</table>\n",
              "</div>"
            ],
            "text/plain": [
              "          userId  rating        id  \\\n",
              "10752969  111010     4.0   73183.0   \n",
              "11199893  116004     2.5   72178.0   \n",
              "7973523    82193     5.0    5731.0   \n",
              "12139246  125846     3.5   97593.0   \n",
              "4454047    45811     3.5  139215.0   \n",
              "\n",
              "                                                      title  \\\n",
              "10752969           The Haunted World of Edward D. Wood, Jr.   \n",
              "11199893                                     One Night Only   \n",
              "7973523                                         Summer City   \n",
              "12139246                                         Shark Kill   \n",
              "4454047   Garrison Keillor: The Man on the Radio in the ...   \n",
              "\n",
              "                      genres  vote_count  vote_average  \n",
              "10752969         documentary         1.0          10.0  \n",
              "11199893              comedy         1.0          10.0  \n",
              "7973523       thriller drama         1.0          10.0  \n",
              "12139246  tv movie adventure         1.0          10.0  \n",
              "4454047                              1.0          10.0  "
            ]
          },
          "metadata": {
            "tags": []
          },
          "execution_count": 24
        }
      ]
    },
    {
      "metadata": {
        "id": "h21caMF-WOAa",
        "colab_type": "code",
        "colab": {
          "base_uri": "https://localhost:8080/",
          "height": 125
        },
        "outputId": "cd5e1ac5-f917-494a-fed1-4b9e2f04d5af"
      },
      "cell_type": "code",
      "source": [
        "ratings = ratings.dropna()\n",
        "ratings['id'] = ratings['id'].astype(int)\n",
        "ratings.head(2)"
      ],
      "execution_count": 25,
      "outputs": [
        {
          "output_type": "execute_result",
          "data": {
            "text/html": [
              "<div>\n",
              "<style scoped>\n",
              "    .dataframe tbody tr th:only-of-type {\n",
              "        vertical-align: middle;\n",
              "    }\n",
              "\n",
              "    .dataframe tbody tr th {\n",
              "        vertical-align: top;\n",
              "    }\n",
              "\n",
              "    .dataframe thead th {\n",
              "        text-align: right;\n",
              "    }\n",
              "</style>\n",
              "<table border=\"1\" class=\"dataframe\">\n",
              "  <thead>\n",
              "    <tr style=\"text-align: right;\">\n",
              "      <th></th>\n",
              "      <th>userId</th>\n",
              "      <th>rating</th>\n",
              "      <th>id</th>\n",
              "      <th>title</th>\n",
              "      <th>genres</th>\n",
              "      <th>vote_count</th>\n",
              "      <th>vote_average</th>\n",
              "    </tr>\n",
              "  </thead>\n",
              "  <tbody>\n",
              "    <tr>\n",
              "      <th>10752969</th>\n",
              "      <td>111010</td>\n",
              "      <td>4.0</td>\n",
              "      <td>73183</td>\n",
              "      <td>The Haunted World of Edward D. Wood, Jr.</td>\n",
              "      <td>documentary</td>\n",
              "      <td>1.0</td>\n",
              "      <td>10.0</td>\n",
              "    </tr>\n",
              "    <tr>\n",
              "      <th>11199893</th>\n",
              "      <td>116004</td>\n",
              "      <td>2.5</td>\n",
              "      <td>72178</td>\n",
              "      <td>One Night Only</td>\n",
              "      <td>comedy</td>\n",
              "      <td>1.0</td>\n",
              "      <td>10.0</td>\n",
              "    </tr>\n",
              "  </tbody>\n",
              "</table>\n",
              "</div>"
            ],
            "text/plain": [
              "          userId  rating     id                                     title  \\\n",
              "10752969  111010     4.0  73183  The Haunted World of Edward D. Wood, Jr.   \n",
              "11199893  116004     2.5  72178                            One Night Only   \n",
              "\n",
              "               genres  vote_count  vote_average  \n",
              "10752969  documentary         1.0          10.0  \n",
              "11199893       comedy         1.0          10.0  "
            ]
          },
          "metadata": {
            "tags": []
          },
          "execution_count": 25
        }
      ]
    },
    {
      "metadata": {
        "id": "gsODBs9JWaBc",
        "colab_type": "code",
        "colab": {}
      },
      "cell_type": "code",
      "source": [
        "#Build factorization matrix:\n",
        "## reshape the ratings dataframe: index is movie id, rows are ratings and columns is user id\n",
        "rating_matrix = ratings.pivot(index = 'id', columns ='userId', values = 'rating').fillna(0)\n"
      ],
      "execution_count": 0,
      "outputs": []
    },
    {
      "metadata": {
        "id": "7Jag2pgtWf04",
        "colab_type": "code",
        "colab": {
          "base_uri": "https://localhost:8080/",
          "height": 210
        },
        "outputId": "93cfe18f-fcb3-405d-9a43-53e4ac8efff2"
      },
      "cell_type": "code",
      "source": [
        "n_components = rating_matrix.shape[1]\n",
        "print(\"Best number for TSVD: {} \".format(n_components))\n",
        "svd = TruncatedSVD(n_components=(n_components-1))\n",
        "latent_rating = svd.fit_transform(rating_matrix)\n",
        "print(latent_rating[:5])"
      ],
      "execution_count": 27,
      "outputs": [
        {
          "output_type": "stream",
          "text": [
            "Best number for TSVD: 3722 \n",
            "[[-1.36898570e-14 -8.28659608e-17  2.03576453e-16 ... -2.95097074e-18\n",
            "   2.34362560e-18  6.83080062e-18]\n",
            " [-1.90547539e-15  8.01665282e-16 -1.39668985e-16 ...  2.12689353e-18\n",
            "  -5.75434462e-18 -5.61916821e-18]\n",
            " [-2.52900965e-17  9.60912284e-16  3.01972225e-16 ... -5.62933139e-18\n",
            "  -1.63354312e-17  8.03406289e-18]\n",
            " [ 5.74141872e-16 -2.52289248e-16  7.31836436e-15 ... -1.48014540e-17\n",
            "   1.03372705e-17  4.35258139e-17]\n",
            " [-1.19101960e-15  1.14498801e-15  5.76994887e-16 ... -1.42563374e-18\n",
            "   9.02591833e-18 -6.69054833e-18]]\n"
          ],
          "name": "stdout"
        }
      ]
    },
    {
      "metadata": {
        "id": "Vs_HqmbTXNQJ",
        "colab_type": "code",
        "colab": {}
      },
      "cell_type": "code",
      "source": [
        "#save matrix as ratings_matrix.csv for the model validation\n",
        "latent_matrix_df = pd.DataFrame(latent_rating, index=rating_matrix.index.tolist())\n",
        "latent_matrix_df.to_csv(\"/content/drive/My Drive/Test/ratings_matrix.csv\", index=True, header=True)"
      ],
      "execution_count": 0,
      "outputs": []
    },
    {
      "metadata": {
        "id": "GvDik0VWYGmm",
        "colab_type": "code",
        "colab": {
          "base_uri": "https://localhost:8080/",
          "height": 545
        },
        "outputId": "3e08911f-4f25-4875-97ad-c81853bf2c0b"
      },
      "cell_type": "code",
      "source": [
        "# Plot variance and cumulative variance for ratings based system\n",
        "expl = svd.explained_variance_ratio_\n",
        "plt.plot(expl, '.-', ms=15)\n",
        "plt.title('Variance Explained ');\n",
        "plt.show()\n",
        "\n",
        "plt.plot(np.cumsum(expl), '.-', ms=15)\n",
        "plt.title('Cumulative Variance');\n",
        "plt.show()"
      ],
      "execution_count": 29,
      "outputs": [
        {
          "output_type": "display_data",
          "data": {
            "image/png": "[encoded data removed]",
            "text/plain": [
              "<Figure size 432x288 with 1 Axes>"
            ]
          },
          "metadata": {
            "tags": []
          }
        },
        {
          "output_type": "display_data",
          "data": {
            "image/png": "[encoded data removed]",
            "text/plain": [
              "<Figure size 432x288 with 1 Axes>"
            ]
          },
          "metadata": {
            "tags": []
          }
        }
      ]
    },
    {
      "metadata": {
        "id": "V8w5tfuVYiGU",
        "colab_type": "code",
        "colab": {
          "base_uri": "https://localhost:8080/",
          "height": 228
        },
        "outputId": "b65bfbdf-e170-48f8-850c-5e38aae3be70"
      },
      "cell_type": "code",
      "source": [
        "# Make few tests with rating user based recommendation:\n",
        "#rating_matrix[278]\n",
        "#movies[movies['id'] == 278]\n",
        "#latent_matrix_df = pd.read_csv(\"/content/drive/My Drive/Test/ratings_matrix.csv\", index_col=0) \n",
        "features = ['title', 'genres', 'vote_average','score']\n",
        "\n",
        "movie_id = utility.get_movie_by_title(movies, \"GoldenEye\")\n",
        "print(\"movie id {}: \".format(movie_id))\n",
        "\n",
        "similarity.make_recommendation(movie_id, latent_matrix_df, movies, features, 5)\n"
      ],
      "execution_count": 30,
      "outputs": [
        {
          "output_type": "stream",
          "text": [
            "movie id 710: \n",
            "               title                         genres  vote_average  \\\n",
            "710       Last Dance                 drama thriller           5.6   \n",
            "2332  At First Sight                  drama romance           5.9   \n",
            "691             Cosi                 comedy romance           7.1   \n",
            "217     Castle Freak  thriller drama horror mystery           5.8   \n",
            "\n",
            "             score  \n",
            "710   1.000000e+00  \n",
            "2332  1.000000e+00  \n",
            "691   1.000000e+00  \n",
            "217   3.693157e-15  \n"
          ],
          "name": "stdout"
        }
      ]
    },
    {
      "metadata": {
        "id": "5aD2cE9_atLl",
        "colab_type": "text"
      },
      "cell_type": "markdown",
      "source": [
        "#### 4 . Building Content based Model. The matrix consists of genres, starring and crew. people usually look for movies with same stars and screw"
      ]
    },
    {
      "metadata": {
        "id": "ScsadlE1PDVU",
        "colab_type": "code",
        "colab": {}
      },
      "cell_type": "code",
      "source": [
        "#left join movies data with credits\n",
        "content_df = movies[['id', 'title', 'genres']].merge(credits, left_on='id', right_on='id', how='left')"
      ],
      "execution_count": 0,
      "outputs": []
    },
    {
      "metadata": {
        "id": "xaVFWrqJRGpV",
        "colab_type": "code",
        "colab": {}
      },
      "cell_type": "code",
      "source": [
        "#left join again with keywords dataset\n",
        "content_df = content_df.merge(keywords, left_on='id', right_on='id', how='left')"
      ],
      "execution_count": 0,
      "outputs": []
    },
    {
      "metadata": {
        "id": "PZZDeIrbbztt",
        "colab_type": "code",
        "colab": {
          "base_uri": "https://localhost:8080/",
          "height": 257
        },
        "outputId": "2aca6003-84e0-4190-f996-d81cdd22a8d2"
      },
      "cell_type": "code",
      "source": [
        "content_df.head(3)"
      ],
      "execution_count": 33,
      "outputs": [
        {
          "output_type": "execute_result",
          "data": {
            "text/html": [
              "<div>\n",
              "<style scoped>\n",
              "    .dataframe tbody tr th:only-of-type {\n",
              "        vertical-align: middle;\n",
              "    }\n",
              "\n",
              "    .dataframe tbody tr th {\n",
              "        vertical-align: top;\n",
              "    }\n",
              "\n",
              "    .dataframe thead th {\n",
              "        text-align: right;\n",
              "    }\n",
              "</style>\n",
              "<table border=\"1\" class=\"dataframe\">\n",
              "  <thead>\n",
              "    <tr style=\"text-align: right;\">\n",
              "      <th></th>\n",
              "      <th>id</th>\n",
              "      <th>title</th>\n",
              "      <th>genres</th>\n",
              "      <th>cast</th>\n",
              "      <th>crew</th>\n",
              "      <th>keywords</th>\n",
              "    </tr>\n",
              "  </thead>\n",
              "  <tbody>\n",
              "    <tr>\n",
              "      <th>0</th>\n",
              "      <td>862</td>\n",
              "      <td>Toy Story</td>\n",
              "      <td>animation comedy family</td>\n",
              "      <td>tomhanks timallen donrickles jimvarney wallace...</td>\n",
              "      <td>johnlasseter josswhedon andrewstanton joelcohe...</td>\n",
              "      <td>jealousy toy boy friendship friends rivalry bo...</td>\n",
              "    </tr>\n",
              "    <tr>\n",
              "      <th>1</th>\n",
              "      <td>8844</td>\n",
              "      <td>Jumanji</td>\n",
              "      <td>adventure fantasy family</td>\n",
              "      <td>robinwilliams jonathanhyde kirstendunst bradle...</td>\n",
              "      <td>larryj.franco jonathanhensleigh jameshorner jo...</td>\n",
              "      <td>board game disappearance base child book new h...</td>\n",
              "    </tr>\n",
              "    <tr>\n",
              "      <th>2</th>\n",
              "      <td>15602</td>\n",
              "      <td>Grumpier Old Men</td>\n",
              "      <td>romance comedy</td>\n",
              "      <td>waltermatthau jacklemmon ann-margret sophialor...</td>\n",
              "      <td>howarddeutch markstevenjohnson markstevenjohns...</td>\n",
              "      <td>fish best friend duringcreditsstinger old men</td>\n",
              "    </tr>\n",
              "  </tbody>\n",
              "</table>\n",
              "</div>"
            ],
            "text/plain": [
              "      id             title                    genres  \\\n",
              "0    862         Toy Story   animation comedy family   \n",
              "1   8844           Jumanji  adventure fantasy family   \n",
              "2  15602  Grumpier Old Men            romance comedy   \n",
              "\n",
              "                                                cast  \\\n",
              "0  tomhanks timallen donrickles jimvarney wallace...   \n",
              "1  robinwilliams jonathanhyde kirstendunst bradle...   \n",
              "2  waltermatthau jacklemmon ann-margret sophialor...   \n",
              "\n",
              "                                                crew  \\\n",
              "0  johnlasseter josswhedon andrewstanton joelcohe...   \n",
              "1  larryj.franco jonathanhensleigh jameshorner jo...   \n",
              "2  howarddeutch markstevenjohnson markstevenjohns...   \n",
              "\n",
              "                                            keywords  \n",
              "0  jealousy toy boy friendship friends rivalry bo...  \n",
              "1  board game disappearance base child book new h...  \n",
              "2      fish best friend duringcreditsstinger old men  "
            ]
          },
          "metadata": {
            "tags": []
          },
          "execution_count": 33
        }
      ]
    },
    {
      "metadata": {
        "id": "mCuExxhdRRVk",
        "colab_type": "code",
        "colab": {
          "base_uri": "https://localhost:8080/",
          "height": 291
        },
        "outputId": "7890c6b2-bd60-4d3f-c984-688511410caf"
      },
      "cell_type": "code",
      "source": [
        "#create a new feature tag = genres + cast + crew + keywords\n",
        "content_df['tag'] = content_df['genres'] + ' ' + content_df['cast'] + ' ' + content_df['crew'] + ' ' + content_df['keywords']\n",
        "content_df = content_df.reset_index()\n",
        "content_df = content_df.fillna(\"\")\n",
        "content_df.head(3)"
      ],
      "execution_count": 34,
      "outputs": [
        {
          "output_type": "execute_result",
          "data": {
            "text/html": [
              "<div>\n",
              "<style scoped>\n",
              "    .dataframe tbody tr th:only-of-type {\n",
              "        vertical-align: middle;\n",
              "    }\n",
              "\n",
              "    .dataframe tbody tr th {\n",
              "        vertical-align: top;\n",
              "    }\n",
              "\n",
              "    .dataframe thead th {\n",
              "        text-align: right;\n",
              "    }\n",
              "</style>\n",
              "<table border=\"1\" class=\"dataframe\">\n",
              "  <thead>\n",
              "    <tr style=\"text-align: right;\">\n",
              "      <th></th>\n",
              "      <th>index</th>\n",
              "      <th>id</th>\n",
              "      <th>title</th>\n",
              "      <th>genres</th>\n",
              "      <th>cast</th>\n",
              "      <th>crew</th>\n",
              "      <th>keywords</th>\n",
              "      <th>tag</th>\n",
              "    </tr>\n",
              "  </thead>\n",
              "  <tbody>\n",
              "    <tr>\n",
              "      <th>0</th>\n",
              "      <td>0</td>\n",
              "      <td>862</td>\n",
              "      <td>Toy Story</td>\n",
              "      <td>animation comedy family</td>\n",
              "      <td>tomhanks timallen donrickles jimvarney wallace...</td>\n",
              "      <td>johnlasseter josswhedon andrewstanton joelcohe...</td>\n",
              "      <td>jealousy toy boy friendship friends rivalry bo...</td>\n",
              "      <td>animation comedy family tomhanks timallen donr...</td>\n",
              "    </tr>\n",
              "    <tr>\n",
              "      <th>1</th>\n",
              "      <td>1</td>\n",
              "      <td>8844</td>\n",
              "      <td>Jumanji</td>\n",
              "      <td>adventure fantasy family</td>\n",
              "      <td>robinwilliams jonathanhyde kirstendunst bradle...</td>\n",
              "      <td>larryj.franco jonathanhensleigh jameshorner jo...</td>\n",
              "      <td>board game disappearance base child book new h...</td>\n",
              "      <td>adventure fantasy family robinwilliams jonatha...</td>\n",
              "    </tr>\n",
              "    <tr>\n",
              "      <th>2</th>\n",
              "      <td>2</td>\n",
              "      <td>15602</td>\n",
              "      <td>Grumpier Old Men</td>\n",
              "      <td>romance comedy</td>\n",
              "      <td>waltermatthau jacklemmon ann-margret sophialor...</td>\n",
              "      <td>howarddeutch markstevenjohnson markstevenjohns...</td>\n",
              "      <td>fish best friend duringcreditsstinger old men</td>\n",
              "      <td>romance comedy waltermatthau jacklemmon ann-ma...</td>\n",
              "    </tr>\n",
              "  </tbody>\n",
              "</table>\n",
              "</div>"
            ],
            "text/plain": [
              "   index     id             title                    genres  \\\n",
              "0      0    862         Toy Story   animation comedy family   \n",
              "1      1   8844           Jumanji  adventure fantasy family   \n",
              "2      2  15602  Grumpier Old Men            romance comedy   \n",
              "\n",
              "                                                cast  \\\n",
              "0  tomhanks timallen donrickles jimvarney wallace...   \n",
              "1  robinwilliams jonathanhyde kirstendunst bradle...   \n",
              "2  waltermatthau jacklemmon ann-margret sophialor...   \n",
              "\n",
              "                                                crew  \\\n",
              "0  johnlasseter josswhedon andrewstanton joelcohe...   \n",
              "1  larryj.franco jonathanhensleigh jameshorner jo...   \n",
              "2  howarddeutch markstevenjohnson markstevenjohns...   \n",
              "\n",
              "                                            keywords  \\\n",
              "0  jealousy toy boy friendship friends rivalry bo...   \n",
              "1  board game disappearance base child book new h...   \n",
              "2      fish best friend duringcreditsstinger old men   \n",
              "\n",
              "                                                 tag  \n",
              "0  animation comedy family tomhanks timallen donr...  \n",
              "1  adventure fantasy family robinwilliams jonatha...  \n",
              "2  romance comedy waltermatthau jacklemmon ann-ma...  "
            ]
          },
          "metadata": {
            "tags": []
          },
          "execution_count": 34
        }
      ]
    },
    {
      "metadata": {
        "id": "kUwDZcD8SFnM",
        "colab_type": "code",
        "colab": {}
      },
      "cell_type": "code",
      "source": [
        "# Build TF-IDF matrix with content_df\n",
        "vectorizer = TfidfVectorizer(max_features=2000)\n",
        "content_matrix = vectorizer.fit_transform(content_df['tag'])\n",
        "\n",
        "#tfidf_df = pd.DataFrame(content_matrix.toarray(), index=movies.index.tolist())\n"
      ],
      "execution_count": 0,
      "outputs": []
    },
    {
      "metadata": {
        "id": "yMUeAZJR9r_k",
        "colab_type": "code",
        "colab": {
          "base_uri": "https://localhost:8080/",
          "height": 17610
        },
        "outputId": "b4a5db84-c22f-453b-9000-8bc014bd316e"
      },
      "cell_type": "code",
      "source": [
        "# we have 2000 words in matrix\n",
        "vectorizer.vocabulary_\n",
        "#tfidf_df.head()\n",
        "#movies[movies['id'] == 710]\n",
        "#print(np.array(tfidf_df.loc(0)).reshape(1, -1))"
      ],
      "execution_count": 36,
      "outputs": [
        {
          "output_type": "execute_result",
          "data": {
            "text/plain": [
              "{'animation': 74,\n",
              " 'comedy': 354,\n",
              " 'family': 588,\n",
              " 'tomhanks': 1822,\n",
              " 'wallaceshawn': 1902,\n",
              " 'johnmorris': 976,\n",
              " 'johnlasseter': 970,\n",
              " 'connell': 362,\n",
              " 'jealousy': 903,\n",
              " 'toy': 1835,\n",
              " 'boy': 192,\n",
              " 'friendship': 650,\n",
              " 'rivalry': 1509,\n",
              " 'new': 1302,\n",
              " 'come': 352,\n",
              " 'life': 1111,\n",
              " 'adventure': 15,\n",
              " 'fantasy': 590,\n",
              " 'robinwilliams': 1545,\n",
              " 'patriciaclarkson': 1356,\n",
              " 'jameshorner': 880,\n",
              " 'jamesd': 872,\n",
              " 'robertw': 1540,\n",
              " 'thomase': 1801,\n",
              " 'ackerman': 3,\n",
              " 'board': 176,\n",
              " 'game': 658,\n",
              " 'disappearance': 477,\n",
              " 'base': 126,\n",
              " 'child': 297,\n",
              " 'book': 186,\n",
              " 'home': 788,\n",
              " 'giant': 690,\n",
              " 'romance': 1559,\n",
              " 'waltermatthau': 1910,\n",
              " 'jacklemmon': 855,\n",
              " 'ann': 77,\n",
              " 'darylhannah': 409,\n",
              " 'burgessmeredith': 224,\n",
              " 'kevinpollak': 1052,\n",
              " 'fish': 612,\n",
              " 'best': 145,\n",
              " 'friend': 649,\n",
              " 'duringcreditsstinger': 512,\n",
              " 'old': 1327,\n",
              " 'drama': 502,\n",
              " 'wesleysnipes': 1929,\n",
              " 'forestwhitaker': 624,\n",
              " 'novel': 1315,\n",
              " 'interracial': 838,\n",
              " 'relationship': 1473,\n",
              " 'single': 1674,\n",
              " 'mother': 1265,\n",
              " 'divorce': 483,\n",
              " 'stevemartin': 1730,\n",
              " 'stewart': 1736,\n",
              " 'eugenelevy': 566,\n",
              " 'alansilvestri': 35,\n",
              " 'baby': 116,\n",
              " 'crisis': 382,\n",
              " 'age': 20,\n",
              " 'daughter': 411,\n",
              " 'pregnancy': 1424,\n",
              " 'action': 4,\n",
              " 'crime': 380,\n",
              " 'thriller': 1807,\n",
              " 'alpacino': 53,\n",
              " 'robertdeniro': 1520,\n",
              " 'valkilmer': 1871,\n",
              " 'jonvoight': 1000,\n",
              " 'tomsizemore': 1827,\n",
              " 'natalieportman': 1287,\n",
              " 'dannytrejo': 403,\n",
              " 'xanderberkeley': 1983,\n",
              " 'jr': 1015,\n",
              " 'bonnietimmermann': 185,\n",
              " 'anderson': 63,\n",
              " 'arnonmilchan': 98,\n",
              " 'robbery': 1513,\n",
              " 'detective': 467,\n",
              " 'bank': 122,\n",
              " 'obsession': 1321,\n",
              " 'chase': 291,\n",
              " 'shoot': 1656,\n",
              " 'thief': 1798,\n",
              " 'murder': 1272,\n",
              " 'suspense': 1765,\n",
              " 'heist': 766,\n",
              " 'betrayal': 147,\n",
              " 'money': 1253,\n",
              " 'gang': 659,\n",
              " 'cat': 263,\n",
              " 'mouse': 1269,\n",
              " 'criminal': 381,\n",
              " 'cult': 388,\n",
              " 'film': 607,\n",
              " 'ex': 573,\n",
              " 'con': 359,\n",
              " 'movie': 1270,\n",
              " 'one': 1333,\n",
              " 'job': 934,\n",
              " 'neo': 1301,\n",
              " 'noir': 1313,\n",
              " 'gun': 727,\n",
              " 'fight': 604,\n",
              " 'epic': 549,\n",
              " 'harrisonford': 749,\n",
              " 'paulgiamatti': 1364,\n",
              " 'johnc': 946,\n",
              " 'smith': 1681,\n",
              " 'sydneypollack': 1770,\n",
              " 'johnwilliams': 995,\n",
              " 'scottrudin': 1617,\n",
              " 'davidrubin': 430,\n",
              " 'king': 1065,\n",
              " 'josepha': 1002,\n",
              " 'annroth': 82,\n",
              " 'kelly': 1040,\n",
              " 'jean': 904,\n",
              " 'thomasa': 1800,\n",
              " 'ronnakress': 1565,\n",
              " 'josephe': 1006,\n",
              " 'paris': 1348,\n",
              " 'brother': 211,\n",
              " 'long': 1120,\n",
              " 'island': 848,\n",
              " 'millionaire': 1239,\n",
              " 'claudevandamme': 332,\n",
              " 'johndebney': 952,\n",
              " 'terrorist': 1790,\n",
              " 'hostage': 797,\n",
              " 'president': 1427,\n",
              " 'piercebrosnan': 1398,\n",
              " 'seanbean': 1620,\n",
              " 'mitchell': 1249,\n",
              " 'snow': 1686,\n",
              " 'wilson': 1961,\n",
              " 'michaela': 1211,\n",
              " 'carter': 254,\n",
              " 'secret': 1624,\n",
              " 'identity': 818,\n",
              " 'computer': 358,\n",
              " 'virus': 1893,\n",
              " 'intelligence': 835,\n",
              " 'service': 1635,\n",
              " 'special': 1703,\n",
              " 'car': 247,\n",
              " 'time': 1814,\n",
              " 'bomb': 184,\n",
              " 'russia': 1580,\n",
              " 'red': 1468,\n",
              " 'army': 96,\n",
              " 'michaeldouglas': 1218,\n",
              " 'michaelj': 1221,\n",
              " 'fox': 626,\n",
              " 'martinsheen': 1178,\n",
              " 'richarddreyfuss': 1492,\n",
              " 'robreiner': 1548,\n",
              " 'white': 1934,\n",
              " 'house': 799,\n",
              " 'usa': 1868,\n",
              " 'love': 1127,\n",
              " 'horror': 794,\n",
              " 'melbrooks': 1199,\n",
              " 'annebancroft': 81,\n",
              " 'michaeld': 1217,\n",
              " 'shea': 1648,\n",
              " 'spoof': 1710,\n",
              " 'kevinbacon': 1046,\n",
              " 'bobhoskins': 180,\n",
              " 'jimcummings': 927,\n",
              " 'frankwelker': 640,\n",
              " 'campbell': 241,\n",
              " 'stevenspielberg': 1735,\n",
              " 'kathleenkennedy': 1033,\n",
              " 'rogers': 1555,\n",
              " 'green': 716,\n",
              " 'wolf': 1968,\n",
              " 'dog': 486,\n",
              " 'race': 1449,\n",
              " 'bear': 131,\n",
              " 'attack': 107,\n",
              " 'lake': 1081,\n",
              " 'history': 781,\n",
              " 'anthonyhopkins': 84,\n",
              " 'edharris': 520,\n",
              " 'marshall': 1173,\n",
              " 'paulsorvino': 1372,\n",
              " 'marysteenburgen': 1181,\n",
              " 'walsh': 1905,\n",
              " 'jameswoods': 891,\n",
              " 'oliverstone': 1330,\n",
              " 'stephenj': 1724,\n",
              " 'election': 531,\n",
              " 'biography': 163,\n",
              " 'government': 707,\n",
              " 'historical': 780,\n",
              " 'figure': 606,\n",
              " 'matthewmodine': 1191,\n",
              " 'michaels': 1230,\n",
              " 'mindymarin': 1242,\n",
              " 'treasure': 1845,\n",
              " 'ship': 1654,\n",
              " 'pirate': 1404,\n",
              " 'sharonstone': 1647,\n",
              " 'jones': 998,\n",
              " 'richardriehle': 1500,\n",
              " 'josephp': 1010,\n",
              " 'martinscorsese': 1177,\n",
              " 'poker': 1411,\n",
              " 'drug': 509,\n",
              " 'abuse': 1,\n",
              " 'illegal': 821,\n",
              " 'prostitution': 1438,\n",
              " 'emmathompson': 543,\n",
              " 'tomwilkinson': 1829,\n",
              " 'country': 373,\n",
              " 'inheritance': 832,\n",
              " 'military': 1237,\n",
              " 'officer': 1325,\n",
              " 'period': 1377,\n",
              " 'horse': 795,\n",
              " 'timroth': 1817,\n",
              " 'antoniobanderas': 87,\n",
              " 'marisatomei': 1164,\n",
              " 'brucewillis': 220,\n",
              " 'quentintarantino': 1447,\n",
              " 'salmahayek': 1587,\n",
              " 'marclawrence': 1156,\n",
              " 'robertrodriguez': 1536,\n",
              " 'jamesc': 866,\n",
              " 'coach': 341,\n",
              " 'hotel': 798,\n",
              " 'year': 1986,\n",
              " 'eve': 569,\n",
              " 'witch': 1966,\n",
              " 'room': 1567,\n",
              " 'los': 1122,\n",
              " 'angeles': 70,\n",
              " 'hoodlum': 791,\n",
              " 'woman': 1969,\n",
              " 'director': 476,\n",
              " 'daniels': 399,\n",
              " 'robinson': 1544,\n",
              " 'donalde': 490,\n",
              " 'makaro': 1146,\n",
              " 'africa': 17,\n",
              " 'human': 805,\n",
              " 'animal': 73,\n",
              " 'woodyharrelson': 1975,\n",
              " 'pierce': 1397,\n",
              " 'francinemaisler': 628,\n",
              " 'thomas': 1799,\n",
              " 'subway': 1748,\n",
              " 'york': 1993,\n",
              " 'city': 323,\n",
              " 'train': 1839,\n",
              " 'johntravolta': 990,\n",
              " 'genehackman': 668,\n",
              " 'dannydevito': 400,\n",
              " 'debrazane': 447,\n",
              " 'gamble': 657,\n",
              " 'travel': 1843,\n",
              " 'mafia': 1143,\n",
              " 'debt': 448,\n",
              " 'mobster': 1250,\n",
              " 'business': 231,\n",
              " 'hollywood': 785,\n",
              " 'gangster': 660,\n",
              " 'violence': 1890,\n",
              " 'producer': 1435,\n",
              " 'sigourneyweaver': 1665,\n",
              " 'dermotmulroney': 465,\n",
              " 'christopheryoung': 316,\n",
              " 'josephm': 1009,\n",
              " 'kerrybarden': 1045,\n",
              " 'billyhopkins': 159,\n",
              " 'suzannesmith': 1767,\n",
              " 'police': 1412,\n",
              " 'brutality': 221,\n",
              " 'operation': 1336,\n",
              " 'serial': 1633,\n",
              " 'killer': 1061,\n",
              " 'sylvesterstallone': 1771,\n",
              " 'juliannemoore': 1018,\n",
              " 'evans': 568,\n",
              " 'joelsilver': 937,\n",
              " 'dinodelaurentiis': 474,\n",
              " 'sanders': 1600,\n",
              " 'johnm': 973,\n",
              " 'nelson': 1300,\n",
              " 'johnf': 955,\n",
              " 'davide': 419,\n",
              " 'carpenter': 251,\n",
              " 'johnt': 989,\n",
              " 'russell': 1577,\n",
              " 'davidr': 429,\n",
              " 'peterj': 1383,\n",
              " 'competition': 357,\n",
              " 'assassination': 104,\n",
              " 'cia': 318,\n",
              " 'mexican': 1207,\n",
              " 'hitman': 782,\n",
              " 'mission': 1247,\n",
              " 'camera': 239,\n",
              " 'rescue': 1479,\n",
              " 'shootout': 1657,\n",
              " 'sniper': 1685,\n",
              " 'double': 497,\n",
              " 'cross': 384,\n",
              " 'science': 1613,\n",
              " 'fiction': 602,\n",
              " 'lancehenriksen': 1085,\n",
              " 'jeffgoldblum': 911,\n",
              " 'rogerbirnbaum': 1552,\n",
              " 'jerrygoldsmith': 918,\n",
              " 'hill': 779,\n",
              " 'dead': 442,\n",
              " 'shot': 1660,\n",
              " 'death': 445,\n",
              " 'teenage': 1785,\n",
              " 'teacher': 1781,\n",
              " 'student': 1745,\n",
              " 'christ': 304,\n",
              " 'power': 1423,\n",
              " 'nicolascage': 1306,\n",
              " 'johno': 978,\n",
              " 'brien': 208,\n",
              " 'prostitute': 1437,\n",
              " 'alcohol': 39,\n",
              " 'casino': 260,\n",
              " 'first': 611,\n",
              " 'die': 471,\n",
              " 'alcoholism': 41,\n",
              " 'attempt': 108,\n",
              " 'suicide': 1749,\n",
              " 'laurencefishburne': 1089,\n",
              " 'kennethbranagh': 1043,\n",
              " 'williamshakespeare': 1958,\n",
              " 'shakespeare': 1645,\n",
              " 'christinaricci': 307,\n",
              " 'donnell': 495,\n",
              " 'demimoore': 454,\n",
              " 'clorisleachman': 338,\n",
              " 'janeanegarofalo': 893,\n",
              " 'female': 600,\n",
              " 'ciaránhinds': 319,\n",
              " 'hunt': 809,\n",
              " 'captain': 246,\n",
              " 'war': 1912,\n",
              " 'ronperlman': 1566,\n",
              " 'pierre': 1399,\n",
              " 'dream': 503,\n",
              " 'dystopia': 515,\n",
              " 'girl': 695,\n",
              " 'childhood': 298,\n",
              " 'uncle': 1860,\n",
              " 'robertl': 1528,\n",
              " 'music': 1276,\n",
              " 'high': 778,\n",
              " 'school': 1611,\n",
              " 'park': 1349,\n",
              " 'mystery': 1281,\n",
              " 'bradpitt': 196,\n",
              " 'christopherplummer': 314,\n",
              " 'roberto': 1532,\n",
              " 'neill': 1299,\n",
              " 'toole': 1832,\n",
              " 'terrygilliam': 1791,\n",
              " 'margerysimkin': 1158,\n",
              " 'williama': 1943,\n",
              " 'johnd': 951,\n",
              " 'paula': 1362,\n",
              " 'davids': 431,\n",
              " 'post': 1421,\n",
              " 'apocalyptic': 91,\n",
              " 'jamescromwell': 871,\n",
              " 'stevens': 1732,\n",
              " 'arcy': 92,\n",
              " 'pig': 1401,\n",
              " 'talk': 1776,\n",
              " 'german': 685,\n",
              " 'jonathanpryce': 997,\n",
              " 'england': 547,\n",
              " 'independent': 826,\n",
              " 'soldier': 1690,\n",
              " 'susansarandon': 1764,\n",
              " 'seanpenn': 1623,\n",
              " 'jackblack': 853,\n",
              " 'clancybrown': 325,\n",
              " 'rogerdeakins': 1554,\n",
              " 'timrobbins': 1816,\n",
              " 'juliaroberts': 1019,\n",
              " 'timbevan': 1810,\n",
              " 'ericfellner': 551,\n",
              " 'georgea': 670,\n",
              " 'leary': 1094,\n",
              " 'prison': 1431,\n",
              " 'rape': 1461,\n",
              " 'self': 1628,\n",
              " 'cell': 271,\n",
              " 'court': 375,\n",
              " 'case': 259,\n",
              " 'man': 1151,\n",
              " 'right': 1506,\n",
              " 'justice': 1027,\n",
              " 'avykaufman': 114,\n",
              " 'johnbarry': 945,\n",
              " 'mary': 1180,\n",
              " 'orphan': 1338,\n",
              " 'twin': 1856,\n",
              " 'paulrudd': 1369,\n",
              " 'stevenj': 1731,\n",
              " 'make': 1147,\n",
              " 'gay': 667,\n",
              " 'interest': 836,\n",
              " 'conflict': 361,\n",
              " 'jamesearljones': 874,\n",
              " 'charless': 286,\n",
              " 'south': 1696,\n",
              " 'jimbroadbent': 926,\n",
              " 'kristinscottthomas': 1076,\n",
              " 'maggiesmith': 1144,\n",
              " 'robertdowneyjr': 1521,\n",
              " 'kidnap': 1057,\n",
              " 'keithdavid': 1039,\n",
              " 'dannyelfman': 401,\n",
              " 'loss': 1124,\n",
              " 'kill': 1060,\n",
              " 'truck': 1852,\n",
              " 'crush': 385,\n",
              " 'samneill': 1591,\n",
              " 'davidthewlis': 434,\n",
              " 'wealth': 1919,\n",
              " 'georges': 679,\n",
              " 'johnr': 983,\n",
              " 'leonetti': 1099,\n",
              " 'martial': 1174,\n",
              " 'art': 100,\n",
              " 'monster': 1255,\n",
              " 'gore': 705,\n",
              " 'video': 1880,\n",
              " 'hand': 739,\n",
              " 'combat': 351,\n",
              " 'nicolekidman': 1307,\n",
              " 'mattdillon': 1188,\n",
              " 'davidcronenberg': 417,\n",
              " 'adultery': 14,\n",
              " 'winter': 1964,\n",
              " 'television': 1787,\n",
              " 'disorder': 481,\n",
              " 'ellenburstyn': 538,\n",
              " 'riptorn': 1507,\n",
              " 'connor': 363,\n",
              " 'richardjenkins': 1496,\n",
              " 'thomasnewman': 1805,\n",
              " 'maryvernieu': 1182,\n",
              " 'wedding': 1923,\n",
              " 'marriage': 1171,\n",
              " 'couple': 374,\n",
              " 'holiday': 784,\n",
              " 'extramarital': 578,\n",
              " 'affair': 16,\n",
              " 'morganfreeman': 1260,\n",
              " 'kevinspacey': 1054,\n",
              " 'howardshore': 802,\n",
              " 'griffith': 722,\n",
              " 'bruce': 213,\n",
              " 'hall': 734,\n",
              " 'williamc': 1945,\n",
              " 'lewis': 1105,\n",
              " 'robertj': 1527,\n",
              " 'roberts': 1538,\n",
              " 'robertc': 1518,\n",
              " 'jenniferl': 914,\n",
              " 'dealer': 443,\n",
              " 'investigation': 841,\n",
              " 'melgibson': 1200,\n",
              " 'john': 941,\n",
              " 'david': 412,\n",
              " 'culture': 389,\n",
              " 'musical': 1277,\n",
              " 'gold': 702,\n",
              " 'princess': 1430,\n",
              " 'native': 1289,\n",
              " 'american': 57,\n",
              " 'star': 1719,\n",
              " 'lover': 1128,\n",
              " 'reference': 1469,\n",
              " 'tree': 1846,\n",
              " 'indian': 828,\n",
              " 'century': 272,\n",
              " 'song': 1693,\n",
              " 'professor': 1436,\n",
              " 'lgbt': 1106,\n",
              " 'gabrielbyrne': 656,\n",
              " 'law': 1091,\n",
              " 'theft': 1797,\n",
              " 'woodyallen': 1974,\n",
              " 'helenabonhamcarter': 767,\n",
              " 'michaelrapaport': 1229,\n",
              " 'jackwarden': 859,\n",
              " 'juliettaylor': 1022,\n",
              " 'charlesh': 283,\n",
              " 'reilly': 1471,\n",
              " 'adoption': 11,\n",
              " 'father': 596,\n",
              " 'birth': 166,\n",
              " 'parent': 1346,\n",
              " 'foreign': 622,\n",
              " 'sullivan': 1751,\n",
              " 'sport': 1711,\n",
              " 'kid': 1056,\n",
              " 'soccer': 1687,\n",
              " 'jenniferjasonleigh': 913,\n",
              " 'artist': 102,\n",
              " 'band': 121,\n",
              " 'malcolmmcdowell': 1148,\n",
              " 'michaelironside': 1220,\n",
              " 'charlesdurning': 282,\n",
              " 'geraldinechaplin': 684,\n",
              " 'davidstrathairn': 433,\n",
              " 'markisham': 1166,\n",
              " 'jamese': 873,\n",
              " 'letter': 1101,\n",
              " 'frankmarshall': 637,\n",
              " 'puppet': 1445,\n",
              " 'world': 1980,\n",
              " 'kiefersutherland': 1059,\n",
              " 'angelo': 72,\n",
              " 'joemantegna': 938,\n",
              " 'philipbakerhall': 1389,\n",
              " 'davidj': 420,\n",
              " 'jamesnewtonhoward': 885,\n",
              " 'williamh': 1949,\n",
              " 'macy': 1141,\n",
              " 'martin': 1175,\n",
              " 'williamd': 1947,\n",
              " 'richardc': 1490,\n",
              " 'jamesb': 865,\n",
              " 'private': 1433,\n",
              " 'date': 410,\n",
              " 'hop': 793,\n",
              " 'parody': 1352,\n",
              " 'social': 1688,\n",
              " 'satire': 1605,\n",
              " 'racism': 1451,\n",
              " 'denisleary': 458,\n",
              " 'paint': 1344,\n",
              " 'young': 1994,\n",
              " 'williams': 1956,\n",
              " 'stephenking': 1725,\n",
              " 'hacker': 732,\n",
              " 'virtual': 1892,\n",
              " 'reality': 1466,\n",
              " 'sword': 1769,\n",
              " 'triangle': 1849,\n",
              " 'southern': 1697,\n",
              " 'france': 627,\n",
              " 'estate': 562,\n",
              " 'agent': 21,\n",
              " 'icecube': 817,\n",
              " 'georgeclooney': 674,\n",
              " 'harveykeitel': 755,\n",
              " 'cheechmarin': 293,\n",
              " 'tomsavini': 1825,\n",
              " 'graemerevell': 708,\n",
              " 'foster': 625,\n",
              " 'scott': 1616,\n",
              " 'dance': 396,\n",
              " 'sexual': 1641,\n",
              " 'sheriff': 1650,\n",
              " 'eroticism': 560,\n",
              " 'nudity': 1317,\n",
              " 'robber': 1512,\n",
              " 'vampire': 1872,\n",
              " 'water': 1916,\n",
              " 'stripper': 1744,\n",
              " 'priest': 1428,\n",
              " 'explosion': 577,\n",
              " 'extreme': 579,\n",
              " 'blood': 174,\n",
              " 'store': 1739,\n",
              " 'nightclub': 1309,\n",
              " 'christophermcdonald': 313,\n",
              " 'jamesh': 878,\n",
              " 'sex': 1640,\n",
              " 'fbi': 597,\n",
              " 'russian': 1581,\n",
              " 'sadism': 1586,\n",
              " 'psychopath': 1443,\n",
              " 'remake': 1476,\n",
              " 'crash': 378,\n",
              " 'conspiracy': 364,\n",
              " 'run': 1575,\n",
              " 'fugitive': 653,\n",
              " 'gunfight': 728,\n",
              " 'station': 1720,\n",
              " 'machine': 1140,\n",
              " 'team': 1782,\n",
              " 'underwater': 1863,\n",
              " 'scene': 1609,\n",
              " 'lawyer': 1092,\n",
              " 'parkerposey': 1351,\n",
              " 'elliottgould': 540,\n",
              " 'college': 350,\n",
              " 'nun': 1318,\n",
              " 'boxer': 191,\n",
              " 'jewish': 924,\n",
              " 'christianslater': 306,\n",
              " 'griffin': 720,\n",
              " 'davis': 438,\n",
              " 'davidc': 415,\n",
              " 'ellenchenoweth': 539,\n",
              " 'danielj': 398,\n",
              " 'tomarnold': 1819,\n",
              " 'jeffreytambor': 912,\n",
              " 'bully': 223,\n",
              " 'dano': 404,\n",
              " 'murray': 1274,\n",
              " 'alien': 49,\n",
              " 'planet': 1406,\n",
              " 'survival': 1762,\n",
              " 'documentary': 485,\n",
              " 'jacknicholson': 856,\n",
              " 'anjelicahuston': 76,\n",
              " 'robinwright': 1546,\n",
              " 'harveyweinstein': 756,\n",
              " 'bobweinstein': 181,\n",
              " 'drive': 507,\n",
              " 'revenge': 1484,\n",
              " 'tragedy': 1837,\n",
              " 'alecbaldwin': 42,\n",
              " 'levitt': 1104,\n",
              " 'irwinwinkler': 846,\n",
              " 'robertm': 1530,\n",
              " 'colleenatwood': 348,\n",
              " 'blackmail': 169,\n",
              " 'son': 1692,\n",
              " 'trial': 1848,\n",
              " 'courtroom': 376,\n",
              " 'abbaskiarostami': 0,\n",
              " 'andygarcía': 67,\n",
              " 'christopherlloyd': 312,\n",
              " 'stevebuscemi': 1729,\n",
              " 'christopherwalken': 315,\n",
              " 'bounty': 189,\n",
              " 'hunter': 810,\n",
              " 'boat': 177,\n",
              " 'paranoia': 1345,\n",
              " 'village': 1883,\n",
              " 'ii': 819,\n",
              " 'summer': 1752,\n",
              " 'widow': 1936,\n",
              " 'freedom': 647,\n",
              " 'homosexuality': 789,\n",
              " 'university': 1865,\n",
              " 'cooper': 369,\n",
              " 'racial': 1450,\n",
              " 'rural': 1576,\n",
              " 'set': 1636,\n",
              " 'african': 18,\n",
              " 'roddymcdowall': 1550,\n",
              " 'class': 329,\n",
              " 'society': 1689,\n",
              " 'rich': 1486,\n",
              " 'scientist': 1614,\n",
              " 'jeffbridges': 908,\n",
              " 'ridleyscott': 1505,\n",
              " 'trip': 1851,\n",
              " 'male': 1149,\n",
              " 'storm': 1740,\n",
              " 'sea': 1618,\n",
              " 'bos': 188,\n",
              " 'fistfight': 614,\n",
              " 'garybusey': 662,\n",
              " 'brucemcgill': 219,\n",
              " 'james': 863,\n",
              " 'morgan': 1259,\n",
              " 'political': 1413,\n",
              " 'politician': 1414,\n",
              " 'johnnydepp': 977,\n",
              " 'politics': 1415,\n",
              " 'johnmalkovich': 974,\n",
              " 'michaelgambon': 1219,\n",
              " 'glennclose': 697,\n",
              " 'eddiemurphy': 519,\n",
              " 'wescraven': 1928,\n",
              " 'davida': 413,\n",
              " 'hanszimmer': 744,\n",
              " 'little': 1114,\n",
              " 'johnwoo': 996,\n",
              " 'helicopter': 770,\n",
              " 'river': 1510,\n",
              " 'underground': 1862,\n",
              " 'pilot': 1402,\n",
              " 'desert': 466,\n",
              " 'nuclear': 1316,\n",
              " 'box': 190,\n",
              " 'mine': 1243,\n",
              " 'play': 1408,\n",
              " 'christmas': 308,\n",
              " 'actor': 5,\n",
              " 'assassin': 103,\n",
              " 'nazi': 1292,\n",
              " 'marka': 1165,\n",
              " 'narration': 1285,\n",
              " 'johncusack': 950,\n",
              " 'corruption': 372,\n",
              " 'undercover': 1861,\n",
              " 'lukewilson': 1135,\n",
              " 'owenwilson': 1343,\n",
              " 'jamescaan': 867,\n",
              " 'jamesl': 882,\n",
              " 'brooks': 210,\n",
              " 'robertd': 1519,\n",
              " 'motel': 1264,\n",
              " 'hospital': 796,\n",
              " 'billpullman': 156,\n",
              " 'joancusack': 933,\n",
              " 'deanstockwell': 444,\n",
              " 'rayliotta': 1462,\n",
              " 'wife': 1937,\n",
              " 'husband': 811,\n",
              " 'experiment': 574,\n",
              " 'memory': 1202,\n",
              " 'adamsandler': 7,\n",
              " 'benstiller': 139,\n",
              " 'moore': 1258,\n",
              " 'merylstreep': 1206,\n",
              " 'clinteastwood': 336,\n",
              " 'photographer': 1394,\n",
              " 'role': 1556,\n",
              " 'bridge': 207,\n",
              " 'photography': 1395,\n",
              " 'nature': 1290,\n",
              " 'fall': 586,\n",
              " 'timcurry': 1813,\n",
              " 'brendangleeson': 200,\n",
              " 'briancox': 201,\n",
              " 'davido': 428,\n",
              " 'hara': 745,\n",
              " 'scotland': 1615,\n",
              " 'legend': 1097,\n",
              " 'peterboyle': 1380,\n",
              " 'davidm': 424,\n",
              " 'franke': 633,\n",
              " 'warner': 1915,\n",
              " 'cohen': 345,\n",
              " 'kriskristofferson': 1075,\n",
              " 'vietnam': 1881,\n",
              " 'veteran': 1876,\n",
              " 'taxi': 1779,\n",
              " 'night': 1308,\n",
              " 'vigilante': 1882,\n",
              " 'jackiechan': 854,\n",
              " 'wed': 1922,\n",
              " 'diamond': 469,\n",
              " 'liamneeson': 1107,\n",
              " 'alfredmolina': 47,\n",
              " 'johnheard': 962,\n",
              " 'victim': 1877,\n",
              " 'interview': 839,\n",
              " 'london': 1118,\n",
              " 'poison': 1410,\n",
              " 'true': 1853,\n",
              " 'story': 1741,\n",
              " 'mental': 1204,\n",
              " 'teenager': 1786,\n",
              " 'psychiatrist': 1440,\n",
              " 'scarlettjohansson': 1608,\n",
              " 'roommate': 1568,\n",
              " 'alanarkin': 32,\n",
              " 'joepantoliano': 939,\n",
              " 'santa': 1602,\n",
              " 'california': 237,\n",
              " 'jimbelushi': 925,\n",
              " 'australia': 110,\n",
              " 'chrisrock': 303,\n",
              " 'briangrazer': 204,\n",
              " 'wai': 1898,\n",
              " 'ming': 1244,\n",
              " 'on': 1332,\n",
              " 'christopherdoyle': 310,\n",
              " 'chi': 294,\n",
              " 'yi': 1988,\n",
              " 'kei': 1038,\n",
              " 'girlfriend': 696,\n",
              " 'smuggle': 1683,\n",
              " 'bar': 123,\n",
              " 'hong': 790,\n",
              " 'kong': 1072,\n",
              " 'fly': 617,\n",
              " 'magic': 1145,\n",
              " 'johngoodman': 960,\n",
              " 'bobbalaban': 179,\n",
              " 'elmerbernstein': 542,\n",
              " 'writer': 1982,\n",
              " 'ireland': 843,\n",
              " 'flashback': 615,\n",
              " 'michaelbiehn': 1213,\n",
              " 'san': 1599,\n",
              " 'francisco': 629,\n",
              " 'harrydeanstanton': 752,\n",
              " 'brucedern': 217,\n",
              " 'pattonoswalt': 1360,\n",
              " 'williamm': 1954,\n",
              " 'ward': 1913,\n",
              " 'submarine': 1747,\n",
              " 'navy': 1291,\n",
              " 'mockumentary': 1251,\n",
              " 'singer': 1673,\n",
              " 'robertredford': 1535,\n",
              " 'fisher': 613,\n",
              " 'tv': 1855,\n",
              " 'drag': 500,\n",
              " 'queen': 1446,\n",
              " 'florida': 616,\n",
              " 'paulguilfoyle': 1365,\n",
              " 'mountain': 1268,\n",
              " 'communism': 356,\n",
              " 'virgin': 1891,\n",
              " 'edwardburns': 524,\n",
              " 'irish': 844,\n",
              " 'catholic': 266,\n",
              " 'kevincorrigan': 1047,\n",
              " 'airport': 26,\n",
              " 'strip': 1743,\n",
              " 'club': 340,\n",
              " 'witness': 1967,\n",
              " 'lord': 1121,\n",
              " 'black': 168,\n",
              " 'cop': 370,\n",
              " 'hero': 776,\n",
              " 'china': 299,\n",
              " 'markwahlberg': 1170,\n",
              " 'erniehudson': 557,\n",
              " 'basketball': 128,\n",
              " 'addiction': 9,\n",
              " 'theatre': 1796,\n",
              " 'isabellehuppert': 847,\n",
              " 'timblakenelson': 1811,\n",
              " 'billpaxton': 155,\n",
              " 'rogercorman': 1553,\n",
              " 'clinthoward': 337,\n",
              " 'richardl': 1497,\n",
              " 'janethirshenson': 897,\n",
              " 'janejenkins': 896,\n",
              " 'ronhoward': 1564,\n",
              " 'levine': 1103,\n",
              " 'estrange': 563,\n",
              " 'jamesm': 883,\n",
              " 'johnson': 987,\n",
              " 'moon': 1257,\n",
              " 'space': 1699,\n",
              " 'disaster': 478,\n",
              " 'astronaut': 105,\n",
              " 'kennedy': 1042,\n",
              " 'accident': 2,\n",
              " 'johnhurt': 964,\n",
              " 'jasonflemyng': 900,\n",
              " 'carterburwell': 255,\n",
              " 'tommyleejones': 1824,\n",
              " 'chriso': 302,\n",
              " 'drewbarrymore': 505,\n",
              " 'timburton': 1812,\n",
              " 'veneill': 1875,\n",
              " 'kevinj': 1049,\n",
              " 'jamesr': 886,\n",
              " 'thomasl': 1803,\n",
              " 'knight': 1071,\n",
              " 'cunningham': 390,\n",
              " 'jamesw': 889,\n",
              " 'dc': 440,\n",
              " 'comic': 355,\n",
              " 'superhero': 1756,\n",
              " 'super': 1755,\n",
              " 'catherinedeneuve': 264,\n",
              " 'michelpiccoli': 1232,\n",
              " 'luisbuñuel': 1133,\n",
              " 'doctor': 484,\n",
              " 'jimjarmusch': 928,\n",
              " 'smoke': 1682,\n",
              " 'shop': 1658,\n",
              " 'cigarette': 320,\n",
              " 'michaelmoore': 1226,\n",
              " 'danaykroyd': 395,\n",
              " 'ericidle': 553,\n",
              " 'michaelkahn': 1222,\n",
              " 'nancynayor': 1283,\n",
              " 'halloween': 735,\n",
              " 'supernatural': 1757,\n",
              " 'ghost': 687,\n",
              " 'johnturturro': 991,\n",
              " 'spikelee': 1707,\n",
              " 'brucecampbell': 215,\n",
              " 'denzelwashington': 463,\n",
              " 'jamesj': 881,\n",
              " 'williamb': 1944,\n",
              " 'watkins': 1917,\n",
              " 'kevino': 1051,\n",
              " 'battle': 129,\n",
              " 'cold': 346,\n",
              " 'code': 344,\n",
              " 'davidlynch': 423,\n",
              " 'anti': 86,\n",
              " 'terror': 1788,\n",
              " 'mexico': 1208,\n",
              " 'tragic': 1838,\n",
              " 'weapon': 1920,\n",
              " 'doncheadle': 493,\n",
              " 'jazz': 902,\n",
              " 'jeremyirons': 917,\n",
              " 'samuell': 1596,\n",
              " 'jackson': 858,\n",
              " 'grahamgreene': 710,\n",
              " 'colleencamp': 349,\n",
              " 'davidb': 414,\n",
              " 'roberth': 1526,\n",
              " 'sequel': 1632,\n",
              " 'deception': 450,\n",
              " 'simon': 1670,\n",
              " 'nazis': 1293,\n",
              " 'seanconnery': 1621,\n",
              " 'richardgere': 1494,\n",
              " 'johngielgud': 959,\n",
              " 'michaelmadsen': 1224,\n",
              " 'emmetwalsh': 544,\n",
              " 'angelinajolie': 71,\n",
              " 'matthewlillard': 1190,\n",
              " 'glennfreemantle': 699,\n",
              " 'victorj': 1878,\n",
              " 'internet': 837,\n",
              " 'cyberpunk': 392,\n",
              " 'patrickstewart': 1359,\n",
              " 'weiss': 1924,\n",
              " 'keanureeves': 1035,\n",
              " 'takeshikitano': 1774,\n",
              " 'ice': 816,\n",
              " 'dolphlundgren': 488,\n",
              " 'udokier': 1858,\n",
              " 'brain': 197,\n",
              " 'industry': 829,\n",
              " 'maxvonsydow': 1195,\n",
              " 'edwardr': 527,\n",
              " 'judge': 1017,\n",
              " 'future': 655,\n",
              " 'holocaust': 787,\n",
              " 'test': 1793,\n",
              " 'stanleytucci': 1718,\n",
              " 'shelleywinters': 1649,\n",
              " 'markl': 1167,\n",
              " 'taylor': 1780,\n",
              " 'rosariodawson': 1570,\n",
              " 'catherinekeener': 265,\n",
              " 'cinema': 321,\n",
              " 'field': 603,\n",
              " 'lievschreiber': 1110,\n",
              " 'teen': 1784,\n",
              " 'illness': 822,\n",
              " 'benaffleck': 135,\n",
              " 'kevinsmith': 1053,\n",
              " 'stanlee': 1716,\n",
              " 'show': 1661,\n",
              " 'boyfriend': 193,\n",
              " 'silent': 1668,\n",
              " 'aftercreditsstinger': 19,\n",
              " 'series': 1634,\n",
              " 'whoopigoldberg': 1935,\n",
              " 'grief': 719,\n",
              " 'peterfonda': 1382,\n",
              " 'brown': 212,\n",
              " 'cheat': 292,\n",
              " 'graham': 709,\n",
              " 'ross': 1571,\n",
              " 'wish': 1965,\n",
              " 'party': 1353,\n",
              " 'spirit': 1708,\n",
              " 'eliaskoteas': 532,\n",
              " 'angel': 69,\n",
              " 'trauma': 1842,\n",
              " 'protagonist': 1439,\n",
              " 'bethgrant': 146,\n",
              " 'multiple': 1271,\n",
              " 'garyoldman': 664,\n",
              " 'robertduvall': 1522,\n",
              " 'dr': 499,\n",
              " 'ginagershon': 692,\n",
              " 'go': 700,\n",
              " 'dancer': 397,\n",
              " 'seduction': 1627,\n",
              " 'williamhurt': 1951,\n",
              " 'dennisquaid': 462,\n",
              " 'benkingsley': 137,\n",
              " 'amandamackey': 54,\n",
              " 'femme': 601,\n",
              " 'fatale': 595,\n",
              " 'decapitation': 449,\n",
              " 'aidanquinn': 23,\n",
              " 'briandennehy': 202,\n",
              " ...}"
            ]
          },
          "metadata": {
            "tags": []
          },
          "execution_count": 36
        }
      ]
    },
    {
      "metadata": {
        "id": "dvxj8pq0tADp",
        "colab_type": "code",
        "outputId": "f64a1d59-a123-44c3-ff49-855f7b19f5ba",
        "colab": {
          "base_uri": "https://localhost:8080/",
          "height": 54
        }
      },
      "cell_type": "code",
      "source": [
        "\"\"\"\n",
        "print(len(movies.index.tolist()))\n",
        "print(len(vectorizer.get_feature_names()[1:20]))\n",
        "print(content_matrix.shape)\n",
        "\n",
        "\"\"\""
      ],
      "execution_count": 37,
      "outputs": [
        {
          "output_type": "execute_result",
          "data": {
            "text/plain": [
              "'\\nprint(len(movies.index.tolist()))\\nprint(len(vectorizer.get_feature_names()[1:20]))\\nprint(content_matrix.shape)\\n\\n'"
            ]
          },
          "metadata": {
            "tags": []
          },
          "execution_count": 37
        }
      ]
    },
    {
      "metadata": {
        "id": "pggiyaxxqaEF",
        "colab_type": "code",
        "outputId": "abe80af1-f672-441a-ffb0-bd1aae5e1939",
        "colab": {
          "base_uri": "https://localhost:8080/",
          "height": 175
        }
      },
      "cell_type": "code",
      "source": [
        "#content_matrix.shape\n",
        "vectorizer.get_feature_names()[1:10]"
      ],
      "execution_count": 38,
      "outputs": [
        {
          "output_type": "execute_result",
          "data": {
            "text/plain": [
              "['abuse',\n",
              " 'accident',\n",
              " 'ackerman',\n",
              " 'action',\n",
              " 'actor',\n",
              " 'actress',\n",
              " 'adamsandler',\n",
              " 'addict',\n",
              " 'addiction']"
            ]
          },
          "metadata": {
            "tags": []
          },
          "execution_count": 38
        }
      ]
    },
    {
      "metadata": {
        "id": "mBVfDSqHxBm5",
        "colab_type": "code",
        "outputId": "58697c13-8855-4c0e-de2b-b2210e0f6781",
        "colab": {
          "base_uri": "https://localhost:8080/",
          "height": 52
        }
      },
      "cell_type": "code",
      "source": [
        "print(movies.shape)\n",
        "print(content_df.shape)"
      ],
      "execution_count": 39,
      "outputs": [
        {
          "output_type": "stream",
          "text": [
            "(45463, 24)\n",
            "(46629, 8)\n"
          ],
          "name": "stdout"
        }
      ]
    },
    {
      "metadata": {
        "id": "gmMKV11OgjNU",
        "colab_type": "code",
        "outputId": "ff1a2db0-0a52-4afc-92c3-cc84f49cb9fb",
        "colab": {
          "base_uri": "https://localhost:8080/",
          "height": 52
        }
      },
      "cell_type": "code",
      "source": [
        "n_components = content_matrix.shape[1]\n",
        "print(\"Best number for TSVD: {} \".format(n_components))\n",
        "svd = TruncatedSVD(n_components=(n_components-1))\n",
        "latent_content = svd.fit_transform(content_matrix)\n",
        "print(latent_content.shape)\n"
      ],
      "execution_count": 40,
      "outputs": [
        {
          "output_type": "stream",
          "text": [
            "Best number for TSVD: 2000 \n",
            "(46629, 1999)\n"
          ],
          "name": "stdout"
        }
      ]
    },
    {
      "metadata": {
        "id": "yTU2F_T6qyeg",
        "colab_type": "code",
        "outputId": "7f52e663-155c-42a0-947c-d13e84b17996",
        "colab": {
          "base_uri": "https://localhost:8080/",
          "height": 545
        }
      },
      "cell_type": "code",
      "source": [
        "# plot variance and cumulative variance for content based matrix\n",
        "expl = svd.explained_variance_ratio_\n",
        "plt.plot(expl, '.-', ms=15)\n",
        "plt.title('Variance');\n",
        "plt.show()\n",
        "\n",
        "plt.plot(np.cumsum(expl), '.-', ms=15)\n",
        "plt.title('Cumulative Variance');\n",
        "plt.show()"
      ],
      "execution_count": 41,
      "outputs": [
        {
          "output_type": "display_data",
          "data": {
            "image/png": "[encoded data removed]",
            "text/plain": [
              "<Figure size 432x288 with 1 Axes>"
            ]
          },
          "metadata": {
            "tags": []
          }
        },
        {
          "output_type": "display_data",
          "data": {
            "image/png": "[encoded data removed]",
            "text/plain": [
              "<Figure size 432x288 with 1 Axes>"
            ]
          },
          "metadata": {
            "tags": []
          }
        }
      ]
    },
    {
      "metadata": {
        "id": "ErV3eKDeTgnR",
        "colab_type": "code",
        "colab": {}
      },
      "cell_type": "code",
      "source": [
        "#print(vectorizer.get_feature_names()[:100])\n",
        "#print(content_matrix.shape)\n",
        "#print(movies.shape)\n",
        "content_matrix_df = pd.DataFrame(latent_content, index=content_df.index.tolist())\n",
        "content_matrix_df.to_csv(\"/content/drive/My Drive/Test/content_matrix.csv\", index=True, header=True)"
      ],
      "execution_count": 0,
      "outputs": []
    },
    {
      "metadata": {
        "id": "D6BGlmugeF3y",
        "colab_type": "code",
        "colab": {
          "base_uri": "https://localhost:8080/",
          "height": 122
        },
        "outputId": "a093b3d3-a231-42bd-8c30-7771d6c49b22"
      },
      "cell_type": "code",
      "source": [
        "# Make few test with content based model\n",
        "idx_movie = utility.get_idx_by_title(movies, \"GoldenEye\")\n",
        "print(\"movie id {}: \".format(idx_movie))\n",
        "features = ['title', 'genres','vote_average','score']\n",
        "similarity.make_recommendation(idx_movie, content_matrix_df, movies, features, 5)"
      ],
      "execution_count": 43,
      "outputs": [
        {
          "output_type": "stream",
          "text": [
            "movie id 9: \n",
            "              title                         genres  vote_average     score\n",
            "7362       Irma Vep            drama comedy horror           6.3  0.481568\n",
            "7363  Buck Privates                         comedy           6.7  0.459933\n",
            "5764    Adaptation.             comedy crime drama           7.3  0.449810\n",
            "3895       The Gift  horror drama thriller mystery           6.4  0.446491\n"
          ],
          "name": "stdout"
        }
      ]
    },
    {
      "metadata": {
        "id": "qhHtRFxq8ahN",
        "colab_type": "code",
        "colab": {}
      },
      "cell_type": "code",
      "source": [
        "#!jupyter nbconvert --to PDF \"RecommendUserSimilarity.ipynb\""
      ],
      "execution_count": 0,
      "outputs": []
    },
    {
      "metadata": {
        "id": "XTkmh8Y9cx22",
        "colab_type": "text"
      },
      "cell_type": "markdown",
      "source": [
        ""
      ]
    },
    {
      "metadata": {
        "id": "zZmISQTPrzoq",
        "colab_type": "code",
        "outputId": "f820176a-0a08-4f80-9b53-a388ea366731",
        "colab": {
          "base_uri": "https://localhost:8080/",
          "height": 54
        }
      },
      "cell_type": "code",
      "source": [
        "#rating_matrix[278]\n",
        "\"\"\"\n",
        "\n",
        "\n",
        "\n",
        "idx_movie = utility.get_idx_by_title(movies, \"Grumpier Old Men\")\n",
        "print(\"movie id {}: \".format(idx_movie))\n",
        "\n",
        "similarity.make_recommendation(idx_movie, latent_matrix_df, movies, features, 10)\n",
        "\n",
        "\"\"\"\n"
      ],
      "execution_count": 45,
      "outputs": [
        {
          "output_type": "execute_result",
          "data": {
            "text/plain": [
              "'\\n\\n\\n\\nidx_movie = utility.get_idx_by_title(movies, \"Grumpier Old Men\")\\nprint(\"movie id {}: \".format(idx_movie))\\n\\nsimilarity.make_recommendation(idx_movie, latent_matrix_df, movies, features, 10)\\n\\n'"
            ]
          },
          "metadata": {
            "tags": []
          },
          "execution_count": 45
        }
      ]
    },
    {
      "metadata": {
        "colab_type": "code",
        "outputId": "22ea3a0f-e1ae-49bd-d106-843d039a9e7b",
        "id": "O2YfIeAdZtIJ",
        "colab": {
          "base_uri": "https://localhost:8080/",
          "height": 54
        }
      },
      "cell_type": "code",
      "source": [
        "#rating_matrix[278]\n",
        "\n",
        "\"\"\"\n",
        "\n",
        "\n",
        "\n",
        "seed_movie = utility.get_idx_by_title(movies, \"Father of the Bride Part II\")\n",
        "print(\"movie id {}: \".format(seed_movie))\n",
        "\n",
        "\n",
        "similarity.make_recommendation(seed_movie, latent_matrix_df, movies, features, 10)\n",
        "\n",
        "\"\"\"\n",
        "\n"
      ],
      "execution_count": 46,
      "outputs": [
        {
          "output_type": "execute_result",
          "data": {
            "text/plain": [
              "'\\n\\n\\n\\nseed_movie = utility.get_idx_by_title(movies, \"Father of the Bride Part II\")\\nprint(\"movie id {}: \".format(seed_movie))\\n\\n\\nsimilarity.make_recommendation(seed_movie, latent_matrix_df, movies, features, 10)\\n\\n'"
            ]
          },
          "metadata": {
            "tags": []
          },
          "execution_count": 46
        }
      ]
    },
    {
      "metadata": {
        "id": "nFv-X6VO0c6u",
        "colab_type": "text"
      },
      "cell_type": "markdown",
      "source": [
        ""
      ]
    }
  ]
}