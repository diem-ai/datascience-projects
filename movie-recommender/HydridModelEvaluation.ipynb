{
  "nbformat": 4,
  "nbformat_minor": 0,
  "metadata": {
    "colab": {
      "name": "HydridModelEvaluation.ipynb",
      "version": "0.3.2",
      "provenance": [],
      "collapsed_sections": [],
      "include_colab_link": true
    },
    "kernelspec": {
      "name": "python3",
      "display_name": "Python 3"
    }
  },
  "cells": [
    {
      "cell_type": "markdown",
      "metadata": {
        "id": "view-in-github",
        "colab_type": "text"
      },
      "source": [
        "<a href=\"https://colab.research.google.com/github/diem-ai/movie-recommender/blob/master/HydridModelEvaluation.ipynb\" target=\"_parent\"><img src=\"https://colab.research.google.com/assets/colab-badge.svg\" alt=\"Open In Colab\"/></a>"
      ]
    },
    {
      "cell_type": "markdown",
      "metadata": {
        "id": "O5f2_kNPM9KT",
        "colab_type": "text"
      },
      "source": [
        "#### 1. Colab setup"
      ]
    },
    {
      "cell_type": "code",
      "metadata": {
        "id": "D7Bos5mWHHWD",
        "colab_type": "code",
        "colab": {
          "base_uri": "https://localhost:8080/",
          "height": 34
        },
        "outputId": "9278bfa8-6c72-470c-d7c5-66eedf6582ac"
      },
      "source": [
        "#mouting google drive with colab\n",
        "from google.colab import drive\n",
        "# This will prompt for authorization.\n",
        "# authorization code: 4/OwErfUj6QceGXhIGx_RWv0MKclb9rilw8UsJnZqFbSez-QS8zQ399JU\n",
        "drive.mount('/content/drive')\n",
        "\n",
        "#https://drive.google.com/open?id=1uGOD2rFYVL9mods0KIpU_oY2Ye6fl8KE"
      ],
      "execution_count": 1,
      "outputs": [
        {
          "output_type": "stream",
          "text": [
            "Drive already mounted at /content/drive; to attempt to forcibly remount, call drive.mount(\"/content/drive\", force_remount=True).\n"
          ],
          "name": "stdout"
        }
      ]
    },
    {
      "cell_type": "code",
      "metadata": {
        "id": "RMeCRbD7HJNb",
        "colab_type": "code",
        "colab": {
          "base_uri": "https://localhost:8080/",
          "height": 213
        },
        "outputId": "4f4f200b-91be-4abb-90d1-5b5bc7b75c01"
      },
      "source": [
        "# authorzing file access on google drive\n",
        "!pip install PyDrive\n",
        "\n",
        "from pydrive.auth import GoogleAuth\n",
        "from pydrive.drive import GoogleDrive\n",
        "from google.colab import auth\n",
        "from oauth2client.client import GoogleCredentials\n",
        "\n",
        "auth.authenticate_user()\n",
        "gauth = GoogleAuth()\n",
        "gauth.credentials = GoogleCredentials.get_application_default()\n",
        "drive = GoogleDrive(gauth)\n"
      ],
      "execution_count": 2,
      "outputs": [
        {
          "output_type": "stream",
          "text": [
            "Requirement already satisfied: PyDrive in /usr/local/lib/python3.6/dist-packages (1.3.1)\n",
            "Requirement already satisfied: oauth2client>=4.0.0 in /usr/local/lib/python3.6/dist-packages (from PyDrive) (4.1.3)\n",
            "Requirement already satisfied: PyYAML>=3.0 in /usr/local/lib/python3.6/dist-packages (from PyDrive) (3.13)\n",
            "Requirement already satisfied: google-api-python-client>=1.2 in /usr/local/lib/python3.6/dist-packages (from PyDrive) (1.6.7)\n",
            "Requirement already satisfied: pyasn1>=0.1.7 in /usr/local/lib/python3.6/dist-packages (from oauth2client>=4.0.0->PyDrive) (0.4.5)\n",
            "Requirement already satisfied: pyasn1-modules>=0.0.5 in /usr/local/lib/python3.6/dist-packages (from oauth2client>=4.0.0->PyDrive) (0.2.5)\n",
            "Requirement already satisfied: six>=1.6.1 in /usr/local/lib/python3.6/dist-packages (from oauth2client>=4.0.0->PyDrive) (1.12.0)\n",
            "Requirement already satisfied: httplib2>=0.9.1 in /usr/local/lib/python3.6/dist-packages (from oauth2client>=4.0.0->PyDrive) (0.11.3)\n",
            "Requirement already satisfied: rsa>=3.1.4 in /usr/local/lib/python3.6/dist-packages (from oauth2client>=4.0.0->PyDrive) (4.0)\n",
            "Requirement already satisfied: uritemplate<4dev,>=3.0.0 in /usr/local/lib/python3.6/dist-packages (from google-api-python-client>=1.2->PyDrive) (3.0.0)\n"
          ],
          "name": "stdout"
        }
      ]
    },
    {
      "cell_type": "code",
      "metadata": {
        "id": "C2KCmS7bIO-c",
        "colab_type": "code",
        "colab": {}
      },
      "source": [
        "# For colab running only\n",
        "my_module = drive.CreateFile({'id':'1uGOD2rFYVL9mods0KIpU_oY2Ye6fl8KE'})\n",
        "my_module.GetContentFile('recommender.py')\n"
      ],
      "execution_count": 0,
      "outputs": []
    },
    {
      "cell_type": "markdown",
      "metadata": {
        "id": "q9xcH-37NEdS",
        "colab_type": "text"
      },
      "source": [
        "#### 2. Import python libraries and recommender.py"
      ]
    },
    {
      "cell_type": "code",
      "metadata": {
        "id": "gGsrC6xkGMmT",
        "colab_type": "code",
        "colab": {
          "base_uri": "https://localhost:8080/",
          "height": 54
        },
        "outputId": "663f3de5-b67f-4344-c290-9958f9f0de5f"
      },
      "source": [
        "# Import library\n",
        "import pandas as pd\n",
        "import recommender\n",
        "from recommender import Utility as utility\n",
        "from recommender import Similarity as similarity\n",
        "\n"
      ],
      "execution_count": 4,
      "outputs": [
        {
          "output_type": "execute_result",
          "data": {
            "text/plain": [
              "\"\\nimport nltk\\nnltk.download('punkt')\\nnltk.download('stopwords')\\nnltk.download('averaged_perceptron_tagger')\\nnltk.download('wordnet')\\n\""
            ]
          },
          "metadata": {
            "tags": []
          },
          "execution_count": 4
        }
      ]
    },
    {
      "cell_type": "markdown",
      "metadata": {
        "id": "Y3ia6Cn9GscK",
        "colab_type": "text"
      },
      "source": [
        "#### 3. Loading normalised movies dataset and training data of two models"
      ]
    },
    {
      "cell_type": "code",
      "metadata": {
        "id": "F5e4-S-6GpnV",
        "colab_type": "code",
        "colab": {}
      },
      "source": [
        "movies = pd.read_csv(\"/content/drive/My Drive/Test/normalised_movies.csv\")\n",
        "ratings_matrix = pd.read_csv(\"/content/drive/My Drive/Test/ratings_matrix.csv\",  index_col=0)\n",
        "content_matrix = pd.read_csv(\"/content/drive/My Drive/Test/content_matrix.csv\",  index_col=0)"
      ],
      "execution_count": 0,
      "outputs": []
    },
    {
      "cell_type": "code",
      "metadata": {
        "id": "ySR9FF20IZve",
        "colab_type": "code",
        "colab": {
          "base_uri": "https://localhost:8080/",
          "height": 228
        },
        "outputId": "dda02b11-e0ef-44d2-a5b1-e7a9e9f46c9d"
      },
      "source": [
        "print(movies.info())"
      ],
      "execution_count": 6,
      "outputs": [
        {
          "output_type": "stream",
          "text": [
            "<class 'pandas.core.frame.DataFrame'>\n",
            "RangeIndex: 45463 entries, 0 to 45462\n",
            "Data columns (total 6 columns):\n",
            "Unnamed: 0      45463 non-null int64\n",
            "id              45463 non-null int64\n",
            "title           45460 non-null object\n",
            "genres          43021 non-null object\n",
            "vote_count      45460 non-null float64\n",
            "vote_average    45460 non-null float64\n",
            "dtypes: float64(2), int64(2), object(2)\n",
            "memory usage: 2.1+ MB\n",
            "None\n"
          ],
          "name": "stdout"
        }
      ]
    },
    {
      "cell_type": "code",
      "metadata": {
        "id": "uodOr8EbI39D",
        "colab_type": "code",
        "colab": {
          "base_uri": "https://localhost:8080/",
          "height": 122
        },
        "outputId": "55fa8b1c-4306-4774-af0e-f34e554ff203"
      },
      "source": [
        "print(ratings_matrix.info())"
      ],
      "execution_count": 7,
      "outputs": [
        {
          "output_type": "stream",
          "text": [
            "<class 'pandas.core.frame.DataFrame'>\n",
            "Int64Index: 7174 entries, 2 to 176143\n",
            "Columns: 3721 entries, 0 to 3720\n",
            "dtypes: float64(3721)\n",
            "memory usage: 203.7 MB\n",
            "None\n"
          ],
          "name": "stdout"
        }
      ]
    },
    {
      "cell_type": "code",
      "metadata": {
        "id": "R-3R7MhzI7fj",
        "colab_type": "code",
        "colab": {
          "base_uri": "https://localhost:8080/",
          "height": 122
        },
        "outputId": "18936614-909e-4a26-eaea-07dfef5f04cd"
      },
      "source": [
        "print(content_matrix.info())"
      ],
      "execution_count": 8,
      "outputs": [
        {
          "output_type": "stream",
          "text": [
            "<class 'pandas.core.frame.DataFrame'>\n",
            "Int64Index: 46629 entries, 0 to 46628\n",
            "Columns: 1999 entries, 0 to 1998\n",
            "dtypes: float64(1999)\n",
            "memory usage: 711.5 MB\n",
            "None\n"
          ],
          "name": "stdout"
        }
      ]
    },
    {
      "cell_type": "markdown",
      "metadata": {
        "id": "hZVeT46EMIeT",
        "colab_type": "text"
      },
      "source": [
        "#### 4. Print top 10 rated movies"
      ]
    },
    {
      "cell_type": "code",
      "metadata": {
        "id": "tPVtVKt1MPlc",
        "colab_type": "code",
        "colab": {
          "base_uri": "https://localhost:8080/",
          "height": 351
        },
        "outputId": "a0482b75-1658-4ca1-8685-efa2e6b721c5"
      },
      "source": [
        "utility.get_top_n_movies(movies, 10)"
      ],
      "execution_count": 11,
      "outputs": [
        {
          "output_type": "execute_result",
          "data": {
            "text/html": [
              "<div>\n",
              "<style scoped>\n",
              "    .dataframe tbody tr th:only-of-type {\n",
              "        vertical-align: middle;\n",
              "    }\n",
              "\n",
              "    .dataframe tbody tr th {\n",
              "        vertical-align: top;\n",
              "    }\n",
              "\n",
              "    .dataframe thead th {\n",
              "        text-align: right;\n",
              "    }\n",
              "</style>\n",
              "<table border=\"1\" class=\"dataframe\">\n",
              "  <thead>\n",
              "    <tr style=\"text-align: right;\">\n",
              "      <th></th>\n",
              "      <th>Unnamed: 0</th>\n",
              "      <th>id</th>\n",
              "      <th>title</th>\n",
              "      <th>genres</th>\n",
              "      <th>vote_count</th>\n",
              "      <th>vote_average</th>\n",
              "    </tr>\n",
              "  </thead>\n",
              "  <tbody>\n",
              "    <tr>\n",
              "      <th>0</th>\n",
              "      <td>0</td>\n",
              "      <td>862</td>\n",
              "      <td>Toy Story</td>\n",
              "      <td>animation comedy family</td>\n",
              "      <td>5415.0</td>\n",
              "      <td>7.7</td>\n",
              "    </tr>\n",
              "    <tr>\n",
              "      <th>1</th>\n",
              "      <td>1</td>\n",
              "      <td>8844</td>\n",
              "      <td>Jumanji</td>\n",
              "      <td>adventure fantasy family</td>\n",
              "      <td>2413.0</td>\n",
              "      <td>6.9</td>\n",
              "    </tr>\n",
              "    <tr>\n",
              "      <th>2</th>\n",
              "      <td>2</td>\n",
              "      <td>15602</td>\n",
              "      <td>Grumpier Old Men</td>\n",
              "      <td>romance comedy</td>\n",
              "      <td>92.0</td>\n",
              "      <td>6.5</td>\n",
              "    </tr>\n",
              "    <tr>\n",
              "      <th>3</th>\n",
              "      <td>3</td>\n",
              "      <td>31357</td>\n",
              "      <td>Waiting to Exhale</td>\n",
              "      <td>comedy drama romance</td>\n",
              "      <td>34.0</td>\n",
              "      <td>6.1</td>\n",
              "    </tr>\n",
              "    <tr>\n",
              "      <th>4</th>\n",
              "      <td>4</td>\n",
              "      <td>11862</td>\n",
              "      <td>Father of the Bride Part II</td>\n",
              "      <td>comedy</td>\n",
              "      <td>173.0</td>\n",
              "      <td>5.7</td>\n",
              "    </tr>\n",
              "    <tr>\n",
              "      <th>5</th>\n",
              "      <td>5</td>\n",
              "      <td>949</td>\n",
              "      <td>Heat</td>\n",
              "      <td>action crime drama thriller</td>\n",
              "      <td>1886.0</td>\n",
              "      <td>7.7</td>\n",
              "    </tr>\n",
              "    <tr>\n",
              "      <th>6</th>\n",
              "      <td>6</td>\n",
              "      <td>11860</td>\n",
              "      <td>Sabrina</td>\n",
              "      <td>comedy romance</td>\n",
              "      <td>141.0</td>\n",
              "      <td>6.2</td>\n",
              "    </tr>\n",
              "    <tr>\n",
              "      <th>7</th>\n",
              "      <td>7</td>\n",
              "      <td>45325</td>\n",
              "      <td>Tom and Huck</td>\n",
              "      <td>action adventure drama family</td>\n",
              "      <td>45.0</td>\n",
              "      <td>5.4</td>\n",
              "    </tr>\n",
              "    <tr>\n",
              "      <th>8</th>\n",
              "      <td>8</td>\n",
              "      <td>9091</td>\n",
              "      <td>Sudden Death</td>\n",
              "      <td>action adventure thriller</td>\n",
              "      <td>174.0</td>\n",
              "      <td>5.5</td>\n",
              "    </tr>\n",
              "    <tr>\n",
              "      <th>9</th>\n",
              "      <td>9</td>\n",
              "      <td>710</td>\n",
              "      <td>GoldenEye</td>\n",
              "      <td>adventure action thriller</td>\n",
              "      <td>1194.0</td>\n",
              "      <td>6.6</td>\n",
              "    </tr>\n",
              "  </tbody>\n",
              "</table>\n",
              "</div>"
            ],
            "text/plain": [
              "   Unnamed: 0     id                        title  \\\n",
              "0           0    862                    Toy Story   \n",
              "1           1   8844                      Jumanji   \n",
              "2           2  15602             Grumpier Old Men   \n",
              "3           3  31357            Waiting to Exhale   \n",
              "4           4  11862  Father of the Bride Part II   \n",
              "5           5    949                         Heat   \n",
              "6           6  11860                      Sabrina   \n",
              "7           7  45325                 Tom and Huck   \n",
              "8           8   9091                 Sudden Death   \n",
              "9           9    710                    GoldenEye   \n",
              "\n",
              "                          genres  vote_count  vote_average  \n",
              "0        animation comedy family      5415.0           7.7  \n",
              "1       adventure fantasy family      2413.0           6.9  \n",
              "2                 romance comedy        92.0           6.5  \n",
              "3           comedy drama romance        34.0           6.1  \n",
              "4                         comedy       173.0           5.7  \n",
              "5    action crime drama thriller      1886.0           7.7  \n",
              "6                 comedy romance       141.0           6.2  \n",
              "7  action adventure drama family        45.0           5.4  \n",
              "8      action adventure thriller       174.0           5.5  \n",
              "9      adventure action thriller      1194.0           6.6  "
            ]
          },
          "metadata": {
            "tags": []
          },
          "execution_count": 11
        }
      ]
    },
    {
      "cell_type": "code",
      "metadata": {
        "id": "aPresbHqMiOd",
        "colab_type": "code",
        "colab": {
          "base_uri": "https://localhost:8080/",
          "height": 78
        },
        "outputId": "e28775be-2c3d-4794-a2cf-fa7fc0a5f104"
      },
      "source": [
        "movies[movies['title']==\"Notting Hill\"]"
      ],
      "execution_count": 13,
      "outputs": [
        {
          "output_type": "execute_result",
          "data": {
            "text/html": [
              "<div>\n",
              "<style scoped>\n",
              "    .dataframe tbody tr th:only-of-type {\n",
              "        vertical-align: middle;\n",
              "    }\n",
              "\n",
              "    .dataframe tbody tr th {\n",
              "        vertical-align: top;\n",
              "    }\n",
              "\n",
              "    .dataframe thead th {\n",
              "        text-align: right;\n",
              "    }\n",
              "</style>\n",
              "<table border=\"1\" class=\"dataframe\">\n",
              "  <thead>\n",
              "    <tr style=\"text-align: right;\">\n",
              "      <th></th>\n",
              "      <th>Unnamed: 0</th>\n",
              "      <th>id</th>\n",
              "      <th>title</th>\n",
              "      <th>genres</th>\n",
              "      <th>vote_count</th>\n",
              "      <th>vote_average</th>\n",
              "    </tr>\n",
              "  </thead>\n",
              "  <tbody>\n",
              "    <tr>\n",
              "      <th>2556</th>\n",
              "      <td>2556</td>\n",
              "      <td>509</td>\n",
              "      <td>Notting Hill</td>\n",
              "      <td>romance comedy drama</td>\n",
              "      <td>1309.0</td>\n",
              "      <td>7.0</td>\n",
              "    </tr>\n",
              "  </tbody>\n",
              "</table>\n",
              "</div>"
            ],
            "text/plain": [
              "      Unnamed: 0   id         title                genres  vote_count  \\\n",
              "2556        2556  509  Notting Hill  romance comedy drama      1309.0   \n",
              "\n",
              "      vote_average  \n",
              "2556           7.0  "
            ]
          },
          "metadata": {
            "tags": []
          },
          "execution_count": 13
        }
      ]
    },
    {
      "cell_type": "markdown",
      "metadata": {
        "id": "ucpBdR0vJjdD",
        "colab_type": "text"
      },
      "source": [
        "#### 5. Make a recommendation with collaborative filtering model"
      ]
    },
    {
      "cell_type": "code",
      "metadata": {
        "id": "HEsoGDGNI-mf",
        "colab_type": "code",
        "colab": {
          "base_uri": "https://localhost:8080/",
          "height": 403
        },
        "outputId": "121c2179-31bb-4362-d419-6ba480925b4d"
      },
      "source": [
        "movie_title = \"Notting Hill\"\n",
        "features = ['title', 'genres', 'vote_average']\n",
        "\n",
        "movie_id = utility.get_movie_by_title(movies, movie_title)\n",
        "print(\"10 recommendations for {}\".format(movie_title))\n",
        "similarity.make_recommendation(movie_id, ratings_matrix, movies, features, 10)\n"
      ],
      "execution_count": 17,
      "outputs": [
        {
          "output_type": "stream",
          "text": [
            "10 recommendations for Notting Hill\n",
            "                            title                               genres  \\\n",
            "2                Grumpier Old Men                       romance comedy   \n",
            "8391               Brother Orchid   drama action comedy thriller crime   \n",
            "8341                    The Ghoul  romance drama horror action mystery   \n",
            "8359                 The Informer                                drama   \n",
            "8363  The Crime of Monsieur Lange                          drama crime   \n",
            "8366       Mr. Deeds Goes to Town                 comedy drama romance   \n",
            "8367         The Petrified Forest                          crime drama   \n",
            "8368        Revolt of the Zombies                               horror   \n",
            "8371           Wife vs. Secretary                 comedy drama romance   \n",
            "\n",
            "      vote_average  \n",
            "2              6.5  \n",
            "8391           6.7  \n",
            "8341           5.0  \n",
            "8359           6.5  \n",
            "8363           6.2  \n",
            "8366           7.3  \n",
            "8367           7.1  \n",
            "8368           3.0  \n",
            "8371           6.5  \n"
          ],
          "name": "stdout"
        }
      ]
    },
    {
      "cell_type": "markdown",
      "metadata": {
        "id": "yflhZzUTKoeF",
        "colab_type": "text"
      },
      "source": [
        "#### 6. Make recommendation with content based model"
      ]
    },
    {
      "cell_type": "code",
      "metadata": {
        "id": "1De-S69DKu5c",
        "colab_type": "code",
        "colab": {
          "base_uri": "https://localhost:8080/",
          "height": 210
        },
        "outputId": "0ebac6f0-a617-4325-a444-e1d3cb8d8504"
      },
      "source": [
        "\n",
        "idx = utility.get_idx_by_title(movies, movie_title)\n",
        "print(\"10 recommendations for {}\".format(movie_title))\n",
        "similarity.make_recommendation(idx, content_matrix, movies, features, 10)\n"
      ],
      "execution_count": 18,
      "outputs": [
        {
          "output_type": "stream",
          "text": [
            "10 recommendations for Notting Hill\n",
            "                                title                    genres  vote_average\n",
            "44710         Faust et Méphistophélès            fantasy horror           5.0\n",
            "44695          Jupiter's Thunderballs            comedy fantasy           4.8\n",
            "33572               Storm in a Teacup            comedy romance           8.1\n",
            "21219              Thanks for Sharing              comedy drama           5.7\n",
            "3866                   102 Dalmatians             comedy family           5.1\n",
            "18389                  All Night Long               drama music           7.0\n",
            "19983                  Crooked Arrows                     drama           5.6\n",
            "19597        Ator, the Fighting Eagle  fantasy action adventure           3.6\n",
            "42962  Timecop 2: The Berlin Decision    action science fiction           4.0\n"
          ],
          "name": "stdout"
        }
      ]
    }
  ]
}