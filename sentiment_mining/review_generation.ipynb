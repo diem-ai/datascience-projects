{
  "nbformat": 4,
  "nbformat_minor": 0,
  "metadata": {
    "colab": {
      "name": "review_generation.ipynb",
      "version": "0.3.2",
      "provenance": [],
      "include_colab_link": true
    },
    "kernelspec": {
      "name": "python3",
      "display_name": "Python 3"
    },
    "accelerator": "GPU"
  },
  "cells": [
    {
      "cell_type": "markdown",
      "metadata": {
        "id": "view-in-github",
        "colab_type": "text"
      },
      "source": [
        "<a href=\"https://colab.research.google.com/github/diem-ai/datascience-projects/blob/master/sentiment_mining/review_generation.ipynb\" target=\"_parent\"><img src=\"https://colab.research.google.com/assets/colab-badge.svg\" alt=\"Open In Colab\"/></a>"
      ]
    },
    {
      "cell_type": "code",
      "metadata": {
        "id": "E7LLeGBVkuHx",
        "colab_type": "code",
        "colab": {}
      },
      "source": [
        "from google.colab import drive\n",
        "drive.mount('/content/drive')\n",
        "import sys\n",
        "# To add a directory with your code into a list of directories \n",
        "# which will be searched for packages\n",
        "sys.path.append('/content/drive/My Drive/Colab Notebooks')\n",
        "\n",
        "!pip install PyDrive\n",
        "\n",
        "from pydrive.auth import GoogleAuth\n",
        "from pydrive.drive import GoogleDrive\n",
        "from google.colab import auth\n",
        "from oauth2client.client import GoogleCredentials\n",
        "\n",
        "auth.authenticate_user()\n",
        "gauth = GoogleAuth()\n",
        "gauth.credentials = GoogleCredentials.get_application_default()\n",
        "drive = GoogleDrive(gauth)\n",
        "\n",
        "\n",
        "from google.colab import drive\n",
        "drive.mount('/content/drive')"
      ],
      "execution_count": 0,
      "outputs": []
    },
    {
      "cell_type": "code",
      "metadata": {
        "id": "f6C2FfaQoHip",
        "colab_type": "code",
        "colab": {}
      },
      "source": [
        "!pip install markovify"
      ],
      "execution_count": 0,
      "outputs": []
    },
    {
      "cell_type": "code",
      "metadata": {
        "id": "hf3wr7bvoXhp",
        "colab_type": "code",
        "colab": {}
      },
      "source": [
        "import pandas as pd\n",
        "import markovify as markov"
      ],
      "execution_count": 0,
      "outputs": []
    },
    {
      "cell_type": "code",
      "metadata": {
        "id": "wLvNJWYVovs5",
        "colab_type": "code",
        "colab": {}
      },
      "source": [
        "filepath = '/content/drive/My Drive/data/' \n",
        "\n",
        "products = pd.read_csv(filepath + \"amazon_baby.csv\")\n",
        "\n",
        "products = products[[\"name\", \"review\", \"rating\"]]"
      ],
      "execution_count": 0,
      "outputs": []
    },
    {
      "cell_type": "code",
      "metadata": {
        "id": "8FZftiPLpWjf",
        "colab_type": "code",
        "colab": {
          "base_uri": "https://localhost:8080/",
          "height": 196
        },
        "outputId": "eb646fb0-f300-4a36-c9a2-d9c6eda0a968"
      },
      "source": [
        "products.head()"
      ],
      "execution_count": 67,
      "outputs": [
        {
          "output_type": "execute_result",
          "data": {
            "text/html": [
              "<div>\n",
              "<style scoped>\n",
              "    .dataframe tbody tr th:only-of-type {\n",
              "        vertical-align: middle;\n",
              "    }\n",
              "\n",
              "    .dataframe tbody tr th {\n",
              "        vertical-align: top;\n",
              "    }\n",
              "\n",
              "    .dataframe thead th {\n",
              "        text-align: right;\n",
              "    }\n",
              "</style>\n",
              "<table border=\"1\" class=\"dataframe\">\n",
              "  <thead>\n",
              "    <tr style=\"text-align: right;\">\n",
              "      <th></th>\n",
              "      <th>name</th>\n",
              "      <th>review</th>\n",
              "      <th>rating</th>\n",
              "    </tr>\n",
              "  </thead>\n",
              "  <tbody>\n",
              "    <tr>\n",
              "      <th>0</th>\n",
              "      <td>Planetwise Flannel Wipes</td>\n",
              "      <td>These flannel wipes are OK, but in my opinion ...</td>\n",
              "      <td>3</td>\n",
              "    </tr>\n",
              "    <tr>\n",
              "      <th>1</th>\n",
              "      <td>Planetwise Wipe Pouch</td>\n",
              "      <td>it came early and was not disappointed. i love...</td>\n",
              "      <td>5</td>\n",
              "    </tr>\n",
              "    <tr>\n",
              "      <th>2</th>\n",
              "      <td>Annas Dream Full Quilt with 2 Shams</td>\n",
              "      <td>Very soft and comfortable and warmer than it l...</td>\n",
              "      <td>5</td>\n",
              "    </tr>\n",
              "    <tr>\n",
              "      <th>3</th>\n",
              "      <td>Stop Pacifier Sucking without tears with Thumb...</td>\n",
              "      <td>This is a product well worth the purchase.  I ...</td>\n",
              "      <td>5</td>\n",
              "    </tr>\n",
              "    <tr>\n",
              "      <th>4</th>\n",
              "      <td>Stop Pacifier Sucking without tears with Thumb...</td>\n",
              "      <td>All of my kids have cried non-stop when I trie...</td>\n",
              "      <td>5</td>\n",
              "    </tr>\n",
              "  </tbody>\n",
              "</table>\n",
              "</div>"
            ],
            "text/plain": [
              "                                                name  ... rating\n",
              "0                           Planetwise Flannel Wipes  ...      3\n",
              "1                              Planetwise Wipe Pouch  ...      5\n",
              "2                Annas Dream Full Quilt with 2 Shams  ...      5\n",
              "3  Stop Pacifier Sucking without tears with Thumb...  ...      5\n",
              "4  Stop Pacifier Sucking without tears with Thumb...  ...      5\n",
              "\n",
              "[5 rows x 3 columns]"
            ]
          },
          "metadata": {
            "tags": []
          },
          "execution_count": 67
        }
      ]
    },
    {
      "cell_type": "code",
      "metadata": {
        "id": "v9lSGIFgx2tz",
        "colab_type": "code",
        "colab": {}
      },
      "source": [
        "import string\n",
        "import re\n",
        "\n",
        "def remove_bad_characters(text):\n",
        "    '''\n",
        "    Removes default bad characters\n",
        "    '''\n",
        "    if not (pd.isnull(text)):\n",
        "        #',', '.',  '!',  ';', ';', ':',\n",
        "        bad_chars = set([\"@\", \"+\", '<br>', '<br />', '/', \"'\", '\"', '\\\\',\n",
        "                        '(',')', '<p>', '\\\\n', '<', '>', '?', '#', \n",
        "                         \n",
        "                         '[',']', '%', '$', '&',\n",
        "                        '-', \"*\", \"_\", \"=\", \"}\", \"{\"])\n",
        "        for char in bad_chars:\n",
        "            text = text.replace(char, \"\")\n",
        "        text = re.sub('\\d+', \"\", text)\n",
        "\n",
        "    return text\n"
      ],
      "execution_count": 0,
      "outputs": []
    },
    {
      "cell_type": "code",
      "metadata": {
        "id": "xi9ydWr10yCu",
        "colab_type": "code",
        "colab": {}
      },
      "source": [
        "products['clean_review'] = products['review'].apply(lambda rev : remove_bad_characters(rev))"
      ],
      "execution_count": 0,
      "outputs": []
    },
    {
      "cell_type": "code",
      "metadata": {
        "id": "-7e_5tU41cWa",
        "colab_type": "code",
        "colab": {
          "base_uri": "https://localhost:8080/",
          "height": 196
        },
        "outputId": "82de9897-c13c-4a36-84c4-c273e30e3f8b"
      },
      "source": [
        "products.head()"
      ],
      "execution_count": 10,
      "outputs": [
        {
          "output_type": "execute_result",
          "data": {
            "text/html": [
              "<div>\n",
              "<style scoped>\n",
              "    .dataframe tbody tr th:only-of-type {\n",
              "        vertical-align: middle;\n",
              "    }\n",
              "\n",
              "    .dataframe tbody tr th {\n",
              "        vertical-align: top;\n",
              "    }\n",
              "\n",
              "    .dataframe thead th {\n",
              "        text-align: right;\n",
              "    }\n",
              "</style>\n",
              "<table border=\"1\" class=\"dataframe\">\n",
              "  <thead>\n",
              "    <tr style=\"text-align: right;\">\n",
              "      <th></th>\n",
              "      <th>name</th>\n",
              "      <th>review</th>\n",
              "      <th>rating</th>\n",
              "      <th>clean_review</th>\n",
              "    </tr>\n",
              "  </thead>\n",
              "  <tbody>\n",
              "    <tr>\n",
              "      <th>0</th>\n",
              "      <td>Planetwise Flannel Wipes</td>\n",
              "      <td>These flannel wipes are OK, but in my opinion ...</td>\n",
              "      <td>3</td>\n",
              "      <td>These flannel wipes are OK, but in my opinion ...</td>\n",
              "    </tr>\n",
              "    <tr>\n",
              "      <th>1</th>\n",
              "      <td>Planetwise Wipe Pouch</td>\n",
              "      <td>it came early and was not disappointed. i love...</td>\n",
              "      <td>5</td>\n",
              "      <td>it came early and was not disappointed. i love...</td>\n",
              "    </tr>\n",
              "    <tr>\n",
              "      <th>2</th>\n",
              "      <td>Annas Dream Full Quilt with 2 Shams</td>\n",
              "      <td>Very soft and comfortable and warmer than it l...</td>\n",
              "      <td>5</td>\n",
              "      <td>Very soft and comfortable and warmer than it l...</td>\n",
              "    </tr>\n",
              "    <tr>\n",
              "      <th>3</th>\n",
              "      <td>Stop Pacifier Sucking without tears with Thumb...</td>\n",
              "      <td>This is a product well worth the purchase.  I ...</td>\n",
              "      <td>5</td>\n",
              "      <td>This is a product well worth the purchase.  I ...</td>\n",
              "    </tr>\n",
              "    <tr>\n",
              "      <th>4</th>\n",
              "      <td>Stop Pacifier Sucking without tears with Thumb...</td>\n",
              "      <td>All of my kids have cried non-stop when I trie...</td>\n",
              "      <td>5</td>\n",
              "      <td>All of my kids have cried nonstop when I tried...</td>\n",
              "    </tr>\n",
              "  </tbody>\n",
              "</table>\n",
              "</div>"
            ],
            "text/plain": [
              "                                                name  ...                                       clean_review\n",
              "0                           Planetwise Flannel Wipes  ...  These flannel wipes are OK, but in my opinion ...\n",
              "1                              Planetwise Wipe Pouch  ...  it came early and was not disappointed. i love...\n",
              "2                Annas Dream Full Quilt with 2 Shams  ...  Very soft and comfortable and warmer than it l...\n",
              "3  Stop Pacifier Sucking without tears with Thumb...  ...  This is a product well worth the purchase.  I ...\n",
              "4  Stop Pacifier Sucking without tears with Thumb...  ...  All of my kids have cried nonstop when I tried...\n",
              "\n",
              "[5 rows x 4 columns]"
            ]
          },
          "metadata": {
            "tags": []
          },
          "execution_count": 10
        }
      ]
    },
    {
      "cell_type": "code",
      "metadata": {
        "id": "PvfKr7fnqmAK",
        "colab_type": "code",
        "colab": {}
      },
      "source": [
        "def make_marko_model(data):\n",
        "  \n",
        "  #transform array to text\n",
        "  text = \"\".join(str(line) for line in data)\n",
        "  return markov.Text(text)\n",
        "\n",
        "def make_negative_review_model():\n",
        "  \n",
        "  negative_reviews = products.loc[products.rating < 3, \"clean_review\"].values.flatten()\n",
        "  return make_marko_model(negative_reviews)\n",
        "\n",
        "def make_positive_review_model():\n",
        "  \n",
        "  positive_reviews = products.loc[products.rating > 3, \"clean_review\"].values.flatten()\n",
        "  return make_marko_model(positive_reviews)\n",
        "\n",
        "def make_neutral_review_model():\n",
        "  \n",
        "  neutral_reviews = products.loc[products.rating == 3, \"clean_review\"].values.flatten()\n",
        "  return make_marko_model(neutral_reviews)"
      ],
      "execution_count": 0,
      "outputs": []
    },
    {
      "cell_type": "code",
      "metadata": {
        "id": "HZONu-IqusA9",
        "colab_type": "code",
        "colab": {
          "base_uri": "https://localhost:8080/",
          "height": 120
        },
        "outputId": "793994b5-fd26-49eb-e49f-261db9a9751d"
      },
      "source": [
        "# Print five randomly-generated sentences\n",
        "neg_rev_model = make_negative_review_model()\n",
        "\n",
        "for i in range(5):\n",
        "    print(neg_rev_model.make_sentence())"
      ],
      "execution_count": 21,
      "outputs": [
        {
          "output_type": "stream",
          "text": [
            "So we found out a new seat that advertises itself as much for your little ones tender gums, a plastic sticker that rips up your whole monitor to anyone.\n",
            "So sad it couldnt even get it to be used with.\n",
            "My toddler destroyed them by hand is already coming apart from the cup holder on each side.It says somewhere in the car.\n",
            "The price she quoted me for two reasons.\n",
            "Even with the holes, it just turns off randomlyand its a pain to clean it, and after placing it back up so much mucas my son was able to keep him sitting back as well.\n"
          ],
          "name": "stdout"
        }
      ]
    },
    {
      "cell_type": "code",
      "metadata": {
        "id": "qphGj3vQvHij",
        "colab_type": "code",
        "colab": {
          "base_uri": "https://localhost:8080/",
          "height": 120
        },
        "outputId": "f5c22bce-7203-41ad-aa77-75718519b3da"
      },
      "source": [
        "pos_rev_model =make_positive_review_model()\n",
        "# Print five randomly-generated sentences\n",
        "for i in range(5):\n",
        "    print(pos_rev_model.make_sentence())"
      ],
      "execution_count": 23,
      "outputs": [
        {
          "output_type": "stream",
          "text": [
            "Maybe her diapers and keep pressure on my side anyways thinking about cutting my daughter in it gets used.\n",
            "A bit of a Wet Ones canister, my sons wall for support.\n",
            "We use these under his fleece sleep sack a ton!\n",
            "Our week gets jostled around when my babies favorite place in dishwasher.\n",
            "My daughterinlaw is expecting to be clean while looking totally adorable.The hideaway hanging straps are VERY pleased that I needed something that would easily fits into the babys room.\n"
          ],
          "name": "stdout"
        }
      ]
    },
    {
      "cell_type": "code",
      "metadata": {
        "id": "rKK0cDLc4U1V",
        "colab_type": "code",
        "colab": {
          "base_uri": "https://localhost:8080/",
          "height": 120
        },
        "outputId": "ac79b7e7-e8a4-4901-f6cd-476911a4d1c2"
      },
      "source": [
        "neu_rev_model = make_neutral_review_model()\n",
        "for i in range(5):\n",
        "  print(neu_rev_model.make_sentence())"
      ],
      "execution_count": 27,
      "outputs": [
        {
          "output_type": "stream",
          "text": [
            "It is difficult to use a ziploc bag before placing them in yard, however, I returned the units dont immediately sync together.\n",
            "The sun visor on mine is just as if they bend right For the money, you could customize the speed options really falls short.\n",
            "I am not sure why this has been a little more attractive.\n",
            "All together to much time with it.\n",
            "Well, this mobile to continue to grow, and also depress the on button every minutes it just doesnt look comfortable..\n"
          ],
          "name": "stdout"
        }
      ]
    }
  ]
}