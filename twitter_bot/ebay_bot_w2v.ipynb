{
  "nbformat": 4,
  "nbformat_minor": 0,
  "metadata": {
    "colab": {
      "name": "ebay_bot_w2v.ipynb",
      "provenance": [],
      "collapsed_sections": [
        "fBvZqu--xI3x"
      ],
      "include_colab_link": true
    },
    "kernelspec": {
      "name": "python3",
      "display_name": "Python 3"
    }
  },
  "cells": [
    {
      "cell_type": "markdown",
      "metadata": {
        "id": "view-in-github",
        "colab_type": "text"
      },
      "source": [
        "<a href=\"https://colab.research.google.com/github/diem-ai/datascience-projects/blob/master/twitter_bot/ebay_bot_w2v.ipynb\" target=\"_parent\"><img src=\"https://colab.research.google.com/assets/colab-badge.svg\" alt=\"Open In Colab\"/></a>"
      ]
    },
    {
      "cell_type": "markdown",
      "metadata": {
        "id": "fBvZqu--xI3x",
        "colab_type": "text"
      },
      "source": [
        "# Google Setup"
      ]
    },
    {
      "cell_type": "code",
      "metadata": {
        "id": "3RWA7-vkHsqj",
        "colab_type": "code",
        "colab": {}
      },
      "source": [
        "from google.colab import drive\n",
        "drive.mount('/content/drive')\n",
        "import sys\n",
        "# To add a directory with your code into a list of directories \n",
        "# which will be searched for packages\n",
        "sys.path.append('/content/drive/My Drive/Colab Notebooks')\n",
        "\n",
        "!pip install PyDrive\n",
        "\n",
        "from pydrive.auth import GoogleAuth\n",
        "from pydrive.drive import GoogleDrive\n",
        "from google.colab import auth\n",
        "from oauth2client.client import GoogleCredentials\n",
        "\n",
        "auth.authenticate_user()\n",
        "gauth = GoogleAuth()\n",
        "gauth.credentials = GoogleCredentials.get_application_default()\n",
        "drive = GoogleDrive(gauth)"
      ],
      "execution_count": 0,
      "outputs": []
    },
    {
      "cell_type": "markdown",
      "metadata": {
        "id": "bpK0BoWExEYs",
        "colab_type": "text"
      },
      "source": [
        "# Install packages"
      ]
    },
    {
      "cell_type": "code",
      "metadata": {
        "id": "OgFHKRzXILOQ",
        "colab_type": "code",
        "outputId": "d36a0cb1-7d8a-4023-c620-c4824dd82f53",
        "colab": {
          "base_uri": "https://localhost:8080/",
          "height": 608
        }
      },
      "source": [
        "! pip install --upgrade gensim\n",
        "! pip install --upgrade emoji"
      ],
      "execution_count": 0,
      "outputs": [
        {
          "output_type": "stream",
          "text": [
            "Collecting gensim\n",
            "\u001b[?25l  Downloading https://files.pythonhosted.org/packages/d1/dd/112bd4258cee11e0baaaba064060eb156475a42362e59e3ff28e7ca2d29d/gensim-3.8.1-cp36-cp36m-manylinux1_x86_64.whl (24.2MB)\n",
            "\u001b[K     |████████████████████████████████| 24.2MB 98kB/s \n",
            "\u001b[?25hRequirement already satisfied, skipping upgrade: scipy>=0.18.1 in /usr/local/lib/python3.6/dist-packages (from gensim) (1.3.3)\n",
            "Requirement already satisfied, skipping upgrade: smart-open>=1.8.1 in /usr/local/lib/python3.6/dist-packages (from gensim) (1.9.0)\n",
            "Requirement already satisfied, skipping upgrade: six>=1.5.0 in /usr/local/lib/python3.6/dist-packages (from gensim) (1.12.0)\n",
            "Requirement already satisfied, skipping upgrade: numpy>=1.11.3 in /usr/local/lib/python3.6/dist-packages (from gensim) (1.17.4)\n",
            "Requirement already satisfied, skipping upgrade: boto3 in /usr/local/lib/python3.6/dist-packages (from smart-open>=1.8.1->gensim) (1.10.36)\n",
            "Requirement already satisfied, skipping upgrade: requests in /usr/local/lib/python3.6/dist-packages (from smart-open>=1.8.1->gensim) (2.21.0)\n",
            "Requirement already satisfied, skipping upgrade: boto>=2.32 in /usr/local/lib/python3.6/dist-packages (from smart-open>=1.8.1->gensim) (2.49.0)\n",
            "Requirement already satisfied, skipping upgrade: s3transfer<0.3.0,>=0.2.0 in /usr/local/lib/python3.6/dist-packages (from boto3->smart-open>=1.8.1->gensim) (0.2.1)\n",
            "Requirement already satisfied, skipping upgrade: jmespath<1.0.0,>=0.7.1 in /usr/local/lib/python3.6/dist-packages (from boto3->smart-open>=1.8.1->gensim) (0.9.4)\n",
            "Requirement already satisfied, skipping upgrade: botocore<1.14.0,>=1.13.36 in /usr/local/lib/python3.6/dist-packages (from boto3->smart-open>=1.8.1->gensim) (1.13.36)\n",
            "Requirement already satisfied, skipping upgrade: urllib3<1.25,>=1.21.1 in /usr/local/lib/python3.6/dist-packages (from requests->smart-open>=1.8.1->gensim) (1.24.3)\n",
            "Requirement already satisfied, skipping upgrade: certifi>=2017.4.17 in /usr/local/lib/python3.6/dist-packages (from requests->smart-open>=1.8.1->gensim) (2019.11.28)\n",
            "Requirement already satisfied, skipping upgrade: idna<2.9,>=2.5 in /usr/local/lib/python3.6/dist-packages (from requests->smart-open>=1.8.1->gensim) (2.8)\n",
            "Requirement already satisfied, skipping upgrade: chardet<3.1.0,>=3.0.2 in /usr/local/lib/python3.6/dist-packages (from requests->smart-open>=1.8.1->gensim) (3.0.4)\n",
            "Requirement already satisfied, skipping upgrade: python-dateutil<2.8.1,>=2.1; python_version >= \"2.7\" in /usr/local/lib/python3.6/dist-packages (from botocore<1.14.0,>=1.13.36->boto3->smart-open>=1.8.1->gensim) (2.6.1)\n",
            "Requirement already satisfied, skipping upgrade: docutils<0.16,>=0.10 in /usr/local/lib/python3.6/dist-packages (from botocore<1.14.0,>=1.13.36->boto3->smart-open>=1.8.1->gensim) (0.15.2)\n",
            "Installing collected packages: gensim\n",
            "  Found existing installation: gensim 3.6.0\n",
            "    Uninstalling gensim-3.6.0:\n",
            "      Successfully uninstalled gensim-3.6.0\n",
            "Successfully installed gensim-3.8.1\n",
            "Collecting emoji\n",
            "\u001b[?25l  Downloading https://files.pythonhosted.org/packages/40/8d/521be7f0091fe0f2ae690cc044faf43e3445e0ff33c574eae752dd7e39fa/emoji-0.5.4.tar.gz (43kB)\n",
            "\u001b[K     |████████████████████████████████| 51kB 2.7MB/s \n",
            "\u001b[?25hBuilding wheels for collected packages: emoji\n",
            "  Building wheel for emoji (setup.py) ... \u001b[?25l\u001b[?25hdone\n",
            "  Created wheel for emoji: filename=emoji-0.5.4-cp36-none-any.whl size=42175 sha256=c7f22f229e1a973a737baacacf60c86c078c256d1b662e51f98a5f025a15fa11\n",
            "  Stored in directory: /root/.cache/pip/wheels/2a/a9/0a/4f8e8cce8074232aba240caca3fade315bb49fac68808d1a9c\n",
            "Successfully built emoji\n",
            "Installing collected packages: emoji\n",
            "Successfully installed emoji-0.5.4\n"
          ],
          "name": "stdout"
        }
      ]
    },
    {
      "cell_type": "markdown",
      "metadata": {
        "id": "nNDWknuEw_r0",
        "colab_type": "text"
      },
      "source": [
        "# Libraries"
      ]
    },
    {
      "cell_type": "code",
      "metadata": {
        "id": "bPmwKsUBIQCk",
        "colab_type": "code",
        "outputId": "cc1047ab-08b6-4c99-fcc4-6e6eaa0735cf",
        "colab": {
          "base_uri": "https://localhost:8080/",
          "height": 118
        }
      },
      "source": [
        "import pandas as pd\n",
        "import math\n",
        "import re\n",
        "import nltk\n",
        "import string\n",
        "\n",
        "#Download only once\n",
        "nltk.download('punkt')  # pre-trained tokenizer for English\n",
        "nltk.download('wordnet') # lexical database for the English language\n",
        "nltk.download('stopwords')\n",
        "\n",
        "from gensim.test.utils import common_texts\n",
        "from gensim.corpora import Dictionary\n",
        "from gensim.models import Word2Vec , WordEmbeddingSimilarityIndex\n",
        "from gensim.similarities import SoftCosineSimilarity, SparseTermSimilarityMatrix\n",
        "from gensim.models import TfidfModel\n",
        "from multiprocessing import cpu_count\n"
      ],
      "execution_count": 0,
      "outputs": [
        {
          "output_type": "stream",
          "text": [
            "[nltk_data] Downloading package punkt to /root/nltk_data...\n",
            "[nltk_data]   Unzipping tokenizers/punkt.zip.\n",
            "[nltk_data] Downloading package wordnet to /root/nltk_data...\n",
            "[nltk_data]   Unzipping corpora/wordnet.zip.\n",
            "[nltk_data] Downloading package stopwords to /root/nltk_data...\n",
            "[nltk_data]   Unzipping corpora/stopwords.zip.\n"
          ],
          "name": "stdout"
        }
      ]
    },
    {
      "cell_type": "markdown",
      "metadata": {
        "id": "-5ARIR3jI3_P",
        "colab_type": "text"
      },
      "source": [
        "# Data Preparation \n",
        "Load twitter dataset into pandas dataframe"
      ]
    },
    {
      "cell_type": "code",
      "metadata": {
        "id": "F5bCxs0MIWB3",
        "colab_type": "code",
        "outputId": "1a9260b5-376b-4a4b-8837-30fa92cb1758",
        "colab": {
          "base_uri": "https://localhost:8080/",
          "height": 195
        }
      },
      "source": [
        "filepath = '/content/drive/My Drive/data/' \n",
        "\n",
        "df = pd.read_csv(filepath + \"twcs.csv.zip\")\n",
        "\n",
        "df.head()"
      ],
      "execution_count": 0,
      "outputs": [
        {
          "output_type": "execute_result",
          "data": {
            "text/html": [
              "<div>\n",
              "<style scoped>\n",
              "    .dataframe tbody tr th:only-of-type {\n",
              "        vertical-align: middle;\n",
              "    }\n",
              "\n",
              "    .dataframe tbody tr th {\n",
              "        vertical-align: top;\n",
              "    }\n",
              "\n",
              "    .dataframe thead th {\n",
              "        text-align: right;\n",
              "    }\n",
              "</style>\n",
              "<table border=\"1\" class=\"dataframe\">\n",
              "  <thead>\n",
              "    <tr style=\"text-align: right;\">\n",
              "      <th></th>\n",
              "      <th>tweet_id</th>\n",
              "      <th>author_id</th>\n",
              "      <th>inbound</th>\n",
              "      <th>created_at</th>\n",
              "      <th>text</th>\n",
              "      <th>response_tweet_id</th>\n",
              "      <th>in_response_to_tweet_id</th>\n",
              "    </tr>\n",
              "  </thead>\n",
              "  <tbody>\n",
              "    <tr>\n",
              "      <th>0</th>\n",
              "      <td>1</td>\n",
              "      <td>sprintcare</td>\n",
              "      <td>False</td>\n",
              "      <td>Tue Oct 31 22:10:47 +0000 2017</td>\n",
              "      <td>@115712 I understand. I would like to assist y...</td>\n",
              "      <td>2</td>\n",
              "      <td>3.0</td>\n",
              "    </tr>\n",
              "    <tr>\n",
              "      <th>1</th>\n",
              "      <td>2</td>\n",
              "      <td>115712</td>\n",
              "      <td>True</td>\n",
              "      <td>Tue Oct 31 22:11:45 +0000 2017</td>\n",
              "      <td>@sprintcare and how do you propose we do that</td>\n",
              "      <td>NaN</td>\n",
              "      <td>1.0</td>\n",
              "    </tr>\n",
              "    <tr>\n",
              "      <th>2</th>\n",
              "      <td>3</td>\n",
              "      <td>115712</td>\n",
              "      <td>True</td>\n",
              "      <td>Tue Oct 31 22:08:27 +0000 2017</td>\n",
              "      <td>@sprintcare I have sent several private messag...</td>\n",
              "      <td>1</td>\n",
              "      <td>4.0</td>\n",
              "    </tr>\n",
              "    <tr>\n",
              "      <th>3</th>\n",
              "      <td>4</td>\n",
              "      <td>sprintcare</td>\n",
              "      <td>False</td>\n",
              "      <td>Tue Oct 31 21:54:49 +0000 2017</td>\n",
              "      <td>@115712 Please send us a Private Message so th...</td>\n",
              "      <td>3</td>\n",
              "      <td>5.0</td>\n",
              "    </tr>\n",
              "    <tr>\n",
              "      <th>4</th>\n",
              "      <td>5</td>\n",
              "      <td>115712</td>\n",
              "      <td>True</td>\n",
              "      <td>Tue Oct 31 21:49:35 +0000 2017</td>\n",
              "      <td>@sprintcare I did.</td>\n",
              "      <td>4</td>\n",
              "      <td>6.0</td>\n",
              "    </tr>\n",
              "  </tbody>\n",
              "</table>\n",
              "</div>"
            ],
            "text/plain": [
              "   tweet_id   author_id  ...  response_tweet_id in_response_to_tweet_id\n",
              "0         1  sprintcare  ...                  2                     3.0\n",
              "1         2      115712  ...                NaN                     1.0\n",
              "2         3      115712  ...                  1                     4.0\n",
              "3         4  sprintcare  ...                  3                     5.0\n",
              "4         5      115712  ...                  4                     6.0\n",
              "\n",
              "[5 rows x 7 columns]"
            ]
          },
          "metadata": {
            "tags": []
          },
          "execution_count": 7
        }
      ]
    },
    {
      "cell_type": "markdown",
      "metadata": {
        "id": "94OuBzPFJFbE",
        "colab_type": "text"
      },
      "source": [
        "Retrive list of companies providing customer support on twitter"
      ]
    },
    {
      "cell_type": "code",
      "metadata": {
        "id": "GIfk2ybESDLG",
        "colab_type": "code",
        "colab": {}
      },
      "source": [
        "pattern = r\"\\A[a-z]+\\Z\"\n",
        "\n",
        "authors = []\n",
        "authors = [ val for val in df[\"author_id\"].values if (re.search(pattern, val.lower())) ]\n",
        "\n",
        "# remove duplicated values in the list\n",
        "authors = list(set(authors))\n",
        "\n",
        "#print(re.search(pattern, \"12345\"))"
      ],
      "execution_count": 0,
      "outputs": []
    },
    {
      "cell_type": "markdown",
      "metadata": {
        "id": "ByLIIV0SJN71",
        "colab_type": "text"
      },
      "source": [
        "Select eBay's data"
      ]
    },
    {
      "cell_type": "code",
      "metadata": {
        "id": "fpUF8V2BRt8X",
        "colab_type": "code",
        "outputId": "cad6e0dc-a6bc-483a-f9dd-96a52939c7b4",
        "colab": {
          "base_uri": "https://localhost:8080/",
          "height": 195
        }
      },
      "source": [
        "select_author =  \"AskeBay\"\n",
        "\n",
        "data = df [df[\"author_id\"] == select_author]\n",
        "\n",
        "data.head()"
      ],
      "execution_count": 0,
      "outputs": [
        {
          "output_type": "execute_result",
          "data": {
            "text/html": [
              "<div>\n",
              "<style scoped>\n",
              "    .dataframe tbody tr th:only-of-type {\n",
              "        vertical-align: middle;\n",
              "    }\n",
              "\n",
              "    .dataframe tbody tr th {\n",
              "        vertical-align: top;\n",
              "    }\n",
              "\n",
              "    .dataframe thead th {\n",
              "        text-align: right;\n",
              "    }\n",
              "</style>\n",
              "<table border=\"1\" class=\"dataframe\">\n",
              "  <thead>\n",
              "    <tr style=\"text-align: right;\">\n",
              "      <th></th>\n",
              "      <th>tweet_id</th>\n",
              "      <th>author_id</th>\n",
              "      <th>inbound</th>\n",
              "      <th>created_at</th>\n",
              "      <th>text</th>\n",
              "      <th>response_tweet_id</th>\n",
              "      <th>in_response_to_tweet_id</th>\n",
              "    </tr>\n",
              "  </thead>\n",
              "  <tbody>\n",
              "    <tr>\n",
              "      <th>683</th>\n",
              "      <td>1224</td>\n",
              "      <td>AskeBay</td>\n",
              "      <td>False</td>\n",
              "      <td>Wed Nov 22 09:24:40 +0000 2017</td>\n",
              "      <td>@115930 Hi Simon! I’m sorry to hear this! Soun...</td>\n",
              "      <td>1225</td>\n",
              "      <td>1226.0</td>\n",
              "    </tr>\n",
              "    <tr>\n",
              "      <th>685</th>\n",
              "      <td>1227</td>\n",
              "      <td>AskeBay</td>\n",
              "      <td>False</td>\n",
              "      <td>Wed Nov 22 11:48:52 +0000 2017</td>\n",
              "      <td>@115930 Thanks for the update Simon! Please le...</td>\n",
              "      <td>NaN</td>\n",
              "      <td>1225.0</td>\n",
              "    </tr>\n",
              "    <tr>\n",
              "      <th>704</th>\n",
              "      <td>1245</td>\n",
              "      <td>AskeBay</td>\n",
              "      <td>False</td>\n",
              "      <td>Wed Nov 22 08:40:37 +0000 2017</td>\n",
              "      <td>@115936 Hi. Sorry to hear the buyers have not ...</td>\n",
              "      <td>NaN</td>\n",
              "      <td>1246.0</td>\n",
              "    </tr>\n",
              "    <tr>\n",
              "      <th>706</th>\n",
              "      <td>1247</td>\n",
              "      <td>AskeBay</td>\n",
              "      <td>False</td>\n",
              "      <td>Wed Nov 22 08:37:12 +0000 2017</td>\n",
              "      <td>@115938 Hi there. Sorry to hear the item has n...</td>\n",
              "      <td>1248</td>\n",
              "      <td>1249.0</td>\n",
              "    </tr>\n",
              "    <tr>\n",
              "      <th>709</th>\n",
              "      <td>1251</td>\n",
              "      <td>AskeBay</td>\n",
              "      <td>False</td>\n",
              "      <td>Wed Nov 22 09:25:52 +0000 2017</td>\n",
              "      <td>@115938 As the seller is responsible for the c...</td>\n",
              "      <td>1252</td>\n",
              "      <td>1250.0</td>\n",
              "    </tr>\n",
              "  </tbody>\n",
              "</table>\n",
              "</div>"
            ],
            "text/plain": [
              "     tweet_id author_id  ...  response_tweet_id in_response_to_tweet_id\n",
              "683      1224   AskeBay  ...               1225                  1226.0\n",
              "685      1227   AskeBay  ...                NaN                  1225.0\n",
              "704      1245   AskeBay  ...                NaN                  1246.0\n",
              "706      1247   AskeBay  ...               1248                  1249.0\n",
              "709      1251   AskeBay  ...               1252                  1250.0\n",
              "\n",
              "[5 rows x 7 columns]"
            ]
          },
          "metadata": {
            "tags": []
          },
          "execution_count": 9
        }
      ]
    },
    {
      "cell_type": "markdown",
      "metadata": {
        "id": "B9cRD6Q1JUSd",
        "colab_type": "text"
      },
      "source": [
        "Select neccessary features for data processing"
      ]
    },
    {
      "cell_type": "code",
      "metadata": {
        "id": "g8yXF3QpU01H",
        "colab_type": "code",
        "outputId": "0eb57d4e-4972-4bfd-cc9a-357472232a86",
        "colab": {
          "base_uri": "https://localhost:8080/",
          "height": 195
        }
      },
      "source": [
        "# select sprintcare's responses to their customers questions\n",
        "\n",
        "select_features = [\"tweet_id\", \"text\",\t\"response_tweet_id\",\t\"in_response_to_tweet_id\"]\n",
        "\n",
        "data = data[select_features]\n",
        "\n",
        "data.head()"
      ],
      "execution_count": 0,
      "outputs": [
        {
          "output_type": "execute_result",
          "data": {
            "text/html": [
              "<div>\n",
              "<style scoped>\n",
              "    .dataframe tbody tr th:only-of-type {\n",
              "        vertical-align: middle;\n",
              "    }\n",
              "\n",
              "    .dataframe tbody tr th {\n",
              "        vertical-align: top;\n",
              "    }\n",
              "\n",
              "    .dataframe thead th {\n",
              "        text-align: right;\n",
              "    }\n",
              "</style>\n",
              "<table border=\"1\" class=\"dataframe\">\n",
              "  <thead>\n",
              "    <tr style=\"text-align: right;\">\n",
              "      <th></th>\n",
              "      <th>tweet_id</th>\n",
              "      <th>text</th>\n",
              "      <th>response_tweet_id</th>\n",
              "      <th>in_response_to_tweet_id</th>\n",
              "    </tr>\n",
              "  </thead>\n",
              "  <tbody>\n",
              "    <tr>\n",
              "      <th>683</th>\n",
              "      <td>1224</td>\n",
              "      <td>@115930 Hi Simon! I’m sorry to hear this! Soun...</td>\n",
              "      <td>1225</td>\n",
              "      <td>1226.0</td>\n",
              "    </tr>\n",
              "    <tr>\n",
              "      <th>685</th>\n",
              "      <td>1227</td>\n",
              "      <td>@115930 Thanks for the update Simon! Please le...</td>\n",
              "      <td>NaN</td>\n",
              "      <td>1225.0</td>\n",
              "    </tr>\n",
              "    <tr>\n",
              "      <th>704</th>\n",
              "      <td>1245</td>\n",
              "      <td>@115936 Hi. Sorry to hear the buyers have not ...</td>\n",
              "      <td>NaN</td>\n",
              "      <td>1246.0</td>\n",
              "    </tr>\n",
              "    <tr>\n",
              "      <th>706</th>\n",
              "      <td>1247</td>\n",
              "      <td>@115938 Hi there. Sorry to hear the item has n...</td>\n",
              "      <td>1248</td>\n",
              "      <td>1249.0</td>\n",
              "    </tr>\n",
              "    <tr>\n",
              "      <th>709</th>\n",
              "      <td>1251</td>\n",
              "      <td>@115938 As the seller is responsible for the c...</td>\n",
              "      <td>1252</td>\n",
              "      <td>1250.0</td>\n",
              "    </tr>\n",
              "  </tbody>\n",
              "</table>\n",
              "</div>"
            ],
            "text/plain": [
              "     tweet_id  ... in_response_to_tweet_id\n",
              "683      1224  ...                  1226.0\n",
              "685      1227  ...                  1225.0\n",
              "704      1245  ...                  1246.0\n",
              "706      1247  ...                  1249.0\n",
              "709      1251  ...                  1250.0\n",
              "\n",
              "[5 rows x 4 columns]"
            ]
          },
          "metadata": {
            "tags": []
          },
          "execution_count": 10
        }
      ]
    },
    {
      "cell_type": "markdown",
      "metadata": {
        "id": "j-bjh8leJZUz",
        "colab_type": "text"
      },
      "source": [
        "Create a data frame with all responses from eBay"
      ]
    },
    {
      "cell_type": "code",
      "metadata": {
        "id": "hNNJa0fqVhpX",
        "colab_type": "code",
        "outputId": "bcd70082-d112-4801-92e2-c40a677bd8fe",
        "colab": {
          "base_uri": "https://localhost:8080/",
          "height": 195
        }
      },
      "source": [
        "# select eBay's questions \n",
        "\n",
        "questions = df[ df[\"text\"].str.contains(\"AskeBay\") ]\n",
        "\n",
        "questions.head()"
      ],
      "execution_count": 0,
      "outputs": [
        {
          "output_type": "execute_result",
          "data": {
            "text/html": [
              "<div>\n",
              "<style scoped>\n",
              "    .dataframe tbody tr th:only-of-type {\n",
              "        vertical-align: middle;\n",
              "    }\n",
              "\n",
              "    .dataframe tbody tr th {\n",
              "        vertical-align: top;\n",
              "    }\n",
              "\n",
              "    .dataframe thead th {\n",
              "        text-align: right;\n",
              "    }\n",
              "</style>\n",
              "<table border=\"1\" class=\"dataframe\">\n",
              "  <thead>\n",
              "    <tr style=\"text-align: right;\">\n",
              "      <th></th>\n",
              "      <th>tweet_id</th>\n",
              "      <th>author_id</th>\n",
              "      <th>inbound</th>\n",
              "      <th>created_at</th>\n",
              "      <th>text</th>\n",
              "      <th>response_tweet_id</th>\n",
              "      <th>in_response_to_tweet_id</th>\n",
              "    </tr>\n",
              "  </thead>\n",
              "  <tbody>\n",
              "    <tr>\n",
              "      <th>684</th>\n",
              "      <td>1225</td>\n",
              "      <td>115930</td>\n",
              "      <td>True</td>\n",
              "      <td>Wed Nov 22 10:01:38 +0000 2017</td>\n",
              "      <td>@AskeBay sure will do. Getting refunded by the...</td>\n",
              "      <td>1227</td>\n",
              "      <td>1224.0</td>\n",
              "    </tr>\n",
              "    <tr>\n",
              "      <th>705</th>\n",
              "      <td>1246</td>\n",
              "      <td>115936</td>\n",
              "      <td>True</td>\n",
              "      <td>Tue Nov 21 21:24:33 +0000 2017</td>\n",
              "      <td>EVERYTIME i sell something on @115937 @AskeBay...</td>\n",
              "      <td>1245</td>\n",
              "      <td>NaN</td>\n",
              "    </tr>\n",
              "    <tr>\n",
              "      <th>707</th>\n",
              "      <td>1248</td>\n",
              "      <td>115938</td>\n",
              "      <td>True</td>\n",
              "      <td>Wed Nov 22 08:40:46 +0000 2017</td>\n",
              "      <td>@AskeBay The item has been marked as delivered...</td>\n",
              "      <td>1250</td>\n",
              "      <td>1247.0</td>\n",
              "    </tr>\n",
              "    <tr>\n",
              "      <th>708</th>\n",
              "      <td>1250</td>\n",
              "      <td>115938</td>\n",
              "      <td>True</td>\n",
              "      <td>Wed Nov 22 08:41:35 +0000 2017</td>\n",
              "      <td>@AskeBay Need to contact customer service dire...</td>\n",
              "      <td>1251</td>\n",
              "      <td>1248.0</td>\n",
              "    </tr>\n",
              "    <tr>\n",
              "      <th>710</th>\n",
              "      <td>1252</td>\n",
              "      <td>115938</td>\n",
              "      <td>True</td>\n",
              "      <td>Wed Nov 22 10:29:17 +0000 2017</td>\n",
              "      <td>@AskeBay Ok, thank you for your help, I'll do ...</td>\n",
              "      <td>1253</td>\n",
              "      <td>1251.0</td>\n",
              "    </tr>\n",
              "  </tbody>\n",
              "</table>\n",
              "</div>"
            ],
            "text/plain": [
              "     tweet_id author_id  ...  response_tweet_id in_response_to_tweet_id\n",
              "684      1225    115930  ...               1227                  1224.0\n",
              "705      1246    115936  ...               1245                     NaN\n",
              "707      1248    115938  ...               1250                  1247.0\n",
              "708      1250    115938  ...               1251                  1248.0\n",
              "710      1252    115938  ...               1253                  1251.0\n",
              "\n",
              "[5 rows x 7 columns]"
            ]
          },
          "metadata": {
            "tags": []
          },
          "execution_count": 11
        }
      ]
    },
    {
      "cell_type": "code",
      "metadata": {
        "id": "8lhDkzvMXPUL",
        "colab_type": "code",
        "outputId": "d98a216b-1ad9-49a1-c5c1-466992fd2483",
        "colab": {
          "base_uri": "https://localhost:8080/",
          "height": 34
        }
      },
      "source": [
        "len(questions)"
      ],
      "execution_count": 0,
      "outputs": [
        {
          "output_type": "execute_result",
          "data": {
            "text/plain": [
              "8166"
            ]
          },
          "metadata": {
            "tags": []
          },
          "execution_count": 12
        }
      ]
    },
    {
      "cell_type": "code",
      "metadata": {
        "id": "B_vGhpdFWinC",
        "colab_type": "code",
        "outputId": "208ba538-dcb2-47a7-80db-1cf0ca0ab58f",
        "colab": {
          "base_uri": "https://localhost:8080/",
          "height": 34
        }
      },
      "source": [
        "questions.iloc[0][\"text\"]"
      ],
      "execution_count": 0,
      "outputs": [
        {
          "output_type": "execute_result",
          "data": {
            "text/plain": [
              "'@AskeBay sure will do. Getting refunded by the sellers in the meantime.'"
            ]
          },
          "metadata": {
            "tags": []
          },
          "execution_count": 13
        }
      ]
    },
    {
      "cell_type": "code",
      "metadata": {
        "id": "SiWZXwb0WDdF",
        "colab_type": "code",
        "outputId": "2ebac995-c047-418e-f9ad-ed12f8db990e",
        "colab": {
          "base_uri": "https://localhost:8080/",
          "height": 70
        }
      },
      "source": [
        "idx = 0\n",
        "print(\"id: {}, question: {}\".format(questions.iloc[idx][\"author_id\"]\n",
        "                                    , questions.iloc[idx][\"text\"]))\n",
        "\n",
        "print(\"answer: {}\".format(data.iloc[idx][\"text\"]))"
      ],
      "execution_count": 0,
      "outputs": [
        {
          "output_type": "stream",
          "text": [
            "id: 115930, question: @AskeBay sure will do. Getting refunded by the sellers in the meantime.\n",
            "answer: @115930 Hi Simon! I’m sorry to hear this! Sounds like your account may have been compromised. I strongly advise you to contact our security teams &gt; https://t.co/hV7XdVcjA7 if you haven’t already done so, to make sure you do to ensure your account is fully secured. ^GR\n"
          ],
          "name": "stdout"
        }
      ]
    },
    {
      "cell_type": "code",
      "metadata": {
        "id": "8Ov6QyTFXOjQ",
        "colab_type": "code",
        "outputId": "1d63b6f7-c260-4b5e-b69c-1a40bb993ec2",
        "colab": {
          "base_uri": "https://localhost:8080/",
          "height": 70
        }
      },
      "source": [
        "idx = 100\n",
        "print(\"id: {}, question: {}\".format(questions.iloc[idx][\"author_id\"]\n",
        "                                    , questions.iloc[idx][\"text\"]))\n",
        "\n",
        "print(\"answer: {}\".format(data.iloc[idx][\"text\"]))"
      ],
      "execution_count": 0,
      "outputs": [
        {
          "output_type": "stream",
          "text": [
            "id: 123601, question: @AskeBay Well could you check my account status then please and see if I'm due you any payment? Think I cleared it earlier.\n",
            "answer: @123128 Thanks for the info, Ethan! We issue selling limits on all accounts (they renew every 30-days). Take a look at https://t.co/m4mQJyZjIW for more information and how you can request higher limits. Let us know if you have further questions. Thanks! ^AE\n"
          ],
          "name": "stdout"
        }
      ]
    },
    {
      "cell_type": "code",
      "metadata": {
        "id": "VpmlwNzkXnZB",
        "colab_type": "code",
        "outputId": "7e6cf162-0929-4675-b19c-895b2128d86f",
        "colab": {
          "base_uri": "https://localhost:8080/",
          "height": 50
        }
      },
      "source": [
        "idx = 500\n",
        "print(\"id: {}, question: {}\".format(questions.iloc[idx][\"author_id\"]\n",
        "                                    , questions.iloc[idx][\"text\"]))\n",
        "\n",
        "print(\"answer: {}\".format(data.iloc[idx][\"text\"]))"
      ],
      "execution_count": 0,
      "outputs": [
        {
          "output_type": "stream",
          "text": [
            "id: 156038, question: @AskeBay please respond to my DM\n",
            "answer: @154436 If you accepted the return &amp; they haven't returned it in 14 days (if the case was opened on the UK site), we can close the case for you. ^BL\n"
          ],
          "name": "stdout"
        }
      ]
    },
    {
      "cell_type": "code",
      "metadata": {
        "id": "Sm0UZ5gzXy1v",
        "colab_type": "code",
        "colab": {}
      },
      "source": [
        "def get_tweet_from_id(data, tweet_id):\n",
        "  \"\"\"\n",
        "  @data: [pandas dataframe] : pandas dataframe\n",
        "  @tweet_id: [integer] : an tweet ID\n",
        "  @return : [list] : a tweet corresponding with tweet_id input\n",
        "  \"\"\"\n",
        "  return data[data[\"tweet_id\"] == tweet_id][\"text\"].values"
      ],
      "execution_count": 0,
      "outputs": []
    },
    {
      "cell_type": "markdown",
      "metadata": {
        "id": "fcbox-mJJmlP",
        "colab_type": "text"
      },
      "source": [
        "Create a pair of list of questions and responses"
      ]
    },
    {
      "cell_type": "code",
      "metadata": {
        "id": "naVFbDdwYAg-",
        "colab_type": "code",
        "colab": {}
      },
      "source": [
        "ebay_questions = []\n",
        "ebay_responses = []\n",
        "\n",
        "for i in range(len(questions)):\n",
        "  tweet = questions.iloc[i]\n",
        "  \n",
        "  text = tweet[\"text\"]\n",
        "  owner = tweet[\"author_id\"]\n",
        "  ebay_questions.append(owner + \"-\" + text)\n",
        "\n",
        "  rep_ids = tweet[\"response_tweet_id\"]\n",
        "  if (rep_ids and (not pd.isna(rep_ids))):\n",
        "    if \",\" in rep_ids:\n",
        "      rep_ids = rep_ids.split(\",\")[0]\n",
        "    \n",
        "    # convert an array into string\n",
        "    response = \"\".join( get_tweet_from_id(df, int(rep_ids)) )\n",
        "    ebay_responses.append(response)\n",
        "  else:\n",
        "        ebay_responses.append(\"\")"
      ],
      "execution_count": 0,
      "outputs": []
    },
    {
      "cell_type": "code",
      "metadata": {
        "id": "6Qt4sNNGfyCE",
        "colab_type": "code",
        "outputId": "056b1d9b-85b9-4ef8-be49-c639987485ae",
        "colab": {
          "base_uri": "https://localhost:8080/",
          "height": 54
        }
      },
      "source": [
        "ebay_questions[2]"
      ],
      "execution_count": 0,
      "outputs": [
        {
          "output_type": "execute_result",
          "data": {
            "text/plain": [
              "'115938-@AskeBay The item has been marked as delivered, and the system would not let me contact ebay customer service directly. It was not sellers fault, it was mismanaged somewhere between shipment and delivery. Still file a claim?'"
            ]
          },
          "metadata": {
            "tags": []
          },
          "execution_count": 19
        }
      ]
    },
    {
      "cell_type": "code",
      "metadata": {
        "id": "OGDDo6jZf0k9",
        "colab_type": "code",
        "outputId": "1f5743e8-bd88-4157-e63e-0ec8a593b418",
        "colab": {
          "base_uri": "https://localhost:8080/",
          "height": 34
        }
      },
      "source": [
        "ebay_responses[2]"
      ],
      "execution_count": 0,
      "outputs": [
        {
          "output_type": "execute_result",
          "data": {
            "text/plain": [
              "'@AskeBay Need to contact customer service directly. Please DM contact email for customer service'"
            ]
          },
          "metadata": {
            "tags": []
          },
          "execution_count": 20
        }
      ]
    },
    {
      "cell_type": "markdown",
      "metadata": {
        "id": "1y5LIW_gJt24",
        "colab_type": "text"
      },
      "source": [
        "# Data Processing"
      ]
    },
    {
      "cell_type": "code",
      "metadata": {
        "id": "k5jkSp2o3Cvp",
        "colab_type": "code",
        "outputId": "92badc3f-85c8-41b9-939d-911c1a4560a6",
        "colab": {
          "base_uri": "https://localhost:8080/",
          "height": 54
        }
      },
      "source": [
        "import spacy\n",
        "nlp = spacy.load(\"en\", disable=['parser', 'tagger', 'ner'])\n",
        "stops = spacy.lang.en.stop_words.STOP_WORDS\n",
        "from nltk.corpus import stopwords\n",
        "\n",
        "SW =  set(stopwords.words(\"english\"))\n",
        "SW.add(\"askebay\")\n",
        "\n",
        "def normalize(text):\n",
        "  \"\"\"\n",
        "  Lemmatize tokens and remove them if they are stop words\n",
        "  \"\"\"\n",
        "  text = nlp(text.lower())\n",
        "  lemmatized = list()\n",
        "  for word in text:\n",
        "    lemma = word.lemma_.strip()\n",
        "    if (lemma and lemma not in SW ):\n",
        "      lemmatized.append(lemma)\n",
        "  return lemmatized\n",
        "\n",
        "\n",
        "# test normalize()\n",
        "text = [\"applesupport tried resetting my settings  restarting my phone  all that 🙃\"\n",
        ", \"i need answers because it is annoying 🙃\"\n",
        ", \"That's great it has iOS 111 as we can rule out being outdated Any steps tried since this started Do you recall when it started\"]\n",
        "\n",
        "print([normalize(sent) for sent in text])\n"
      ],
      "execution_count": 0,
      "outputs": [
        {
          "output_type": "stream",
          "text": [
            "[['applesupport', 'try', 'reset', 'setting', 'restart', 'phone', '🙃'], ['need', 'answer', 'annoy', '🙃'], ['great', 'ios', '111', 'rule', 'outdate', 'step', 'try', 'since', 'start', 'recall', 'start']]\n"
          ],
          "name": "stdout"
        }
      ]
    },
    {
      "cell_type": "code",
      "metadata": {
        "id": "DE2OULhH8LyO",
        "colab_type": "code",
        "outputId": "31f59dff-8ebc-4c69-ce85-cdb26dfc1183",
        "colab": {
          "base_uri": "https://localhost:8080/",
          "height": 70
        }
      },
      "source": [
        "import emoji\n",
        "\n",
        "def clean_emoji(text):\n",
        "  if (emoji.emoji_count(text) > 0):\n",
        "    return re.sub(emoji.get_emoji_regexp(), r\"\", text)\n",
        "  else:\n",
        "    return text\n",
        "\n",
        "# test clean_emoji()\n",
        "text = [\"applesupport tried resetting my settings  restarting my phone  all that 🙃\"\n",
        ", \"i️ need answers because it is annoying 🙃\"\n",
        ", \"That's great it has iOS 111 as we can rule out being outdated Any steps tried since this started Do you recall when it started\"]\n",
        "\n",
        "print([clean_emoji(sent) for sent in text])\n",
        "\n",
        "print([normalize(clean_emoji(sent)) for sent in text])\n"
      ],
      "execution_count": 0,
      "outputs": [
        {
          "output_type": "stream",
          "text": [
            "['applesupport tried resetting my settings  restarting my phone  all that ', 'i️ need answers because it is annoying ', \"That's great it has iOS 111 as we can rule out being outdated Any steps tried since this started Do you recall when it started\"]\n",
            "[['applesupport', 'try', 'reset', 'setting', 'restart', 'phone'], ['i️', 'need', 'answer', 'annoy'], ['great', 'ios', '111', 'rule', 'outdate', 'step', 'try', 'since', 'start', 'recall', 'start']]\n"
          ],
          "name": "stdout"
        }
      ]
    },
    {
      "cell_type": "code",
      "metadata": {
        "id": "CyD_RvJF8q7r",
        "colab_type": "code",
        "outputId": "32e2ad25-b93a-4a46-a9d4-fbb23115421c",
        "colab": {
          "base_uri": "https://localhost:8080/",
          "height": 70
        }
      },
      "source": [
        "# from string import maketrans \n",
        "# Remove the punctuation of text\n",
        "def clean_punctuation(text):\n",
        "  \"\"\"\n",
        "  @text: is a text with/without the punctuation\n",
        "  @return a text without punctuation\n",
        "  \"\"\"\n",
        "  re_punc = re.compile(\"[%s]\" % re.escape(string.punctuation))\n",
        "  return re_punc.sub(\"\", text)\n",
        "\n",
        "\n",
        "# test clean_punctuation()\n",
        "text = [\"applesupport tried resetting my settings #@ restarting my phone && all that 🙃\"\n",
        ", \"i️ need answers because it is annoying 🙃 ...\"\n",
        ", \"That's great it has iOS 111 as we can rule out being outdated Any steps tried since this started Do you recall when it started\"]\n",
        "\n",
        "print([ clean_punctuation( sent ) for sent in text])\n",
        "\n",
        "print([ normalize(clean_emoji(clean_punctuation(sent))) for sent in text])"
      ],
      "execution_count": 0,
      "outputs": [
        {
          "output_type": "stream",
          "text": [
            "['applesupport tried resetting my settings  restarting my phone  all that 🙃', 'i️ need answers because it is annoying 🙃 ', 'Thats great it has iOS 111 as we can rule out being outdated Any steps tried since this started Do you recall when it started']\n",
            "[['applesupport', 'try', 'reset', 'setting', 'restart', 'phone'], ['i️', 'need', 'answer', 'annoy'], ['great', 'ios', '111', 'rule', 'outdate', 'step', 'try', 'since', 'start', 'recall', 'start']]\n"
          ],
          "name": "stdout"
        }
      ]
    },
    {
      "cell_type": "code",
      "metadata": {
        "id": "XK-0vqwQ-vD3",
        "colab_type": "code",
        "outputId": "72223ddd-f11b-4209-de23-9196b063ef94",
        "colab": {
          "base_uri": "https://localhost:8080/",
          "height": 50
        }
      },
      "source": [
        "def decontracted(text):\n",
        "    # specific\n",
        "    text = re.sub(r\"won’t\", \"will not\", text)\n",
        "    text = re.sub(r\"won\\'t\", \"will not\", text)\n",
        "\n",
        "    text = re.sub(r\"can’t\", \"can not\", text)\n",
        "    text = re.sub(r\"can\\'t\", \"can not\", text)\n",
        "\n",
        "    text = re.sub(r\"dont’t\", \"do not\", text)\n",
        "    text = re.sub(r\"don\\'t\", \"do not\", text)\n",
        "\n",
        "    text = re.sub(r\"doesn’t\", \"does not\", text)\n",
        "    text = re.sub(r\"doesn\\'t\", \"does not\", text)\n",
        "\n",
        "    text = re.sub(r\"y’all\", \"you all\", text)\n",
        "    text = re.sub(r\"y\\'all\", \"you all\", text)\n",
        "    # general\n",
        "    text = re.sub(r\"’t\", \" not\", text)\n",
        "    text = re.sub(r\"n\\'t\", \" not\", text)\n",
        "\n",
        "    text = re.sub(r\"’re\", \" are\", text)\n",
        "    text = re.sub(r\"\\'re\", \" are\", text)\n",
        "\n",
        "    text = re.sub(r\"’s\", \" is\", text)\n",
        "    text = re.sub(r\"\\'s\", \" is\", text)\n",
        "\n",
        "    text = re.sub(r\"’d\", \" would\", text)\n",
        "    text = re.sub(r\"\\'d\", \" would\", text)\n",
        "\n",
        "    text = re.sub(r\"’ll\", \" will\", text)\n",
        "    text = re.sub(r\"\\'ll\", \" will\", text)\n",
        "\n",
        "    text = re.sub(r\"’t\", \" not\", text)\n",
        "    text = re.sub(r\"\\'t\", \" not\", text)\n",
        "\n",
        "    text = re.sub(r\"’ve\", \" have\", text)\n",
        "    text = re.sub(r\"\\'ve\", \" have\", text)\n",
        "\n",
        "    text = re.sub(r\"’m\", \" am\", text)\n",
        "    text = re.sub(r\"\\'m\", \" am\", text)\n",
        "    return text\n",
        "\n",
        "text = \"@applesupport y’all gotta fix this i.t problem on everyone is phone i just want to be able to say it again not i.t',\"\n",
        "print(decontracted(text))\n",
        "\n",
        "print(normalize(clean_emoji(clean_punctuation(decontracted(text )))))"
      ],
      "execution_count": 0,
      "outputs": [
        {
          "output_type": "stream",
          "text": [
            "@applesupport you all gotta fix this i.t problem on everyone is phone i just want to be able to say it again not i.t',\n",
            "['applesupport', 'get', 'fix', 'problem', 'everyone', 'phone', 'want', 'able', 'say']\n"
          ],
          "name": "stdout"
        }
      ]
    },
    {
      "cell_type": "code",
      "metadata": {
        "id": "JtQkYXs5BJbl",
        "colab_type": "code",
        "outputId": "0260cb6e-1c64-4af3-a9fb-23fb07da4087",
        "colab": {
          "base_uri": "https://localhost:8080/",
          "height": 34
        }
      },
      "source": [
        "def clean_num(text):\n",
        "  \"\"\"\n",
        "  @Remove numberics in the text\n",
        "  @return the text without numberics\n",
        "  \"\"\"\n",
        "  re_num = r\"\\d+\"\n",
        "  return re.sub(re_num, \"\", text)\n",
        "\n",
        "# test clean_num()\n",
        "text = \"115855 That's great it has iOS 11.1 as we can rule out being outdated. Any steps tried since this started?\"\n",
        "text = clean_punctuation(text)\n",
        "print( clean_num(text) )\n"
      ],
      "execution_count": 0,
      "outputs": [
        {
          "output_type": "stream",
          "text": [
            " Thats great it has iOS  as we can rule out being outdated Any steps tried since this started\n"
          ],
          "name": "stdout"
        }
      ]
    },
    {
      "cell_type": "code",
      "metadata": {
        "id": "xR4t3DkC-6Ph",
        "colab_type": "code",
        "outputId": "aeb49cec-b52a-4f5b-e91e-44de658c53bd",
        "colab": {
          "base_uri": "https://localhost:8080/",
          "height": 34
        }
      },
      "source": [
        "def preprocessing(text):\n",
        "#  text = clean_at(text)\n",
        "  text = clean_emoji(text)\n",
        "  text = decontracted(text)\n",
        "  text = clean_punctuation(text)\n",
        "  text = clean_num(text)\n",
        "  text = normalize(text)\n",
        "  return text\n",
        "\n",
        "# test preprocessing()\n",
        "text = [\"@applesupport tried resetting my settings .. restarting my phone .. all that\"\n",
        "      , \"i need answers because it is annoying 🙃\"\n",
        "      , \"@115855 That's great it has iOS 11.1 as we can rule out being outdated. Any steps tried since this started?\"]\n",
        "print( [preprocessing(sent) for sent in text] )"
      ],
      "execution_count": 0,
      "outputs": [
        {
          "output_type": "stream",
          "text": [
            "[['applesupport', 'try', 'reset', 'setting', 'restart', 'phone'], ['need', 'answer', 'annoy'], ['great', 'ios', 'rule', 'outdate', 'step', 'try', 'since', 'start']]\n"
          ],
          "name": "stdout"
        }
      ]
    },
    {
      "cell_type": "code",
      "metadata": {
        "id": "HC5lmtMLsM-p",
        "colab_type": "code",
        "outputId": "f3b04f6f-495d-4584-9cda-06392157e12f",
        "colab": {
          "base_uri": "https://localhost:8080/",
          "height": 34
        }
      },
      "source": [
        "def clean_at(text):\n",
        "  re_at = r\"^@\\S+\"\n",
        "  return re.sub(re_at, \"\", text)\n",
        "\n",
        "# test clean_at()\n",
        "text_at = \"@115855 That's great it has iOS 11.1 as we can rule out being outdated. Any steps tried since this started?\"\n",
        "clean_at(text_at)"
      ],
      "execution_count": 0,
      "outputs": [
        {
          "output_type": "execute_result",
          "data": {
            "text/plain": [
              "\" That's great it has iOS 11.1 as we can rule out being outdated. Any steps tried since this started?\""
            ]
          },
          "metadata": {
            "tags": []
          },
          "execution_count": 27
        }
      ]
    },
    {
      "cell_type": "code",
      "metadata": {
        "id": "N3ygB_lQKA50",
        "colab_type": "code",
        "colab": {}
      },
      "source": [
        "# processing questions\n",
        "processed_ebay_questions = [preprocessing(quest) for quest in ebay_questions]\n",
        "ebay_responses = [clean_at(resp) for resp in ebay_responses]"
      ],
      "execution_count": 0,
      "outputs": []
    },
    {
      "cell_type": "code",
      "metadata": {
        "id": "r9lJ75lyKsTz",
        "colab_type": "code",
        "outputId": "882d0800-232a-4dea-ad17-91d8522e01a5",
        "colab": {
          "base_uri": "https://localhost:8080/",
          "height": 218
        }
      },
      "source": [
        "processed_ebay_questions[:2]"
      ],
      "execution_count": 0,
      "outputs": [
        {
          "output_type": "execute_result",
          "data": {
            "text/plain": [
              "[['sure', 'get', 'refund', 'seller', 'meantime'],\n",
              " ['everytime',\n",
              "  'sell',\n",
              "  'something',\n",
              "  'bid',\n",
              "  'come',\n",
              "  'back',\n",
              "  'fraudulent',\n",
              "  'repost',\n",
              "  'day',\n",
              "  'waste',\n",
              "  'ugh']]"
            ]
          },
          "metadata": {
            "tags": []
          },
          "execution_count": 29
        }
      ]
    },
    {
      "cell_type": "code",
      "metadata": {
        "id": "imUScpDdO5NM",
        "colab_type": "code",
        "outputId": "7105a3b2-c5a1-4e1b-dfe1-9d2df66da041",
        "colab": {
          "base_uri": "https://localhost:8080/",
          "height": 50
        }
      },
      "source": [
        "ebay_questions[:2]"
      ],
      "execution_count": 0,
      "outputs": [
        {
          "output_type": "execute_result",
          "data": {
            "text/plain": [
              "['115930-@AskeBay sure will do. Getting refunded by the sellers in the meantime.',\n",
              " '115936-EVERYTIME i sell something on @115937 @AskeBay the bid comes back as fraudulent and i have to repost.  7 days wasted.  I’m done.  Ugh.']"
            ]
          },
          "metadata": {
            "tags": []
          },
          "execution_count": 30
        }
      ]
    },
    {
      "cell_type": "code",
      "metadata": {
        "id": "4rfXR0E3PAe_",
        "colab_type": "code",
        "outputId": "345d2dd6-e14e-4215-ce4f-3175f3304f5a",
        "colab": {
          "base_uri": "https://localhost:8080/",
          "height": 70
        }
      },
      "source": [
        "ebay_responses[:2]"
      ],
      "execution_count": 0,
      "outputs": [
        {
          "output_type": "execute_result",
          "data": {
            "text/plain": [
              "[' Thanks for the update Simon! Please let us know if there’s anything we can help you with! Have a great day! ^GR',\n",
              " ' Hi. Sorry to hear the buyers have not followed through. Did you open an unpaid item claim? You can set buyer requirements which will block buyers who have strikes against them which will reduce this from happening. See here&gt; https://t.co/5GCQb0IEA0. Thanks ^SG']"
            ]
          },
          "metadata": {
            "tags": []
          },
          "execution_count": 31
        }
      ]
    },
    {
      "cell_type": "code",
      "metadata": {
        "id": "oK4NC2JBcWzX",
        "colab_type": "code",
        "outputId": "1cfd8134-c8d8-4d66-9c1f-fae98aa96f93",
        "colab": {
          "base_uri": "https://localhost:8080/",
          "height": 218
        }
      },
      "source": [
        "processed_ebay_questions[3:5]"
      ],
      "execution_count": 0,
      "outputs": [
        {
          "output_type": "execute_result",
          "data": {
            "text/plain": [
              "[['need',\n",
              "  'contact',\n",
              "  'customer',\n",
              "  'service',\n",
              "  'directly',\n",
              "  'please',\n",
              "  'dm',\n",
              "  'contact',\n",
              "  'email',\n",
              "  'customer',\n",
              "  'service'],\n",
              " ['okay', 'thank', 'help']]"
            ]
          },
          "metadata": {
            "tags": []
          },
          "execution_count": 32
        }
      ]
    },
    {
      "cell_type": "code",
      "metadata": {
        "id": "-ZspKBcQcnuA",
        "colab_type": "code",
        "outputId": "1d076ebf-e871-486b-9b46-a8d04da58e4e",
        "colab": {
          "base_uri": "https://localhost:8080/",
          "height": 70
        }
      },
      "source": [
        "ebay_responses[3:5]"
      ],
      "execution_count": 0,
      "outputs": [
        {
          "output_type": "execute_result",
          "data": {
            "text/plain": [
              "[' As the seller is responsible for the courier, they can claim for lost items from the courier. You still have to open a claim through eBay to be protected. Please follow the previous steps. We cant outbound DM. You can DM us if you have any other questions. ^SG',\n",
              " \" You're more than welcome. Any other questions, please dont hesitate to ask. Thanks ^SG\"]"
            ]
          },
          "metadata": {
            "tags": []
          },
          "execution_count": 33
        }
      ]
    },
    {
      "cell_type": "markdown",
      "metadata": {
        "id": "T6IMotA3rT81",
        "colab_type": "text"
      },
      "source": [
        "# Build model with small dataset"
      ]
    },
    {
      "cell_type": "code",
      "metadata": {
        "id": "3p9EPBBNhc0d",
        "colab_type": "code",
        "colab": {}
      },
      "source": [
        "## make a test on 10 questions and their 10 responses\n",
        "\n",
        "test_questions = processed_ebay_questions[:10]\n",
        "\n",
        "test_responses = ebay_responses[0:10]\n",
        "\n",
        "test_dictionary = Dictionary(test_questions)\n",
        "\n",
        "test_tfidf = TfidfModel(dictionary = test_dictionary)\n",
        "\n",
        "test_word2vec = Word2Vec(test_questions\n",
        "                     , workers=cpu_count()\n",
        "                     , min_count=5\n",
        "                     , size=300\n",
        "                     , seed=12345)\n",
        "\n",
        "test_sim_index = WordEmbeddingSimilarityIndex(test_word2vec.wv)\n",
        "\n",
        "test_sim_matrix = SparseTermSimilarityMatrix(test_sim_index\n",
        "                                               , test_dictionary\n",
        "                                               , test_tfidf\n",
        "                                               , nonzero_limit=100)\n",
        "test_bow_corpus = [test_dictionary.doc2bow(document) for document in test_questions]\n",
        "\n",
        "test_docsim_index = SoftCosineSimilarity(test_bow_corpus, test_sim_matrix, num_best=5)\n"
      ],
      "execution_count": 0,
      "outputs": []
    },
    {
      "cell_type": "markdown",
      "metadata": {
        "id": "AdxjSwHyrYCc",
        "colab_type": "text"
      },
      "source": [
        "# Make a test with small model"
      ]
    },
    {
      "cell_type": "code",
      "metadata": {
        "id": "6ik9DSdnjGA8",
        "colab_type": "code",
        "outputId": "153b9f00-9387-40f7-a833-bbbafd21f8b5",
        "colab": {
          "base_uri": "https://localhost:8080/",
          "height": 188
        }
      },
      "source": [
        "query = \"I need to contact customer service to report an purchase issue\"\n",
        "\n",
        "pro_query = preprocessing(query)\n",
        "\n",
        "test_vector = test_dictionary.doc2bow(pro_query)\n",
        "\n",
        "test_vector_tfidf = test_tfidf[test_vector]\n",
        "\n",
        "sims = test_docsim_index[test_vector_tfidf]\n",
        "\n",
        "for i, score in sims:\n",
        "  print(ebay_responses[i], score)"
      ],
      "execution_count": 0,
      "outputs": [
        {
          "output_type": "stream",
          "text": [
            " As the seller is responsible for the courier, they can claim for lost items from the courier. You still have to open a claim through eBay to be protected. Please follow the previous steps. We cant outbound DM. You can DM us if you have any other questions. ^SG 0.9561439156532288\n",
            " Need to contact customer service directly. Please DM contact email for customer service 0.842599630355835\n",
            " 0.842599630355835\n",
            " Hi there. Sorry to hear the item has not arrived. Is there tracking for the item? If not, I'd advise opening an item not received claim. You can learn more about that here&gt; https://t.co/0toc8cKSB0. Any other questions, let us know. ^SG 0.6582105755805969\n",
            " 0.52857506275177\n"
          ],
          "name": "stdout"
        },
        {
          "output_type": "stream",
          "text": [
            "/usr/local/lib/python3.6/dist-packages/gensim/similarities/termsim.py:358: RuntimeWarning: divide by zero encountered in true_divide\n",
            "  Y = np.multiply(Y, 1 / np.sqrt(Y_norm))\n",
            "/usr/local/lib/python3.6/dist-packages/gensim/similarities/termsim.py:358: RuntimeWarning: invalid value encountered in multiply\n",
            "  Y = np.multiply(Y, 1 / np.sqrt(Y_norm))\n"
          ],
          "name": "stderr"
        }
      ]
    },
    {
      "cell_type": "markdown",
      "metadata": {
        "id": "cs1jbHdm3rxG",
        "colab_type": "text"
      },
      "source": [
        "@115938 As the seller is responsible for the courier, they can claim for lost items from the courier. You still have to open a claim through eBay to be protected. Please follow the previous steps. We cant outbound DM. You can DM us if you have any other questions. ^SG 0.9561439156532288\n",
        "\n",
        "@AskeBay Need to contact customer service directly. Please DM contact email for customer service 0.842599630355835\n",
        " 0.842599630355835\n",
        "\n",
        "@115938 Hi there. Sorry to hear the item has not arrived. Is there tracking for the item? If not, I'd advise opening an item not received claim. You can learn more about that here&gt; https://t.co/0toc8cKSB0. Any other questions, let us know. ^SG 0.6582105755805969\n",
        "\n",
        " 0.52857506275177\n",
        "/usr/local/lib/python3.6/dist-packages/gensim/similarities/termsim.py:358: RuntimeWarning: divide by zero encountered in true_divide\n",
        "\n"
      ]
    },
    {
      "cell_type": "code",
      "metadata": {
        "id": "gUScb1EOlTyR",
        "colab_type": "code",
        "outputId": "a5e64618-49a3-467a-cc70-b7a54844753f",
        "colab": {
          "base_uri": "https://localhost:8080/",
          "height": 188
        }
      },
      "source": [
        "query = \"I need an assistance. The item is marked delivery but I never receive it\"\n",
        "\n",
        "pro_query = preprocessing(query)\n",
        "\n",
        "test_vector = test_dictionary.doc2bow(pro_query)\n",
        "\n",
        "test_vector_tfidf = test_tfidf[test_vector]\n",
        "\n",
        "sims = test_docsim_index[test_vector_tfidf]\n",
        "\n",
        "for i, score in sims:\n",
        "  print(ebay_responses[i], score)\n"
      ],
      "execution_count": 0,
      "outputs": [
        {
          "output_type": "stream",
          "text": [
            " Hi there. Sorry to hear the item has not arrived. Is there tracking for the item? If not, I'd advise opening an item not received claim. You can learn more about that here&gt; https://t.co/0toc8cKSB0. Any other questions, let us know. ^SG 0.9377691149711609\n",
            " Need to contact customer service directly. Please DM contact email for customer service 0.6280146837234497\n",
            " 0.448180615901947\n",
            " 0.3625844419002533\n",
            " As the seller is responsible for the courier, they can claim for lost items from the courier. You still have to open a claim through eBay to be protected. Please follow the previous steps. We cant outbound DM. You can DM us if you have any other questions. ^SG 0.27123868465423584\n"
          ],
          "name": "stdout"
        },
        {
          "output_type": "stream",
          "text": [
            "/usr/local/lib/python3.6/dist-packages/gensim/similarities/termsim.py:358: RuntimeWarning: divide by zero encountered in true_divide\n",
            "  Y = np.multiply(Y, 1 / np.sqrt(Y_norm))\n",
            "/usr/local/lib/python3.6/dist-packages/gensim/similarities/termsim.py:358: RuntimeWarning: invalid value encountered in multiply\n",
            "  Y = np.multiply(Y, 1 / np.sqrt(Y_norm))\n"
          ],
          "name": "stderr"
        }
      ]
    },
    {
      "cell_type": "markdown",
      "metadata": {
        "id": "iBgTVyqV1qdE",
        "colab_type": "text"
      },
      "source": [
        "'''\n",
        "@115938 Hi there. Sorry to hear the item has not arrived. Is there tracking for the item? If not, I'd advise opening an item not received claim. You can learn more about that here&gt; https://t.co/0toc8cKSB0. Any other questions, let us know. ^SG 0.9377691149711609\n",
        "\n",
        "@AskeBay Need to contact customer service directly. Please DM contact email for customer service 0.6280146837234497\n",
        "\n",
        " 0.448180615901947\n",
        " 0.3625844419002533\n",
        "@115938 As the seller is responsible for the courier, they can claim for lost items from the courier. You still have to open a claim through eBay to be protected. Please follow the previous steps. We cant outbound DM. You can DM us if you have any other questions. ^SG 0.27123868465423584\n",
        "\n"
      ]
    },
    {
      "cell_type": "code",
      "metadata": {
        "id": "B0u9moTGk9_W",
        "colab_type": "code",
        "outputId": "f7e73e7b-1cb7-4bac-bec8-cdbbc24a0b1d",
        "colab": {
          "base_uri": "https://localhost:8080/",
          "height": 87
        }
      },
      "source": [
        "print(ebay_questions[8])\n",
        "\n",
        "print(test_questions[8])\n",
        "\n",
        "print(test_responses[8])\n"
      ],
      "execution_count": 0,
      "outputs": [
        {
          "output_type": "stream",
          "text": [
            "115938-@AskeBay need assistance. Bought item, due to be delivered Saturday. Never received item, despite being marked as delivered. No response from seller, delivery services cannot assist with lost/missing package. Please advise.\n",
            "['need', 'assistance', 'buy', 'item', 'due', 'deliver', 'saturday', 'never', 'receive', 'item', 'despite', 'mark', 'deliver', 'response', 'seller', 'delivery', 'service', 'assist', 'lostmissing', 'package', 'please', 'advise']\n",
            " Hi there. Sorry to hear the item has not arrived. Is there tracking for the item? If not, I'd advise opening an item not received claim. You can learn more about that here&gt; https://t.co/0toc8cKSB0. Any other questions, let us know. ^SG\n"
          ],
          "name": "stdout"
        }
      ]
    },
    {
      "cell_type": "markdown",
      "metadata": {
        "id": "Vy3eXZAUlsBF",
        "colab_type": "text"
      },
      "source": [
        "# Build the mode with entire corpus"
      ]
    },
    {
      "cell_type": "code",
      "metadata": {
        "id": "5B2hQf1ZlqhE",
        "colab_type": "code",
        "colab": {}
      },
      "source": [
        "dictionary = Dictionary(processed_ebay_questions)\n",
        "\n",
        "tfidf = TfidfModel(dictionary = dictionary)\n",
        "\n",
        "word2vec_model = Word2Vec(processed_ebay_questions\n",
        "                     , workers=cpu_count()\n",
        "                     , min_count=5\n",
        "                     , size=300\n",
        "                     , seed=12345)\n",
        "\n",
        "sim_index = WordEmbeddingSimilarityIndex(word2vec_model.wv)\n",
        "\n",
        "sim_matrix = SparseTermSimilarityMatrix(sim_index\n",
        "                                               , dictionary\n",
        "                                               , tfidf\n",
        "                                               , nonzero_limit=100)\n",
        "\n",
        "bow_corpus = [dictionary.doc2bow(document) for document in processed_ebay_questions]\n",
        "\n",
        "tfidf_corpus = [tfidf[bow] for bow in bow_corpus]\n",
        "\n",
        "docsim_index = SoftCosineSimilarity(tfidf_corpus, sim_matrix, num_best=10)\n"
      ],
      "execution_count": 0,
      "outputs": []
    },
    {
      "cell_type": "markdown",
      "metadata": {
        "id": "LFtTS-RjrLYI",
        "colab_type": "text"
      },
      "source": [
        "# Make an example"
      ]
    },
    {
      "cell_type": "markdown",
      "metadata": {
        "id": "TZhGO7sEwbmX",
        "colab_type": "text"
      },
      "source": [
        "### Example 1"
      ]
    },
    {
      "cell_type": "code",
      "metadata": {
        "id": "3Go_Z_KMmMxy",
        "colab_type": "code",
        "outputId": "b7d03b2b-4081-4808-f8f8-25def3c07744",
        "colab": {
          "base_uri": "https://localhost:8080/",
          "height": 252
        }
      },
      "source": [
        "query1 = \"I need an assistance. The item is marked delivery but I never receive it\"\n",
        "\n",
        "_query1 = preprocessing(query1)\n",
        "\n",
        "vector1 = dictionary.doc2bow(_query1)\n",
        "\n",
        "vector1_tfidf = tfidf[vector1]\n",
        "\n",
        "sims1 = docsim_index[vector1_tfidf]\n",
        "\n",
        "for i, score in sims1:\n",
        "  print(ebay_responses[i], score)"
      ],
      "execution_count": 0,
      "outputs": [
        {
          "output_type": "stream",
          "text": [
            " Eek! As sellers may ship at any time, we leave it up to them to cancel. Keep in contact with them to clarify what's happening. ^B 1.0\n",
            " 1.0\n",
            " 1.0\n",
            " Hi! I know it's important to get this money. Could you DM us with your PayPal email and a screenshot of the funds? Thanks! ^ES 1.0\n",
            " It probably will go out soon. We do try to get it done in 1 business day, but we appreciate the feedback. ^BL 1.0\n",
            " 1.0\n",
            " 1.0\n",
            " That is odd. Was tracking uploaded in the system? ^B 1.0\n",
            " Thanks for the update on this. Sounds like they're still on top of it, correct? Keep us posted. ^CC 1.0\n",
            " 1.0\n"
          ],
          "name": "stdout"
        },
        {
          "output_type": "stream",
          "text": [
            "/usr/local/lib/python3.6/dist-packages/gensim/similarities/termsim.py:358: RuntimeWarning: divide by zero encountered in true_divide\n",
            "  Y = np.multiply(Y, 1 / np.sqrt(Y_norm))\n",
            "/usr/local/lib/python3.6/dist-packages/gensim/similarities/termsim.py:358: RuntimeWarning: invalid value encountered in multiply\n",
            "  Y = np.multiply(Y, 1 / np.sqrt(Y_norm))\n"
          ],
          "name": "stderr"
        }
      ]
    },
    {
      "cell_type": "markdown",
      "metadata": {
        "id": "lhs08coC27U-",
        "colab_type": "text"
      },
      "source": [
        "- If you do run into this and the fee isn't credited, just DM us the details and we'll be happy to take a look! ^B 1.0\n",
        "- We'll take a look! DM us your item #, email address, first/last name and postal code on file with more information. ^B 1.0\n",
        "- I'm sorry to hear you're having these troubles. You should be able to print labels from the app itself. Are you not getting the option when you view the purchase? ^BL 1.0\n",
        "- If an item isn't as described a return may still be needed and we would help with that, but you can see https://t.co/QDgDg5dz42 if you think it's intentional so we can ensure it's not misused. Keep us posted! ^D 1.0\n",
        "- You’re welcome to relist now, just make sure to end the listing if the buyer ends up paying. Once you open the unpaid item case you can close it on the 4th day! ^JN 1.0\n",
        " 1.0\n",
        "- Hi there! Keep in mind, once a case is closed you can't reopen it so you wouldn't be able to ask for a refund for the replacement.^C 1.0\n",
        " 1.0\n",
        "- Apologies if the way I worded things upset you. I can definitely pass your concerns on to my manager but the best course of action is to submit your suggestion to the link I provided so the relevant team gets it and can review it for possible implementation. ^V 1.0\n",
        "- Sorry about that! When did you turn them off? It may take a bit. You may also want to toggle all notifications off, then on. ^S 1.0\n",
        "/usr/local/lib/python3.6/dist-packages/gensim/similarities/termsim.py:358: RuntimeWarning: divide by zero encountered in true_divide\n",
        "  Y = np.multiply(Y, 1 / np.sqrt(Y_norm))\n",
        "/usr/local/lib/python3.6/dist-packages/gensim/similarities/termsim.py:358: RuntimeWarning: invalid value encountered in multiply\n",
        "  Y = np.multiply(Y, 1 / np.sqrt(Y_norm))"
      ]
    },
    {
      "cell_type": "markdown",
      "metadata": {
        "id": "cxYk8taGwPO1",
        "colab_type": "text"
      },
      "source": [
        "### Example 2"
      ]
    },
    {
      "cell_type": "code",
      "metadata": {
        "id": "wAOIf4ujqPDd",
        "colab_type": "code",
        "outputId": "0742a5cc-bc98-4e5c-fab0-197a05f6cf3f",
        "colab": {
          "base_uri": "https://localhost:8080/",
          "height": 272
        }
      },
      "source": [
        "query3 = \"Please repond to DM\"\n",
        "_query3 = preprocessing(query3)\n",
        "\n",
        "vector3 = dictionary.doc2bow(_query3)\n",
        "\n",
        "vectors_tfidf = tfidf[vector3]\n",
        "\n",
        "sims3 = docsim_index[vectors_tfidf]\n",
        "\n",
        "for i, score in sims3:\n",
        "  print(processed_ebay_questions[i], ebay_responses[i], score)"
      ],
      "execution_count": 0,
      "outputs": [
        {
          "output_type": "stream",
          "text": [
            "['get', 'back', 'three', 'time', 'yesterday', 'take', 'hour', 'respond', 'today', 'everyone', 'vacation', 'already']  We're sorry it felt that way! We work to answer messages as quickly as possible. We've just replied to your DM. Let us know if you have other questions for now. ^LB 1.0\n",
            "['open', 'request', 'must', 'unsuspended', 'keep', 'upfated', 'thank', 'team', 'ebay']  No worries, Neil! We'll be here if you need us! ^B 1.0\n",
            "['hello', 'please', 'check', 'msg', 'thank']  Thank you for your message. We have just replied to your DM with more information! ^JL 1.0\n",
            "['anytime', 'day', 'actually', 'think', 'something', 'go', 'sell', 'jack', 'use', 'sell', 'alot', 'search', 'engine', 'attempt', 'compete', 'amazon', 'seem', 'would', 'say', 'go', 'back', 'previous', 'format', 'use', 'original', 'search', 'engine', 'cassinni']  1.0\n",
            "['gsp', 'overpriced', 'inconsistent', 'kill', 'ability', 'shop', 'overseas', 'us', 'check', 'ship', 'small', 'empty', 'box', 'australia', 'need', 'fix', 'ebay', 'ebayglobalshippingprogram', 'httpstcodlubmhouky']  Thank you for your feedback! We always appreciate our members taking the time to help make the site better. ^E 1.0\n",
            "['please', 'help', 'get', 'nectar', 'point', 'rebate', 'back', 'th', 'october', 'go', 'miss', 'sainsburys', 'double', 'event']  Happy to look into this, Rob! Please DM us your registered e-mail, full name, postal code. Thanks! ^BL 1.0\n",
            "['contact', 'buyer', 'two', 'much', 'time', 'response', 'please', 'advise', 'expensive', 'jewelry', 'need', 'return', 'immediately', 'contact', 'police']  We know this has been a concerning situation, and we’re here to help! We’ve responded back in our DM conversation with details. Thank you! ^LL 1.0\n",
            "['askpaypal', 'hold', 'min', 'askpaypal', 'would', 'possible', 'someone', 'fraud', 'team', 'contact', 'please']  Oh no! Please contact our Trust and Safety team ASAP to help correct any issues on your eBay account that weren't caused by you. Thanks! ^AE 1.0\n",
            "['decide', 'request', 'refund', 'would', 'go']  If you’ve already purchased the item, you would need to reach out to your seller in order to request they cancel the transaction. Check here for details https://t.co/YXo2vBhiQM. We’ve also replied your DM. Thanks! ^LL 1.0\n",
            "['excellent', 'customer', 'service', 'morning', 'dispute', 'seller', 'return', 'item', 'advert', 'say', 'base', 'uk', 'return', 'need', 'return', 'china', 'refund', 'take', 'dispute', 'away', 'service', 'thank', 'ebay']  We're so happy to see this, Gayle! Please let us know if you have any questions or concerns. We're always happy to help on Twitter as well! ^AE 1.0\n"
          ],
          "name": "stdout"
        },
        {
          "output_type": "stream",
          "text": [
            "/usr/local/lib/python3.6/dist-packages/gensim/similarities/termsim.py:358: RuntimeWarning: divide by zero encountered in true_divide\n",
            "  Y = np.multiply(Y, 1 / np.sqrt(Y_norm))\n",
            "/usr/local/lib/python3.6/dist-packages/gensim/similarities/termsim.py:358: RuntimeWarning: invalid value encountered in multiply\n",
            "  Y = np.multiply(Y, 1 / np.sqrt(Y_norm))\n"
          ],
          "name": "stderr"
        }
      ]
    },
    {
      "cell_type": "markdown",
      "metadata": {
        "id": "w5afCkQF3aBG",
        "colab_type": "text"
      },
      "source": [
        "['contact', 'several', 'time', 'amp', 'hit', 'brick', 'wall', 'try', 'arrange', 'collection', 'via', 'msg', 'bfr', 'purchase', 'ban', 'amp', 'lose', 'day', 'taking', 'httpstcoskxdicitw']  Hey there! We'd be happy to investigate further if you send us over a DM with details. Sorry if we've missed anything! ^CR 1.0\n",
        "['glad', 'help', 'obstructive', 'rude', 'want', 'escalation', 'contact', 'detail', 'staff', 'refuse', 'give']  1.0\n",
        "\n",
        "['product', 'undelivered', 'purchase', 'remove', 'system', 'unable', 'contact', 'support', 'seller', 'unresponsive', 'need', 'help']  We're here to help! Send us a DM with first/last name, email address, postal/zip code and info about the item and we'll review! ^CR 1.0\n",
        "\n",
        "['dm', 'would', 'return', 'query', 'hope', 'help']  Hey we got it! We'll pick up the conversation over there! ^CR 1.0\n",
        "\n",
        "['poor', 'service', 'restrict', 'high', 'volume', 'seller', 'discuss', 'transaction', 'via', 'msg', 'downhill', 'well', 'service']  We'd be happy to talk with you more about what caused the restriction. Feel free to DM us with more details and we'll review. ^CR 1.0\n",
        "\n",
        "['need', 'change', 'numb', 'since', 'long', 'use', 'find', 'way', 'thati', 'trouble', 'list']  Hey Dewi, thanks for getting in touch. You can update that here: https://t.co/LL6QKfBFMr. Let us know if we can help. ^CM 1.0\n",
        "\n",
        "['use', 'mobile', 'app', 'create', 'list', 'check', 'mobile', 'friendly', 'laptop', 'need', 'fix']  Hey Dennis. What do you mean that if you check the mobile-friendly on the laptop? Can you please send us a screenshot? Thanks ^A 1.0\n",
        "\n",
        "['hey', 'ebay', 'kind', 'need', 'help', 'studiescan', 'give', 'docsinfos', 'datum', 'strategynext', 'move', 'ebay', 'thx', 'lot']  We love that you'll be finding out more about eBay! Check out https://t.co/pRy6K18nod for some great info. Best of luck w/ your studies! ^LB 1.0\n",
        "\n",
        "['bid', 'restriction', 'help', 'find', 'restrict', 'remove', 'thank', 'lot', 'httpstcotyzndsmhk']  Sure! DM us your full name, registered email address, &amp; registered postal code. We're happy to help! ^AE 1.0\n",
        "\n",
        "['yes', 'also', 'report', 'via', 'phone', 'tell', 'would', 'contact', 'response', 'seller']  Since the seller has been notified, it’s up to them to reach out to you if they’d like their item back. ^BT 1.0\n"
      ]
    },
    {
      "cell_type": "code",
      "metadata": {
        "id": "mCJ9P-gOumM9",
        "colab_type": "code",
        "outputId": "c830a4ac-dac3-4e2d-8082-c594bb67e9fa",
        "colab": {
          "base_uri": "https://localhost:8080/",
          "height": 50
        }
      },
      "source": [
        "print(ebay_questions[700])\n",
        "print(ebay_responses[700])"
      ],
      "execution_count": 0,
      "outputs": [
        {
          "output_type": "stream",
          "text": [
            "168920-@AskeBay wait is a perfume bottle considered dangerous material?\n",
            " Looks like you can, if they don't contain alcohol: https://t.co/NBaDNpnGh6. Glad to hear you got it shipped out! ^TL\n"
          ],
          "name": "stdout"
        }
      ]
    },
    {
      "cell_type": "markdown",
      "metadata": {
        "id": "sh7iTKXRwUUB",
        "colab_type": "text"
      },
      "source": [
        "### Example 3"
      ]
    },
    {
      "cell_type": "code",
      "metadata": {
        "id": "FB5NLNf2u4xS",
        "colab_type": "code",
        "outputId": "38b75f6d-914c-453c-f5a3-62b6ea1b9b93",
        "colab": {
          "base_uri": "https://localhost:8080/",
          "height": 272
        }
      },
      "source": [
        "query4 = \"I'm not sure if the bottle of perfume is considered as dangerous material?\"\n",
        "_query4 = preprocessing(query4)\n",
        "vector4 = dictionary.doc2bow(_query4)\n",
        "vector4_tfidf = tfidf[vector4]\n",
        "\n",
        "sims4 = docsim_index[vector4_tfidf]\n",
        "\n",
        "for i, score in sims4:\n",
        "  print(processed_ebay_questions[i], ebay_responses[i], score)"
      ],
      "execution_count": 0,
      "outputs": [
        {
          "output_type": "stream",
          "text": [
            "['wait', 'perfume', 'bottle', 'consider', 'dangerous', 'material']  Looks like you can, if they don't contain alcohol: https://t.co/NBaDNpnGh6. Glad to hear you got it shipped out! ^TL 0.9667293429374695\n",
            "['please', 'see', 'attach', 'field', 'camera', 'give', 'degree', 'angle', 'give', 'lense', 'would', 'almost', 'half', 'sphere', 'protrude', 'lens', 'camera', 'similar', 'one', 'picture', 'false', 'advertise', 'purchase', 'camera', 'httpstcolfgduoab']  0.8126991987228394\n",
            "['light', 'travel', 'straight', 'line', 'light', 'enter', 'degree', 'center', 'degree', 'field', 'lens', 'protude', 'lot', 'camera', 'advertise', 'doe', 'half', 'sphere', 'lens', 'front', 'false', 'advertise']  Thanks for the details. As it seems to be a concern with the manufacturer specs and not the listings themselves, it does not sound like something we can action here. You will want to discuss that with the manufacturer to determine why they claim 170 instead. ^D 0.8126991391181946\n",
            "['duty', 'keep', 'platform', 'clean', 'fraudster', 'choose', 'police', 'invest', 'growth', 'yet', 'forget', 'morality', 'client', 'alone', 'lose', '£', 'worth', 'product', 'many', 'go', 'year', 'need', 'stop']  We appreciate the feedback. ^B 0.8125165700912476\n",
            "['hello', 'receive', 'email', 'ebay', 'say', 'buy', 'something', 'add', 'unauthorized', '3', 'party', 'ask', 'refund', 'already', 'pay', 'already', 'pay', 'ask', 'refund', 'want', 'know', 'credit', 'card', 'information', 'safe', 'thank']  If you’ve paid for the item through the eBay checkout system, your credit card number is never shown to the seller. You can see more information here https://t.co/DaGVu7DXDL on how we keep your information safe. Let us know if you have other questions. Thanks! ^E 0.8112837076187134\n",
            "['category', 'item', 'put', 'look', 'argos', 'tesco', 'etc', 'sell', 'electric', 'knife', 'knife', 'really', 'stupid']  0.7706396579742432\n",
            "['si', 'si', 'caso', 'es', 'que', 'este', 'señor', 'josepchip', 'va', 'ni', 'el', 'correo', 'ustedes', 'sí', 'tienen', 'todos', 'sus', 'datos', 'es', 'más', 'seguro', 'que', 'aún', 'trabaja', 'con', 'ustedes', 'mismo', 'producto', 'algo', 'les', 'pagan', 'porque', 'gratis', 'está', 'quiero', 'saber', 'cómo', 'localizar', 'devolución', 'dinero', 'u', 'otro', 'producto', 'igual']  Comprendo, Paco. ¿Has abierto un caso con en vendedor? ¿Cuál ha sido el resultado de la gestión? Avísanos para que podamos asistirte en ésto. ^JL 0.7477643489837646\n",
            "['anyone', 'andor', 'authority', 'commit', 'grab', 'escalate', 'problem', 'scam', 'vehicle', 'advertiser', 'ball', 'make', 'difference', 'doe', 'look', 'like', 'personally', 'think', 'shameful', 'ebayfarce', 'scam']  0.7341573238372803\n",
            "['need', 'help', 'fellow', 'ebayers', 'anyone', 'sell', 'last', 'ebay', 'buck', 'seller', 'promotion', 'buy', 'sell', 'get', 'either', 'percent', 'recall', 'ebay', 'help', 'try', 'either', 'find', 'hopefully', 'help']  Hey, Donald. Thanks for getting in touch with us. We'd love to help you with this request. Have you received notification of this promotion through my messages? Can you please DM us more details? Thanks ^A 0.6619533896446228\n",
            "['dear', 'lb', 'yet', 'forward', 'eart', 'compendium', 'concept', 'either', 'mr', 'wenig', 'ebay', 'marketingdevelopment', 'department', 'please', 'inform', 'decision', 'soon', 'possible', 'craig', 'waltman', 'ps', 'tweet', 'receive', 'hundred', 'view', 'look']  0.63414067029953\n"
          ],
          "name": "stdout"
        },
        {
          "output_type": "stream",
          "text": [
            "/usr/local/lib/python3.6/dist-packages/gensim/similarities/termsim.py:358: RuntimeWarning: divide by zero encountered in true_divide\n",
            "  Y = np.multiply(Y, 1 / np.sqrt(Y_norm))\n",
            "/usr/local/lib/python3.6/dist-packages/gensim/similarities/termsim.py:358: RuntimeWarning: invalid value encountered in multiply\n",
            "  Y = np.multiply(Y, 1 / np.sqrt(Y_norm))\n"
          ],
          "name": "stderr"
        }
      ]
    },
    {
      "cell_type": "markdown",
      "metadata": {
        "id": "DF_ho1oF3Kiy",
        "colab_type": "text"
      },
      "source": [
        "['wait', 'perfume', 'bottle', 'consider', 'dangerous', 'material']  Looks like you can, if they don't contain alcohol: https://t.co/NBaDNpnGh6. Glad to hear you got it shipped out! ^TL 0.9667293429374695\n",
        "\n",
        "['light', 'travel', 'straight', 'line', 'light', 'enter', 'degree', 'center', 'degree', 'field', 'lens', 'protude', 'lot', 'camera', 'advertise', 'doe', 'half', 'sphere', 'lens', 'front', 'false', 'advertise']  Thanks for the details. As it seems to be a concern with the manufacturer specs and not the listings themselves, it does not sound like something we can action here. You will want to discuss that with the manufacturer to determine why they claim 170 instead. ^D 0.812565803527832\n",
        "\n",
        "['generate', 'fedex', 'label', 'overestimate', 'weight', 'come', 'much', 'light', 'adjust', 'price', 'thank', 'advance']  Yes! FedEx doesn't charge you until the item is delivered, so they'll charge you the correct amount based on the weight. ^BL 0.8121383190155029\n",
        "\n",
        "['constitute', 'special', 'punctuation', 'mean', 'remove', 'normal', 'punctuation', 'like', 'full', 'stop', 'say', 'slash', 'constitute', 'swear', 'please', 'clarify']  It's difficult to identify for sure, but it looks likes the term \"bit cheap\" may not recognize the space there. I't try another word and see if that works! ^D 0.8120605945587158\n",
        "\n",
        "['anytime', 'day', 'actually', 'think', 'something', 'go', 'sell', 'jack', 'use', 'sell', 'alot', 'search', 'engine', 'attempt', 'compete', 'amazon', 'seem', 'would', 'say', 'go', 'back', 'previous', 'format', 'use', 'original', 'search', 'engine', 'cassinni']  0.8106344938278198\n",
        "\n",
        "['amigooo', 'necesito', 'datos', 'de', 'cuenta', 'bancaria', 'para', 'el', 'reintegro', 'es', 'estado', 'actual', 'del', 'producto', 'como', 'llegó', 'destino', 'que', 'patetico', 'ustedes', 'de', 'ebay', 'hay', 'justicia', 'para', 'los', 'vendedores', 'si', 'la', 'hay', 'retiro', 'de', 'sus', 'politicas', 'absurdas']  Hi Nino. Unfortunately our Spanish support isn't available for the rest of the day. Although we recommend that you go here https://t.co/o1PE5TGxBo after logging in to find the details. ^KE 0.7033706903457642\n",
        "['imply', 'ebay', 'feel', 'control', 'fb', 'favor', 'buyer', 'increase', 'revenue', 'let', 'face', 'amazon', 'trump', 'ebayebay', 'decline', 'past', 'year', 'ebay', 'cold', 'amp', 'unappreciative', 'sellersamazon', 'cust', 'serv', 'leave', 'ebay', 'dust', 'light', 'year']  0.6342083811759949\n",
        "['actually', 'week', 'miss', 'since', 'upset', 'barely', 'miss', 'coupon', 'three', 'hour', 'today', 'item', 'go', 'back', 'regular', 'price', 'also']  Sorry to hear that. I understand that would be tough, but hopefully you'll see another coupon/deal soon. ^BL 0.6339040994644165\n",
        "\n",
        "['hello', 'touch', 'base', 'tomorrow', 'item', 'start', 'b', 'relisted', 'putt', 'thougt', 'issue', 'current', 'plan', 'action', 'order', 'upset', 'buyerscustomers', 'likely', 'affect', 'feedback', 'score', 'plan']  Following. Please understand Im doing this to put my customers at ease and protect the intergerty of my feedback. 1) for each item that the ebay computer adds a \"Best Offer\" to I will remove it.\n",
        "2) I will also place a disclaimer in the listing letting customers know it was 0.6336686611175537\n",
        "\n",
        "['ebay', 'list', 'sale', 'day', 'clearly', 'choose', 'general', 'problem', 'atm', 'ebayuk']  Are you listing on the site or app? It's possible that Good 'Til Cancelled is added to your fixed price items automatically. ^S 0.6332412362098694\n",
        "\n"
      ]
    }
  ]
}