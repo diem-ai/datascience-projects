{
 "cells": [
  {
   "cell_type": "markdown",
   "metadata": {},
   "source": [
    "## Introduction\n",
    "\n",
    "This notebook covers:\n",
    "\n",
    "1. Inspecting KMeans Clustering's result with K=2\n",
    "2. Hyperarameter Tuning\n",
    "    - Selecting Inerita with Elbow Method\n",
    "    - Selecting best K with Silhoutte Method\n",
    "    - Distance metrics\n",
    "3. Feature Engineering with KMeans in ML Classification"
   ]
  },
  {
   "cell_type": "code",
   "execution_count": 100,
   "metadata": {},
   "outputs": [],
   "source": [
    "from __future__ import print_function\n",
    "import os\n",
    "import pickle\n",
    "from sklearn.ensemble import RandomForestClassifier\n",
    "from sklearn.metrics import roc_auc_score\n",
    "from sklearn.model_selection import StratifiedShuffleSplit\n",
    "import pandas as pd\n",
    "from sklearn.linear_model import LogisticRegression\n",
    "\n",
    "data_path = ['data']\n",
    "\n",
    "import warnings\n",
    "warnings.filterwarnings('ignore')\n",
    "warnings.simplefilter('ignore')\n"
   ]
  },
  {
   "cell_type": "markdown",
   "metadata": {},
   "source": [
    "## Read preprocessing data from the EDA Notebook"
   ]
  },
  {
   "cell_type": "code",
   "execution_count": 101,
   "metadata": {},
   "outputs": [
    {
     "data": {
      "text/html": [
       "<div>\n",
       "<style scoped>\n",
       "    .dataframe tbody tr th:only-of-type {\n",
       "        vertical-align: middle;\n",
       "    }\n",
       "\n",
       "    .dataframe tbody tr th {\n",
       "        vertical-align: top;\n",
       "    }\n",
       "\n",
       "    .dataframe thead th {\n",
       "        text-align: right;\n",
       "    }\n",
       "</style>\n",
       "<table border=\"1\" class=\"dataframe\">\n",
       "  <thead>\n",
       "    <tr style=\"text-align: right;\">\n",
       "      <th></th>\n",
       "      <th>0</th>\n",
       "      <th>1</th>\n",
       "      <th>2</th>\n",
       "      <th>3</th>\n",
       "      <th>4</th>\n",
       "    </tr>\n",
       "  </thead>\n",
       "  <tbody>\n",
       "    <tr>\n",
       "      <td>fixed_acidity</td>\n",
       "      <td>0.142473</td>\n",
       "      <td>0.451036</td>\n",
       "      <td>0.451036</td>\n",
       "      <td>3.07382</td>\n",
       "      <td>0.142473</td>\n",
       "    </tr>\n",
       "    <tr>\n",
       "      <td>volatile_acidity</td>\n",
       "      <td>2.18883</td>\n",
       "      <td>3.28223</td>\n",
       "      <td>2.5533</td>\n",
       "      <td>-0.362438</td>\n",
       "      <td>2.18883</td>\n",
       "    </tr>\n",
       "    <tr>\n",
       "      <td>citric_acid</td>\n",
       "      <td>-2.19283</td>\n",
       "      <td>-2.19283</td>\n",
       "      <td>-1.91755</td>\n",
       "      <td>1.66109</td>\n",
       "      <td>-2.19283</td>\n",
       "    </tr>\n",
       "    <tr>\n",
       "      <td>residual_sugar</td>\n",
       "      <td>-0.744778</td>\n",
       "      <td>-0.59764</td>\n",
       "      <td>-0.660699</td>\n",
       "      <td>-0.744778</td>\n",
       "      <td>-0.744778</td>\n",
       "    </tr>\n",
       "    <tr>\n",
       "      <td>chlorides</td>\n",
       "      <td>0.569958</td>\n",
       "      <td>1.19797</td>\n",
       "      <td>1.0267</td>\n",
       "      <td>0.541412</td>\n",
       "      <td>0.569958</td>\n",
       "    </tr>\n",
       "    <tr>\n",
       "      <td>free_sulfur_dioxide</td>\n",
       "      <td>-1.10014</td>\n",
       "      <td>-0.31132</td>\n",
       "      <td>-0.874763</td>\n",
       "      <td>-0.762074</td>\n",
       "      <td>-1.10014</td>\n",
       "    </tr>\n",
       "    <tr>\n",
       "      <td>total_sulfur_dioxide</td>\n",
       "      <td>-1.44636</td>\n",
       "      <td>-0.862469</td>\n",
       "      <td>-1.09249</td>\n",
       "      <td>-0.986324</td>\n",
       "      <td>-1.44636</td>\n",
       "    </tr>\n",
       "    <tr>\n",
       "      <td>density</td>\n",
       "      <td>1.03499</td>\n",
       "      <td>0.701486</td>\n",
       "      <td>0.768188</td>\n",
       "      <td>1.10169</td>\n",
       "      <td>1.03499</td>\n",
       "    </tr>\n",
       "    <tr>\n",
       "      <td>pH</td>\n",
       "      <td>1.81309</td>\n",
       "      <td>-0.115073</td>\n",
       "      <td>0.25812</td>\n",
       "      <td>-0.363868</td>\n",
       "      <td>1.81309</td>\n",
       "    </tr>\n",
       "    <tr>\n",
       "      <td>sulphates</td>\n",
       "      <td>0.193097</td>\n",
       "      <td>0.999579</td>\n",
       "      <td>0.797958</td>\n",
       "      <td>0.32751</td>\n",
       "      <td>0.193097</td>\n",
       "    </tr>\n",
       "    <tr>\n",
       "      <td>alcohol</td>\n",
       "      <td>-0.915464</td>\n",
       "      <td>-0.580068</td>\n",
       "      <td>-0.580068</td>\n",
       "      <td>-0.580068</td>\n",
       "      <td>-0.915464</td>\n",
       "    </tr>\n",
       "    <tr>\n",
       "      <td>quality</td>\n",
       "      <td>5</td>\n",
       "      <td>5</td>\n",
       "      <td>5</td>\n",
       "      <td>6</td>\n",
       "      <td>5</td>\n",
       "    </tr>\n",
       "    <tr>\n",
       "      <td>color</td>\n",
       "      <td>red</td>\n",
       "      <td>red</td>\n",
       "      <td>red</td>\n",
       "      <td>red</td>\n",
       "      <td>red</td>\n",
       "    </tr>\n",
       "  </tbody>\n",
       "</table>\n",
       "</div>"
      ],
      "text/plain": [
       "                             0         1         2         3         4\n",
       "fixed_acidity         0.142473  0.451036  0.451036   3.07382  0.142473\n",
       "volatile_acidity       2.18883   3.28223    2.5533 -0.362438   2.18883\n",
       "citric_acid           -2.19283  -2.19283  -1.91755   1.66109  -2.19283\n",
       "residual_sugar       -0.744778  -0.59764 -0.660699 -0.744778 -0.744778\n",
       "chlorides             0.569958   1.19797    1.0267  0.541412  0.569958\n",
       "free_sulfur_dioxide   -1.10014  -0.31132 -0.874763 -0.762074  -1.10014\n",
       "total_sulfur_dioxide  -1.44636 -0.862469  -1.09249 -0.986324  -1.44636\n",
       "density                1.03499  0.701486  0.768188   1.10169   1.03499\n",
       "pH                     1.81309 -0.115073   0.25812 -0.363868   1.81309\n",
       "sulphates             0.193097  0.999579  0.797958   0.32751  0.193097\n",
       "alcohol              -0.915464 -0.580068 -0.580068 -0.580068 -0.915464\n",
       "quality                      5         5         5         6         5\n",
       "color                      red       red       red       red       red"
      ]
     },
     "execution_count": 101,
     "metadata": {},
     "output_type": "execute_result"
    }
   ],
   "source": [
    "pkl_path = os.sep.join(data_path + ['win_quality_preprocessing.pkl'])\n",
    "\n",
    "pkl_file = open(pkl_path, 'rb')\n",
    "\n",
    "data =  pickle.load(pkl_file)\n",
    "\n",
    "data.head().T\n"
   ]
  },
  {
   "cell_type": "markdown",
   "metadata": {},
   "source": [
    "## KMeans Clustering"
   ]
  },
  {
   "cell_type": "markdown",
   "metadata": {},
   "source": [
    "- Fit a K-means clustering model with two clusters.\n",
    "\n",
    "\n",
    "- Examine the clusters by wine color."
   ]
  },
  {
   "cell_type": "code",
   "execution_count": 102,
   "metadata": {},
   "outputs": [
    {
     "data": {
      "text/html": [
       "<div>\n",
       "<style scoped>\n",
       "    .dataframe tbody tr th:only-of-type {\n",
       "        vertical-align: middle;\n",
       "    }\n",
       "\n",
       "    .dataframe tbody tr th {\n",
       "        vertical-align: top;\n",
       "    }\n",
       "\n",
       "    .dataframe thead th {\n",
       "        text-align: right;\n",
       "    }\n",
       "</style>\n",
       "<table border=\"1\" class=\"dataframe\">\n",
       "  <thead>\n",
       "    <tr style=\"text-align: right;\">\n",
       "      <th></th>\n",
       "      <th>0</th>\n",
       "      <th>1</th>\n",
       "      <th>2</th>\n",
       "      <th>3</th>\n",
       "      <th>4</th>\n",
       "    </tr>\n",
       "  </thead>\n",
       "  <tbody>\n",
       "    <tr>\n",
       "      <td>fixed_acidity</td>\n",
       "      <td>0.142473</td>\n",
       "      <td>0.451036</td>\n",
       "      <td>0.451036</td>\n",
       "      <td>3.07382</td>\n",
       "      <td>0.142473</td>\n",
       "    </tr>\n",
       "    <tr>\n",
       "      <td>volatile_acidity</td>\n",
       "      <td>2.18883</td>\n",
       "      <td>3.28223</td>\n",
       "      <td>2.5533</td>\n",
       "      <td>-0.362438</td>\n",
       "      <td>2.18883</td>\n",
       "    </tr>\n",
       "    <tr>\n",
       "      <td>citric_acid</td>\n",
       "      <td>-2.19283</td>\n",
       "      <td>-2.19283</td>\n",
       "      <td>-1.91755</td>\n",
       "      <td>1.66109</td>\n",
       "      <td>-2.19283</td>\n",
       "    </tr>\n",
       "    <tr>\n",
       "      <td>residual_sugar</td>\n",
       "      <td>-0.744778</td>\n",
       "      <td>-0.59764</td>\n",
       "      <td>-0.660699</td>\n",
       "      <td>-0.744778</td>\n",
       "      <td>-0.744778</td>\n",
       "    </tr>\n",
       "    <tr>\n",
       "      <td>chlorides</td>\n",
       "      <td>0.569958</td>\n",
       "      <td>1.19797</td>\n",
       "      <td>1.0267</td>\n",
       "      <td>0.541412</td>\n",
       "      <td>0.569958</td>\n",
       "    </tr>\n",
       "    <tr>\n",
       "      <td>free_sulfur_dioxide</td>\n",
       "      <td>-1.10014</td>\n",
       "      <td>-0.31132</td>\n",
       "      <td>-0.874763</td>\n",
       "      <td>-0.762074</td>\n",
       "      <td>-1.10014</td>\n",
       "    </tr>\n",
       "    <tr>\n",
       "      <td>total_sulfur_dioxide</td>\n",
       "      <td>-1.44636</td>\n",
       "      <td>-0.862469</td>\n",
       "      <td>-1.09249</td>\n",
       "      <td>-0.986324</td>\n",
       "      <td>-1.44636</td>\n",
       "    </tr>\n",
       "    <tr>\n",
       "      <td>density</td>\n",
       "      <td>1.03499</td>\n",
       "      <td>0.701486</td>\n",
       "      <td>0.768188</td>\n",
       "      <td>1.10169</td>\n",
       "      <td>1.03499</td>\n",
       "    </tr>\n",
       "    <tr>\n",
       "      <td>pH</td>\n",
       "      <td>1.81309</td>\n",
       "      <td>-0.115073</td>\n",
       "      <td>0.25812</td>\n",
       "      <td>-0.363868</td>\n",
       "      <td>1.81309</td>\n",
       "    </tr>\n",
       "    <tr>\n",
       "      <td>sulphates</td>\n",
       "      <td>0.193097</td>\n",
       "      <td>0.999579</td>\n",
       "      <td>0.797958</td>\n",
       "      <td>0.32751</td>\n",
       "      <td>0.193097</td>\n",
       "    </tr>\n",
       "    <tr>\n",
       "      <td>alcohol</td>\n",
       "      <td>-0.915464</td>\n",
       "      <td>-0.580068</td>\n",
       "      <td>-0.580068</td>\n",
       "      <td>-0.580068</td>\n",
       "      <td>-0.915464</td>\n",
       "    </tr>\n",
       "    <tr>\n",
       "      <td>quality</td>\n",
       "      <td>5</td>\n",
       "      <td>5</td>\n",
       "      <td>5</td>\n",
       "      <td>6</td>\n",
       "      <td>5</td>\n",
       "    </tr>\n",
       "    <tr>\n",
       "      <td>color</td>\n",
       "      <td>red</td>\n",
       "      <td>red</td>\n",
       "      <td>red</td>\n",
       "      <td>red</td>\n",
       "      <td>red</td>\n",
       "    </tr>\n",
       "    <tr>\n",
       "      <td>kmeans</td>\n",
       "      <td>1</td>\n",
       "      <td>1</td>\n",
       "      <td>1</td>\n",
       "      <td>1</td>\n",
       "      <td>1</td>\n",
       "    </tr>\n",
       "  </tbody>\n",
       "</table>\n",
       "</div>"
      ],
      "text/plain": [
       "                             0         1         2         3         4\n",
       "fixed_acidity         0.142473  0.451036  0.451036   3.07382  0.142473\n",
       "volatile_acidity       2.18883   3.28223    2.5533 -0.362438   2.18883\n",
       "citric_acid           -2.19283  -2.19283  -1.91755   1.66109  -2.19283\n",
       "residual_sugar       -0.744778  -0.59764 -0.660699 -0.744778 -0.744778\n",
       "chlorides             0.569958   1.19797    1.0267  0.541412  0.569958\n",
       "free_sulfur_dioxide   -1.10014  -0.31132 -0.874763 -0.762074  -1.10014\n",
       "total_sulfur_dioxide  -1.44636 -0.862469  -1.09249 -0.986324  -1.44636\n",
       "density                1.03499  0.701486  0.768188   1.10169   1.03499\n",
       "pH                     1.81309 -0.115073   0.25812 -0.363868   1.81309\n",
       "sulphates             0.193097  0.999579  0.797958   0.32751  0.193097\n",
       "alcohol              -0.915464 -0.580068 -0.580068 -0.580068 -0.915464\n",
       "quality                      5         5         5         6         5\n",
       "color                      red       red       red       red       red\n",
       "kmeans                       1         1         1         1         1"
      ]
     },
     "execution_count": 102,
     "metadata": {},
     "output_type": "execute_result"
    }
   ],
   "source": [
    "\n",
    "float_columns = [x for x in data.columns if x not in ['color', 'quality']]\n",
    "\n",
    "km = KMeans(n_clusters=2, random_state=42)\n",
    "\n",
    "data['kmeans'] = km.fit_predict(data[float_columns])\n",
    "\n",
    "data.loc[:4].T"
   ]
  },
  {
   "cell_type": "code",
   "execution_count": 103,
   "metadata": {},
   "outputs": [
    {
     "data": {
      "text/html": [
       "<div>\n",
       "<style scoped>\n",
       "    .dataframe tbody tr th:only-of-type {\n",
       "        vertical-align: middle;\n",
       "    }\n",
       "\n",
       "    .dataframe tbody tr th {\n",
       "        vertical-align: top;\n",
       "    }\n",
       "\n",
       "    .dataframe thead th {\n",
       "        text-align: right;\n",
       "    }\n",
       "</style>\n",
       "<table border=\"1\" class=\"dataframe\">\n",
       "  <thead>\n",
       "    <tr style=\"text-align: right;\">\n",
       "      <th></th>\n",
       "      <th></th>\n",
       "      <th>number</th>\n",
       "    </tr>\n",
       "    <tr>\n",
       "      <th>color</th>\n",
       "      <th>kmeans</th>\n",
       "      <th></th>\n",
       "    </tr>\n",
       "  </thead>\n",
       "  <tbody>\n",
       "    <tr>\n",
       "      <td rowspan=\"2\" valign=\"top\">red</td>\n",
       "      <td>0</td>\n",
       "      <td>24</td>\n",
       "    </tr>\n",
       "    <tr>\n",
       "      <td>1</td>\n",
       "      <td>1575</td>\n",
       "    </tr>\n",
       "    <tr>\n",
       "      <td rowspan=\"2\" valign=\"top\">white</td>\n",
       "      <td>0</td>\n",
       "      <td>4831</td>\n",
       "    </tr>\n",
       "    <tr>\n",
       "      <td>1</td>\n",
       "      <td>67</td>\n",
       "    </tr>\n",
       "  </tbody>\n",
       "</table>\n",
       "</div>"
      ],
      "text/plain": [
       "              number\n",
       "color kmeans        \n",
       "red   0           24\n",
       "      1         1575\n",
       "white 0         4831\n",
       "      1           67"
      ]
     },
     "execution_count": 103,
     "metadata": {},
     "output_type": "execute_result"
    }
   ],
   "source": [
    "(data[['color','kmeans']]\n",
    " .groupby(['color','kmeans'])\n",
    " .size()\n",
    " .to_frame()\n",
    " .rename(columns={0:'number'}))"
   ]
  },
  {
   "cell_type": "code",
   "execution_count": 104,
   "metadata": {},
   "outputs": [
    {
     "data": {
      "text/plain": [
       "<matplotlib.axes._subplots.AxesSubplot at 0x1ed81531b48>"
      ]
     },
     "execution_count": 104,
     "metadata": {},
     "output_type": "execute_result"
    },
    {
     "data": {
      "image/png": "[encoded data removed]",
      "text/plain": [
       "<Figure size 432x288 with 1 Axes>"
      ]
     },
     "metadata": {},
     "output_type": "display_data"
    }
   ],
   "source": [
    "(data[['color', 'kmeans']]\n",
    ".groupby(['color', 'kmeans'])\n",
    ".size()\n",
    ".to_frame()\n",
    ".rename(columns={0: 'number'}).plot(kind='barh'))"
   ]
  },
  {
   "cell_type": "code",
   "execution_count": 105,
   "metadata": {},
   "outputs": [
    {
     "data": {
      "text/plain": [
       "<matplotlib.axes._subplots.AxesSubplot at 0x1ed815830c8>"
      ]
     },
     "execution_count": 105,
     "metadata": {},
     "output_type": "execute_result"
    },
    {
     "data": {
      "image/png": "[encoded data removed]",
      "text/plain": [
       "<Figure size 432x288 with 1 Axes>"
      ]
     },
     "metadata": {},
     "output_type": "display_data"
    }
   ],
   "source": [
    "(data[['quality', 'kmeans']]\n",
    ".groupby(['quality', 'kmeans'])\n",
    ".size()\n",
    ".to_frame()\n",
    ".rename(columns={0: 'number'}).plot(kind='barh'))"
   ]
  },
  {
   "cell_type": "markdown",
   "metadata": {},
   "source": [
    "**Observation**\n",
    "\n",
    "- By choosing k=2, we can see that white wine is mainly distributed in cluster 1 meanwhile, datapoints of red wine is mostly distributed in cluster 2\n",
    "\n",
    "- The number of datapoints in cluster 2 are just a half of cluster 1. "
   ]
  },
  {
   "cell_type": "code",
   "execution_count": 106,
   "metadata": {},
   "outputs": [
    {
     "data": {
      "text/plain": [
       "<matplotlib.axes._subplots.AxesSubplot at 0x1ed815ca288>"
      ]
     },
     "execution_count": 106,
     "metadata": {},
     "output_type": "execute_result"
    },
    {
     "data": {
      "image/png": "[encoded data removed]",
      "text/plain": [
       "<Figure size 432x288 with 1 Axes>"
      ]
     },
     "metadata": {},
     "output_type": "display_data"
    }
   ],
   "source": [
    "pd.crosstab(data['quality'], data['color']).plot(kind='bar', color=['red', 'gray'])"
   ]
  },
  {
   "cell_type": "markdown",
   "metadata": {},
   "source": [
    "### Hyperparameter Tuning\n",
    "\n",
    "We have to select the best number of clusters with the help of inertia, silhouette score and distance metrics"
   ]
  },
  {
   "cell_type": "markdown",
   "metadata": {},
   "source": [
    "#### 1. Selecting Inerita with Elbow Method\n",
    "\n",
    "- Pick range of candidate values of K (e.g. 1 to 20)\n",
    "- Calculate average distance from centroid for each value\n",
    "- Plot and find elbow\n"
   ]
  },
  {
   "cell_type": "markdown",
   "metadata": {},
   "source": [
    "- Now fit K-Means models with cluster values ranging from 1 to 20.\n",
    "- For each model, store the number of clusters and the inertia value.\n",
    "- Plot cluster number vs inertia. Does there appear to be an ideal cluster number?"
   ]
  },
  {
   "cell_type": "code",
   "execution_count": 107,
   "metadata": {},
   "outputs": [],
   "source": [
    "# Create and fit a range of models\n",
    "km_list = list()\n",
    "ns = range(1,20)\n",
    "kmean_state = 42\n",
    "\n",
    "for clust in ns:\n",
    "    \n",
    "    km = KMeans(n_clusters=clust, random_state = kmean_state)\n",
    "    \n",
    "    km = km.fit(data[float_columns])\n",
    "    \n",
    "    km_list.append(pd.Series({'clusters': clust, \n",
    "                              'inertia': km.inertia_,\n",
    "                              'model': km}))"
   ]
  },
  {
   "cell_type": "code",
   "execution_count": 108,
   "metadata": {},
   "outputs": [
    {
     "data": {
      "image/png": "[encoded data removed]",
      "text/plain": [
       "<Figure size 432x288 with 1 Axes>"
      ]
     },
     "metadata": {},
     "output_type": "display_data"
    }
   ],
   "source": [
    "plot_data = (pd.concat(km_list, axis=1)\n",
    "             .T\n",
    "             [['clusters','inertia']]\n",
    "             .set_index('clusters'))\n",
    "\n",
    "ax = plot_data.plot(marker='o',ls='-')\n",
    "ax.set_xticks(range(0,21,2))\n",
    "\n",
    "ax.set_xlim(0,21)\n",
    "ax.set(xlabel='Cluster', ylabel='Inertia');"
   ]
  },
  {
   "cell_type": "markdown",
   "metadata": {},
   "source": [
    "**Observation**: \n",
    "- When we changed the cluster value from 1 to 2, the inertia value reduced very sharply. This decrease in the inertia value reduces and eventually becomes constant as we increase the number of clusters further.\n",
    "\n",
    "\n",
    "- Here, we can choose any number of clusters between 4 and 8. You must also look at the computation cost while deciding the number of clusters. If we increase the number of clusters, the computation cost will also increase. So, if you do not have high computational resources, my advice is to choose a lesser number of clusters."
   ]
  },
  {
   "cell_type": "markdown",
   "metadata": {},
   "source": [
    "#### 2. Selecting best K with Silhoutte Method\n",
    "\n",
    "- Pick range of candidate values of K (e.g.1 to 10)\n",
    "- Plot silhouettes for each value of K Ideal value of silhouette = 1\n",
    "- The score runs -1 to 1. The worst value is -1 and the best value is 1. Value near 0 means clusters are overlapping. Negative values generally indicate that a sample has been assigned to the wrong cluster, as a different cluster is more similar\n",
    "\n"
   ]
  },
  {
   "cell_type": "markdown",
   "metadata": {},
   "source": [
    "**Selecting the number of clusters in range of 2 and 8 with silhouette analysis <code>sklearn.metrics.silhouette_score</code> on KMeans clustering**\n",
    "\n",
    "- How does sihouette_score help to select the best cluster number in KMeans? It computes the mean between datapoints to centroid in the sample cluster Silhouette Coefficient of all samples\n",
    "\n",
    "\n",
    "- How can we intepret sihouette score? The score runs -1 to 1. The worst value is -1 and the best value is 1. Value near 0 means clusters are overlapping. Negative values generally indicate that a sample has been assigned to the wrong cluster, as a different cluster is more similar"
   ]
  },
  {
   "cell_type": "code",
   "execution_count": 109,
   "metadata": {
    "scrolled": false
   },
   "outputs": [],
   "source": [
    "def silhoutte_4_kmean(n_clusters, data):\n",
    "    \n",
    "    silhouettes = {}\n",
    "    selected_ns = range(2, n_clusters)\n",
    "    \n",
    "    for clust in selected_ns:\n",
    "\n",
    "        clusterer = KMeans(n_clusters = clust\n",
    "                           , random_state = kmean_state\n",
    "                           , init='k-means++')\n",
    "\n",
    "        cluster_labels = clusterer.fit_predict(data)\n",
    "\n",
    "        silhouette_avg = silhouette_score(data, cluster_labels)\n",
    "\n",
    "        silhouettes.update({clust: silhouette_avg})     \n",
    "\n",
    "    return sorted(silhouettes.items(), key = lambda item : item[1])"
   ]
  },
  {
   "cell_type": "code",
   "execution_count": 110,
   "metadata": {},
   "outputs": [
    {
     "data": {
      "text/plain": [
       "[(6, 0.17441943513502067),\n",
       " (7, 0.1802088065495668),\n",
       " (5, 0.18032635697467655),\n",
       " (3, 0.23507051305670537),\n",
       " (4, 0.24752476415517888),\n",
       " (2, 0.2765206322693147)]"
      ]
     },
     "execution_count": 110,
     "metadata": {},
     "output_type": "execute_result"
    }
   ],
   "source": [
    "silhoutte_4_kmean(8, data[float_columns])"
   ]
  },
  {
   "cell_type": "markdown",
   "metadata": {},
   "source": [
    "**Observation**\n",
    "\n",
    "- The best cluster that provides the highest sihouette score is 2.\n",
    "\n",
    "- In above KMeans, Euclidean distance is used by default to calculate the Sihouette Coefficient in KMeans if we don't specify a distance metric.\n",
    "\n",
    "- We will experiment KMeans with some other distance metrics such as Manhattan, Cosine and Jaccard.\n",
    "\n",
    "- **How do distance metrics impact on the Clustering?**"
   ]
  },
  {
   "cell_type": "markdown",
   "metadata": {},
   "source": [
    "#### 3. Distance metrics "
   ]
  },
  {
   "cell_type": "markdown",
   "metadata": {},
   "source": [
    "- Choice of distance metric is extremely important to clustering success\n",
    "- Each metric has strengths and most appropriate use-cases but sometimes choice of distance metric is also based on empirical evaluation\n"
   ]
  },
  {
   "cell_type": "markdown",
   "metadata": {},
   "source": [
    "**1. Euclidean distance**\n",
    "- The Euclidean distance is the square root of sums of squares of pairs of values from rows or columns.\n",
    "- Data normalization and missing values processing must be taken into account before using this metric\n",
    "\n",
    "\n"
   ]
  },
  {
   "cell_type": "markdown",
   "metadata": {},
   "source": [
    "**2. Cosine distance**\n",
    "\n",
    "- Cosine similarity is the dot product divided by the product of lengths (where the length is the square of dot product of a row/column with itself). Cosine distance is computed by subtracting the similarity from 1.\n",
    "\n",
    "- In calculation of dot products, missing values are replaced by means. In calculation of lengths, the contribution of a missing value equals the square of the mean plus the variance."
   ]
  },
  {
   "cell_type": "markdown",
   "metadata": {},
   "source": [
    "**Euclidean vs Cosine Distance**\n",
    "\n",
    "- Euclidean is useful for coordinate based measurements\n",
    "- Cosine is better for data such as text where location of occurrence is less important\n",
    "- Euclidean distance is more sensitive to curse of dimensionality\n"
   ]
  },
  {
   "cell_type": "markdown",
   "metadata": {},
   "source": [
    "**3. Jaccard distance**\n",
    "- Jaccard similarity between two sets X and Y is defined as the size of their intersection (X ∩ Y) divided by the size of the union (X ∪ Y). Jaccard distance is computed by subtracting the similarity from 1.\n",
    "\n",
    "- Applies to sets (like word occurrence):\n",
    "\n",
    "    ▪ Sentence A: “I like chocolate ice cream.”\n",
    "    \n",
    "    ▪ set A = {I, like, chocolate, ice, cream}\n",
    "    \n",
    "    ▪ Sentence B: “Do I want chocolate cream or vanilla cream?”\n",
    "    \n",
    "    ▪ set B = {Do, I, want, chocolate, cream, or, vanilla}\n",
    "    \n",
    "    ▪ Jaccard distance(sentence A, sentence B) = 1 - ( 𝐴 ∩ B)/ (𝐴 ∪ 𝐵) = 1 - 3/9 \n",
    "\n",
    " "
   ]
  },
  {
   "cell_type": "markdown",
   "metadata": {},
   "source": [
    "**4. Manhattan distance**\n",
    "- It is the sum of absolute pairwise distances.\n",
    "\n",
    "    \n",
    "- Normalization and treatment of missing values is similar as in the Euclidean distance, except that medians and median absolute distance from the median (MAD) are used instead of means and deviations.\n",
    "    \n",
    "    \n",
    "- For discrete values, distances are again 0 or 1, hence the Manhattan distance for discrete columns is the same as the Euclidean.\n",
    "\n"
   ]
  },
  {
   "cell_type": "code",
   "execution_count": 111,
   "metadata": {},
   "outputs": [],
   "source": [
    "def silhouette_4_kmean_with_metrics(n_clusters\n",
    "                       , distance_metrics\n",
    "                       , data):\n",
    "    '''\n",
    "    @n_cluster: int: the number of clusters are use in K_mean\n",
    "    @distance_metrics : list : a list of specified distance metric\n",
    "    @data: 1D array : A sample data\n",
    "    '''\n",
    "    total_score = {}\n",
    "    \n",
    "    ns = range(2, n_clusters + 1 )\n",
    "    \n",
    "    for metric in distance_metrics:\n",
    "        \n",
    "        silhouettes = {}\n",
    "\n",
    "        for clust in ns:\n",
    "\n",
    "            clusterer = KMeans(n_clusters = clust, init='k-means++', random_state = kmean_state)\n",
    "            \n",
    "            cluster_labels = clusterer.fit_predict(data)\n",
    "\n",
    "            silhouette_avg = silhouette_score(data, cluster_labels,  metric = metric)\n",
    "            #keep the average score in the dictionry\n",
    "            silhouettes.update({clust : silhouette_avg}) \n",
    "\n",
    "            # sort the dictionary\n",
    "        s_silhouettes = sorted(silhouettes.items(), key = lambda item : item[1], reverse=True)\n",
    "        total_score.update({metric : s_silhouettes[0]})\n",
    "        \n",
    "    return total_score"
   ]
  },
  {
   "cell_type": "code",
   "execution_count": 112,
   "metadata": {},
   "outputs": [
    {
     "data": {
      "text/plain": [
       "{'euclidean': (2, 0.2765206322693147),\n",
       " 'jaccard': (2, 0.0),\n",
       " 'manhattan': (2, 0.3055458866243606),\n",
       " 'cosine': (3, 0.39314364693531917)}"
      ]
     },
     "execution_count": 112,
     "metadata": {},
     "output_type": "execute_result"
    }
   ],
   "source": [
    "silhouette_4_kmean_with_metrics(8\n",
    "                        , [\"euclidean\", \"jaccard\", \"manhattan\", \"cosine\"]\n",
    "                        , data[float_columns])"
   ]
  },
  {
   "cell_type": "markdown",
   "metadata": {},
   "source": [
    "**Observation**:\n",
    "\n",
    "- The sihoutte score is highest with KMeans=3 and distance metric = cosine distance\n",
    "- The optimal cluster number is selected differently among metrics"
   ]
  },
  {
   "cell_type": "markdown",
   "metadata": {},
   "source": [
    "### Feature Engineering with Clustering in Classification"
   ]
  },
  {
   "cell_type": "markdown",
   "metadata": {},
   "source": [
    "In this section, we are going to explore clustering as a form of feature engineering.\n",
    "\n",
    "- Create a binary target variable y, denoting if the quality is greater than 6 or not.\n",
    "- Create a variable called X_with_kmeans from data, by dropping the columns \"quality\", \"color\"  from the dataset.\n",
    "- Create X_without_kmeans from that by dropping \"kmeans\".\n",
    "- For both datasets, using StratifiedShuffleSplit with 10 splits, fit 10 Random Forest Classifiers and average out the roc-auc scores.\n",
    "- Compare the average roc-auc scores for the models using the kmeans clusters as a feature and the one that doesn't use it."
   ]
  },
  {
   "cell_type": "code",
   "execution_count": 113,
   "metadata": {},
   "outputs": [
    {
     "data": {
      "text/plain": [
       "0    5220\n",
       "1    1277\n",
       "Name: quality, dtype: int64"
      ]
     },
     "execution_count": 113,
     "metadata": {},
     "output_type": "execute_result"
    }
   ],
   "source": [
    "# 1) binary target varibale y\n",
    "# y=0 denotes wine quality between 3 and 6\n",
    "# y=1 denotes wine quality between 7 and 9\n",
    "y = (data['quality'] > 6).astype(int)\n",
    "y.value_counts()"
   ]
  },
  {
   "cell_type": "code",
   "execution_count": 114,
   "metadata": {},
   "outputs": [
    {
     "data": {
      "text/html": [
       "<div>\n",
       "<style scoped>\n",
       "    .dataframe tbody tr th:only-of-type {\n",
       "        vertical-align: middle;\n",
       "    }\n",
       "\n",
       "    .dataframe tbody tr th {\n",
       "        vertical-align: top;\n",
       "    }\n",
       "\n",
       "    .dataframe thead th {\n",
       "        text-align: right;\n",
       "    }\n",
       "</style>\n",
       "<table border=\"1\" class=\"dataframe\">\n",
       "  <thead>\n",
       "    <tr style=\"text-align: right;\">\n",
       "      <th></th>\n",
       "      <th>fixed_acidity</th>\n",
       "      <th>volatile_acidity</th>\n",
       "      <th>citric_acid</th>\n",
       "      <th>residual_sugar</th>\n",
       "      <th>chlorides</th>\n",
       "      <th>free_sulfur_dioxide</th>\n",
       "      <th>total_sulfur_dioxide</th>\n",
       "      <th>density</th>\n",
       "      <th>pH</th>\n",
       "      <th>sulphates</th>\n",
       "      <th>alcohol</th>\n",
       "      <th>kmeans</th>\n",
       "    </tr>\n",
       "  </thead>\n",
       "  <tbody>\n",
       "    <tr>\n",
       "      <td>0</td>\n",
       "      <td>0.142473</td>\n",
       "      <td>2.188833</td>\n",
       "      <td>-2.192833</td>\n",
       "      <td>-0.744778</td>\n",
       "      <td>0.569958</td>\n",
       "      <td>-1.100140</td>\n",
       "      <td>-1.446359</td>\n",
       "      <td>1.034993</td>\n",
       "      <td>1.813090</td>\n",
       "      <td>0.193097</td>\n",
       "      <td>-0.915464</td>\n",
       "      <td>0</td>\n",
       "    </tr>\n",
       "    <tr>\n",
       "      <td>1</td>\n",
       "      <td>0.451036</td>\n",
       "      <td>3.282235</td>\n",
       "      <td>-2.192833</td>\n",
       "      <td>-0.597640</td>\n",
       "      <td>1.197975</td>\n",
       "      <td>-0.311320</td>\n",
       "      <td>-0.862469</td>\n",
       "      <td>0.701486</td>\n",
       "      <td>-0.115073</td>\n",
       "      <td>0.999579</td>\n",
       "      <td>-0.580068</td>\n",
       "      <td>0</td>\n",
       "    </tr>\n",
       "    <tr>\n",
       "      <td>2</td>\n",
       "      <td>0.451036</td>\n",
       "      <td>2.553300</td>\n",
       "      <td>-1.917553</td>\n",
       "      <td>-0.660699</td>\n",
       "      <td>1.026697</td>\n",
       "      <td>-0.874763</td>\n",
       "      <td>-1.092486</td>\n",
       "      <td>0.768188</td>\n",
       "      <td>0.258120</td>\n",
       "      <td>0.797958</td>\n",
       "      <td>-0.580068</td>\n",
       "      <td>0</td>\n",
       "    </tr>\n",
       "    <tr>\n",
       "      <td>3</td>\n",
       "      <td>3.073817</td>\n",
       "      <td>-0.362438</td>\n",
       "      <td>1.661085</td>\n",
       "      <td>-0.744778</td>\n",
       "      <td>0.541412</td>\n",
       "      <td>-0.762074</td>\n",
       "      <td>-0.986324</td>\n",
       "      <td>1.101694</td>\n",
       "      <td>-0.363868</td>\n",
       "      <td>0.327510</td>\n",
       "      <td>-0.580068</td>\n",
       "      <td>0</td>\n",
       "    </tr>\n",
       "    <tr>\n",
       "      <td>4</td>\n",
       "      <td>0.142473</td>\n",
       "      <td>2.188833</td>\n",
       "      <td>-2.192833</td>\n",
       "      <td>-0.744778</td>\n",
       "      <td>0.569958</td>\n",
       "      <td>-1.100140</td>\n",
       "      <td>-1.446359</td>\n",
       "      <td>1.034993</td>\n",
       "      <td>1.813090</td>\n",
       "      <td>0.193097</td>\n",
       "      <td>-0.915464</td>\n",
       "      <td>0</td>\n",
       "    </tr>\n",
       "  </tbody>\n",
       "</table>\n",
       "</div>"
      ],
      "text/plain": [
       "   fixed_acidity  volatile_acidity  citric_acid  residual_sugar  chlorides  \\\n",
       "0       0.142473          2.188833    -2.192833       -0.744778   0.569958   \n",
       "1       0.451036          3.282235    -2.192833       -0.597640   1.197975   \n",
       "2       0.451036          2.553300    -1.917553       -0.660699   1.026697   \n",
       "3       3.073817         -0.362438     1.661085       -0.744778   0.541412   \n",
       "4       0.142473          2.188833    -2.192833       -0.744778   0.569958   \n",
       "\n",
       "   free_sulfur_dioxide  total_sulfur_dioxide   density        pH  sulphates  \\\n",
       "0            -1.100140             -1.446359  1.034993  1.813090   0.193097   \n",
       "1            -0.311320             -0.862469  0.701486 -0.115073   0.999579   \n",
       "2            -0.874763             -1.092486  0.768188  0.258120   0.797958   \n",
       "3            -0.762074             -0.986324  1.101694 -0.363868   0.327510   \n",
       "4            -1.100140             -1.446359  1.034993  1.813090   0.193097   \n",
       "\n",
       "    alcohol  kmeans  \n",
       "0 -0.915464       0  \n",
       "1 -0.580068       0  \n",
       "2 -0.580068       0  \n",
       "3 -0.580068       0  \n",
       "4 -0.915464       0  "
      ]
     },
     "execution_count": 114,
     "metadata": {},
     "output_type": "execute_result"
    }
   ],
   "source": [
    "# 2) Create X_with_kmeans\n",
    "# Initialize KMeans with K=3\n",
    "km = KMeans(n_clusters = 3, random_state = kmean_state)\n",
    "X_without_kmeans = data[float_columns]\n",
    "# Add kmeans column to X_with_kmeans \n",
    "X_with_kmeans = data[float_columns]\n",
    "X_with_kmeans['kmeans'] = km.fit_predict(data[float_columns])\n",
    "X_with_kmeans.head()"
   ]
  },
  {
   "cell_type": "code",
   "execution_count": 115,
   "metadata": {},
   "outputs": [
    {
     "name": "stdout",
     "output_type": "stream",
     "text": [
      "Without kmeans cluster as input to Random Forest, roc-auc is \"0.8165244851532567\"\n",
      "Using kmeans cluster as input to Random Forest, roc-auc is \"0.8178505148467432\"\n"
     ]
    }
   ],
   "source": [
    "# 4) Split dataset into trainset and testset with StratifiedShuffleSplit\n",
    "# 4) Fit them to RandomeForestClassifier\n",
    "# 4) Compute ROCAUC score\n",
    "def get_avg_roc_10splits(estimator, X, y):\n",
    "    \n",
    "    sss = StratifiedShuffleSplit(n_splits = 10, random_state = kmean_state)\n",
    "    roc_auc_list = []\n",
    "    \n",
    "    for train_index, test_index in sss.split(X, y):     \n",
    "        X_train, X_test = X.iloc[train_index], X.iloc[test_index]\n",
    "        y_train, y_test = y.iloc[train_index], y.iloc[test_index]\n",
    "        estimator.fit(X_train, y_train)\n",
    "        y_predicted = estimator.predict(X_test)\n",
    "        y_scored = estimator.predict_proba(X_test)[:, 1]\n",
    "        roc_auc_list.append(roc_auc_score(y_test, y_scored))\n",
    "        \n",
    "    return np.mean(roc_auc_list)\n",
    "\n",
    "\n",
    "estimator = LogisticRegression()\n",
    "\n",
    "roc_with_kmeans = get_avg_roc_10splits(estimator, X_with_kmeans, y)\n",
    "\n",
    "roc_without_kmeans = get_avg_roc_10splits(estimator, X_without_kmeans, y)\n",
    "\n",
    "print(\"Without kmeans cluster as input to Random Forest, roc-auc is \\\"{0}\\\"\".format(roc_without_kmeans))\n",
    "print(\"Using kmeans cluster as input to Random Forest, roc-auc is \\\"{0}\\\"\".format(roc_with_kmeans))"
   ]
  },
  {
   "cell_type": "markdown",
   "metadata": {},
   "source": [
    "**Let's now explore if the number of clusters have an effect in this improvement.**\n",
    "\n",
    "* Create the basis training set from `data` by restricting to float_columns.\n",
    "* For $n = 1, \\ldots, 20$, fit a kmeans algotihm with n clusters. One hot encode it and add it to the **basis** training set. Don't add it to the previous iteration.\n",
    "* Fit 10 **Logistic Regression** models and compute the average roc-auc-score.\n",
    "* Plot the average roc-auc scores."
   ]
  },
  {
   "cell_type": "code",
   "execution_count": 116,
   "metadata": {},
   "outputs": [
    {
     "data": {
      "image/png": "[encoded data removed]",
      "text/plain": [
       "<Figure size 432x288 with 1 Axes>"
      ]
     },
     "metadata": {},
     "output_type": "display_data"
    }
   ],
   "source": [
    "from sklearn.linear_model import LogisticRegression\n",
    "\n",
    "X_basis = data[float_columns]\n",
    "\n",
    "def create_kmeans_columns(data, n):\n",
    "    \n",
    "    km = KMeans(n_clusters=n, random_state = kmean_state)\n",
    "    km_col = pd.Series(km.fit_predict(data))\n",
    "    km_cols = pd.get_dummies(km_col, prefix='kmeans_cluster')\n",
    "    return pd.concat([data, km_cols], axis=1)\n",
    "\n",
    "\n",
    "estimator = LogisticRegression()\n",
    "ns = range(1, 21)\n",
    "roc_auc_list = [get_avg_roc_10splits(estimator, create_kmeans_columns(X_basis, n), y)\n",
    "                for n in ns]\n",
    "\n",
    "\n",
    "# seaborn styles\n",
    "sns.set_context('notebook')\n",
    "sns.set_style('white')\n",
    "sns.set_palette('dark')\n",
    "\n",
    "ax = plt.axes()\n",
    "ax.plot(ns, roc_auc_list)\n",
    "ax.set(\n",
    "    xticklabels= ns,\n",
    "    xlabel='number of clusters as features',\n",
    "    ylabel='average roc-auc over 10 iterations',\n",
    "    title='KMeans + LogisticRegression'\n",
    ")\n",
    "ax.grid(True)"
   ]
  },
  {
   "cell_type": "code",
   "execution_count": 117,
   "metadata": {},
   "outputs": [
    {
     "data": {
      "image/png": "[encoded data removed]",
      "text/plain": [
       "<Figure size 432x288 with 1 Axes>"
      ]
     },
     "metadata": {},
     "output_type": "display_data"
    }
   ],
   "source": [
    "estimator = RandomForestClassifier()\n",
    "\n",
    "roc_auc_list = [get_avg_roc_10splits(estimator, create_kmeans_columns(X_basis, n), y)\n",
    "                for n in ns]\n",
    "\n",
    "# seaborn styles\n",
    "sns.set_context('notebook')\n",
    "sns.set_style('white')\n",
    "sns.set_palette('dark')\n",
    "\n",
    "ax = plt.axes()\n",
    "ax.plot(ns, roc_auc_list)\n",
    "ax.set(\n",
    "    xticklabels= ns,\n",
    "    xlabel='number of clusters as features',\n",
    "    ylabel='average roc-auc over 10 iterations',\n",
    "    title='KMeans + RandomForestClassifier'\n",
    ")\n",
    "ax.grid(True)"
   ]
  },
  {
   "cell_type": "code",
   "execution_count": null,
   "metadata": {},
   "outputs": [],
   "source": []
  }
 ],
 "metadata": {
  "kernelspec": {
   "display_name": "Python 3",
   "language": "python",
   "name": "python3"
  },
  "language_info": {
   "codemirror_mode": {
    "name": "ipython",
    "version": 3
   },
   "file_extension": ".py",
   "mimetype": "text/x-python",
   "name": "python",
   "nbconvert_exporter": "python",
   "pygments_lexer": "ipython3",
   "version": "3.7.4"
  }
 },
 "nbformat": 4,
 "nbformat_minor": 2
}
